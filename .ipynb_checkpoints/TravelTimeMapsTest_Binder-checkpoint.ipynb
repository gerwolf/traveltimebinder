{
 "cells": [
  {
   "cell_type": "code",
   "execution_count": 1,
   "id": "fe3ef307",
   "metadata": {},
   "outputs": [
    {
     "data": {
      "text/html": [
       "        <script type=\"text/javascript\">\n",
       "        window.PlotlyConfig = {MathJaxConfig: 'local'};\n",
       "        if (window.MathJax) {MathJax.Hub.Config({SVG: {font: \"STIX-Web\"}});}\n",
       "        if (typeof require !== 'undefined') {\n",
       "        require.undef(\"plotly\");\n",
       "        requirejs.config({\n",
       "            paths: {\n",
       "                'plotly': ['https://cdn.plot.ly/plotly-2.4.2.min']\n",
       "            }\n",
       "        });\n",
       "        require(['plotly'], function(Plotly) {\n",
       "            window._Plotly = Plotly;\n",
       "        });\n",
       "        }\n",
       "        </script>\n",
       "        "
      ]
     },
     "metadata": {},
     "output_type": "display_data"
    },
    {
     "data": {
      "text/html": [
       "        <script type=\"text/javascript\">\n",
       "        window.PlotlyConfig = {MathJaxConfig: 'local'};\n",
       "        if (window.MathJax) {MathJax.Hub.Config({SVG: {font: \"STIX-Web\"}});}\n",
       "        if (typeof require !== 'undefined') {\n",
       "        require.undef(\"plotly\");\n",
       "        requirejs.config({\n",
       "            paths: {\n",
       "                'plotly': ['https://cdn.plot.ly/plotly-2.4.2.min']\n",
       "            }\n",
       "        });\n",
       "        require(['plotly'], function(Plotly) {\n",
       "            window._Plotly = Plotly;\n",
       "        });\n",
       "        }\n",
       "        </script>\n",
       "        "
      ]
     },
     "metadata": {},
     "output_type": "display_data"
    }
   ],
   "source": [
    "import requests\n",
    "import json\n",
    "import os\n",
    "import pandas as pd\n",
    "from shapely.geometry import Point, Polygon, LineString\n",
    "from pyproj import Geod\n",
    "from tqdm.notebook import tqdm\n",
    "from pyproj import Proj, Transformer\n",
    "import shapely.ops as sp_ops\n",
    "import geopandas as gpd\n",
    "import gtfs_kit as gk\n",
    "from geopandas.tools import overlay\n",
    "import plotly.graph_objs as go\n",
    "import plotly.figure_factory as ff\n",
    "from plotly.offline import download_plotlyjs, init_notebook_mode, plot, iplot\n",
    "init_notebook_mode(connected=True)\n",
    "import time\n",
    "import numpy as np\n",
    "\n",
    "mapbox_access_token = open(\"mapbox_token.txt\").read()\n",
    "\n",
    "import plotly.graph_objs as go\n",
    "import plotly.figure_factory as ff\n",
    "from plotly.offline import download_plotlyjs, init_notebook_mode, plot, iplot\n",
    "init_notebook_mode(connected=True)"
   ]
  },
  {
   "cell_type": "code",
   "execution_count": 3,
   "id": "8c1d1d7a",
   "metadata": {},
   "outputs": [],
   "source": [
    "df = gpd.read_file(\"EUUrbanAudit2018CitiesDE.shp\")"
   ]
  },
  {
   "cell_type": "code",
   "execution_count": 4,
   "id": "d9b300d1",
   "metadata": {},
   "outputs": [],
   "source": [
    "sub_city = df[df['URAU_NAME'] == 'Berlin']"
   ]
  },
  {
   "cell_type": "code",
   "execution_count": 5,
   "id": "443c0f7f",
   "metadata": {},
   "outputs": [],
   "source": [
    "x_min, y_min, x_max, y_max = sub_city.total_bounds"
   ]
  },
  {
   "cell_type": "code",
   "execution_count": 6,
   "id": "02f61592",
   "metadata": {},
   "outputs": [],
   "source": [
    "n = 100\n",
    "# generate random data within the bounds\n",
    "np.random.seed(0) \n",
    "x = np.random.uniform(x_min, x_max, n)\n",
    "y = np.random.uniform(y_min, y_max, n)"
   ]
  },
  {
   "cell_type": "code",
   "execution_count": 7,
   "id": "09b389b4",
   "metadata": {},
   "outputs": [],
   "source": [
    "gdf_points = gpd.GeoSeries(gpd.points_from_xy(x, y))"
   ]
  },
  {
   "cell_type": "code",
   "execution_count": 8,
   "id": "ba2c293e",
   "metadata": {},
   "outputs": [],
   "source": [
    "gdf_points = gdf_points[gdf_points.within(sub_city.unary_union)]"
   ]
  },
  {
   "cell_type": "code",
   "execution_count": 9,
   "id": "9ef9703e",
   "metadata": {},
   "outputs": [
    {
     "data": {
      "text/plain": [
       "57"
      ]
     },
     "execution_count": 9,
     "metadata": {},
     "output_type": "execute_result"
    }
   ],
   "source": [
    "len(gdf_points.x.values)"
   ]
  },
  {
   "cell_type": "code",
   "execution_count": 10,
   "id": "58cf0dd9",
   "metadata": {},
   "outputs": [
    {
     "name": "stderr",
     "output_type": "stream",
     "text": [
      "<ipython-input-10-b7c9812b699f>:30: UserWarning:\n",
      "\n",
      "Geometry is in a geographic CRS. Results from 'centroid' are likely incorrect. Use 'GeoSeries.to_crs()' to re-project geometries to a projected CRS before this operation.\n",
      "\n",
      "\n",
      "<ipython-input-10-b7c9812b699f>:31: UserWarning:\n",
      "\n",
      "Geometry is in a geographic CRS. Results from 'centroid' are likely incorrect. Use 'GeoSeries.to_crs()' to re-project geometries to a projected CRS before this operation.\n",
      "\n",
      "\n"
     ]
    },
    {
     "data": {
      "application/vnd.plotly.v1+json": {
       "config": {
        "linkText": "Export to plot.ly",
        "plotlyServerURL": "https://plot.ly",
        "showLink": false
       },
       "data": [
        {
         "lat": [
          52.56644588252586,
          52.42914693437446,
          52.585763447398115,
          52.66218682842741,
          52.42199096459456,
          52.53221977056511,
          52.53756771721093,
          52.48877793684608,
          52.62320663980421,
          52.57373918501751,
          52.438381585429134,
          52.47173557029964,
          52.50702538628516,
          52.48094339847331,
          52.542399435366505,
          52.43977470140389,
          52.56050592573534,
          52.43590387840756,
          52.546312344558174,
          52.482597702390905,
          52.38385273057207,
          52.438666202091234,
          52.537174086893216,
          52.53160295315642,
          52.55815838602539,
          52.48348980174972,
          52.46199089259836,
          52.48498682371379,
          52.575223688863446,
          52.57870918952569,
          52.63051834036443,
          52.54548551630525,
          52.52984399117305,
          52.47533043659355,
          52.57304883219844,
          52.49093848269062,
          52.58134006895167,
          52.45943761485824,
          52.39602542159198,
          52.413631844352714,
          52.45451327709861,
          52.5754007187676,
          52.54747824082492,
          52.5325804350683,
          52.41833456563624,
          52.5449489882248,
          52.518576173958415,
          52.53684994128916,
          52.58405583428755,
          52.44326608135308,
          52.47231307612159,
          52.408891144186185,
          52.58723026392321,
          52.50336721939131,
          52.4148068198729,
          52.42387746850003,
          52.35777896755202
         ],
         "lon": [
          13.457210587682438,
          13.56903787755077,
          13.49347226592097,
          13.454568875528382,
          13.37308685403584,
          13.522462008527217,
          13.382451336622854,
          13.620480296059243,
          13.443822580230487,
          13.470136483137702,
          13.710460284873793,
          13.146895782548825,
          13.625476640297649,
          13.167829558643033,
          13.518447275551498,
          13.723279459564496,
          13.439086304511957,
          13.367042425028426,
          13.266150483175345,
          13.608723722198395,
          13.394928287769856,
          13.470398204873742,
          13.503468361280332,
          13.49974487673561,
          13.5029968573904,
          13.54660930946836,
          13.382078127814838,
          13.557236390321359,
          13.539093190452599,
          13.300343907790937,
          13.383133086153254,
          13.156921041939322,
          13.258579531210463,
          13.40175749077992,
          13.195182259557937,
          13.162520161069162,
          13.529476073109617,
          13.153598311657062,
          13.1529242475374,
          13.114672545528524,
          13.278417882001722,
          13.287379635871828,
          13.366774279212596,
          13.131448873679613,
          13.55376878666094,
          13.266710963576804,
          13.44002711528891,
          13.15147384610937,
          13.475447661710385,
          13.712946893702183,
          13.302454820709283,
          13.536923876852452,
          13.28285339839219,
          13.211462600889678,
          13.482549751207968,
          13.101848015718028,
          13.645493849948052
         ],
         "marker": {
          "color": "red",
          "size": 3.5
         },
         "mode": "markers",
         "type": "scattermapbox"
        }
       ],
       "layout": {
        "autosize": true,
        "height": 800,
        "hovermode": "closest",
        "mapbox": {
         "accesstoken": "pk.eyJ1IjoidGFrZWl0ZWFzeWR1ZGUiLCJhIjoiY2p5bmlrcDl4MHJ1ZTNscWs1dWp3cnAzcSJ9.b9lsNYmaCDtMpc0-HUhjow",
         "bearing": 0,
         "center": {
          "lat": 52.50153295812326,
          "lon": 13.401847806282115
         },
         "pitch": 0,
         "zoom": 9
        },
        "template": {
         "data": {
          "bar": [
           {
            "error_x": {
             "color": "#2a3f5f"
            },
            "error_y": {
             "color": "#2a3f5f"
            },
            "marker": {
             "line": {
              "color": "#E5ECF6",
              "width": 0.5
             },
             "pattern": {
              "fillmode": "overlay",
              "size": 10,
              "solidity": 0.2
             }
            },
            "type": "bar"
           }
          ],
          "barpolar": [
           {
            "marker": {
             "line": {
              "color": "#E5ECF6",
              "width": 0.5
             },
             "pattern": {
              "fillmode": "overlay",
              "size": 10,
              "solidity": 0.2
             }
            },
            "type": "barpolar"
           }
          ],
          "carpet": [
           {
            "aaxis": {
             "endlinecolor": "#2a3f5f",
             "gridcolor": "white",
             "linecolor": "white",
             "minorgridcolor": "white",
             "startlinecolor": "#2a3f5f"
            },
            "baxis": {
             "endlinecolor": "#2a3f5f",
             "gridcolor": "white",
             "linecolor": "white",
             "minorgridcolor": "white",
             "startlinecolor": "#2a3f5f"
            },
            "type": "carpet"
           }
          ],
          "choropleth": [
           {
            "colorbar": {
             "outlinewidth": 0,
             "ticks": ""
            },
            "type": "choropleth"
           }
          ],
          "contour": [
           {
            "colorbar": {
             "outlinewidth": 0,
             "ticks": ""
            },
            "colorscale": [
             [
              0,
              "#0d0887"
             ],
             [
              0.1111111111111111,
              "#46039f"
             ],
             [
              0.2222222222222222,
              "#7201a8"
             ],
             [
              0.3333333333333333,
              "#9c179e"
             ],
             [
              0.4444444444444444,
              "#bd3786"
             ],
             [
              0.5555555555555556,
              "#d8576b"
             ],
             [
              0.6666666666666666,
              "#ed7953"
             ],
             [
              0.7777777777777778,
              "#fb9f3a"
             ],
             [
              0.8888888888888888,
              "#fdca26"
             ],
             [
              1,
              "#f0f921"
             ]
            ],
            "type": "contour"
           }
          ],
          "contourcarpet": [
           {
            "colorbar": {
             "outlinewidth": 0,
             "ticks": ""
            },
            "type": "contourcarpet"
           }
          ],
          "heatmap": [
           {
            "colorbar": {
             "outlinewidth": 0,
             "ticks": ""
            },
            "colorscale": [
             [
              0,
              "#0d0887"
             ],
             [
              0.1111111111111111,
              "#46039f"
             ],
             [
              0.2222222222222222,
              "#7201a8"
             ],
             [
              0.3333333333333333,
              "#9c179e"
             ],
             [
              0.4444444444444444,
              "#bd3786"
             ],
             [
              0.5555555555555556,
              "#d8576b"
             ],
             [
              0.6666666666666666,
              "#ed7953"
             ],
             [
              0.7777777777777778,
              "#fb9f3a"
             ],
             [
              0.8888888888888888,
              "#fdca26"
             ],
             [
              1,
              "#f0f921"
             ]
            ],
            "type": "heatmap"
           }
          ],
          "heatmapgl": [
           {
            "colorbar": {
             "outlinewidth": 0,
             "ticks": ""
            },
            "colorscale": [
             [
              0,
              "#0d0887"
             ],
             [
              0.1111111111111111,
              "#46039f"
             ],
             [
              0.2222222222222222,
              "#7201a8"
             ],
             [
              0.3333333333333333,
              "#9c179e"
             ],
             [
              0.4444444444444444,
              "#bd3786"
             ],
             [
              0.5555555555555556,
              "#d8576b"
             ],
             [
              0.6666666666666666,
              "#ed7953"
             ],
             [
              0.7777777777777778,
              "#fb9f3a"
             ],
             [
              0.8888888888888888,
              "#fdca26"
             ],
             [
              1,
              "#f0f921"
             ]
            ],
            "type": "heatmapgl"
           }
          ],
          "histogram": [
           {
            "marker": {
             "pattern": {
              "fillmode": "overlay",
              "size": 10,
              "solidity": 0.2
             }
            },
            "type": "histogram"
           }
          ],
          "histogram2d": [
           {
            "colorbar": {
             "outlinewidth": 0,
             "ticks": ""
            },
            "colorscale": [
             [
              0,
              "#0d0887"
             ],
             [
              0.1111111111111111,
              "#46039f"
             ],
             [
              0.2222222222222222,
              "#7201a8"
             ],
             [
              0.3333333333333333,
              "#9c179e"
             ],
             [
              0.4444444444444444,
              "#bd3786"
             ],
             [
              0.5555555555555556,
              "#d8576b"
             ],
             [
              0.6666666666666666,
              "#ed7953"
             ],
             [
              0.7777777777777778,
              "#fb9f3a"
             ],
             [
              0.8888888888888888,
              "#fdca26"
             ],
             [
              1,
              "#f0f921"
             ]
            ],
            "type": "histogram2d"
           }
          ],
          "histogram2dcontour": [
           {
            "colorbar": {
             "outlinewidth": 0,
             "ticks": ""
            },
            "colorscale": [
             [
              0,
              "#0d0887"
             ],
             [
              0.1111111111111111,
              "#46039f"
             ],
             [
              0.2222222222222222,
              "#7201a8"
             ],
             [
              0.3333333333333333,
              "#9c179e"
             ],
             [
              0.4444444444444444,
              "#bd3786"
             ],
             [
              0.5555555555555556,
              "#d8576b"
             ],
             [
              0.6666666666666666,
              "#ed7953"
             ],
             [
              0.7777777777777778,
              "#fb9f3a"
             ],
             [
              0.8888888888888888,
              "#fdca26"
             ],
             [
              1,
              "#f0f921"
             ]
            ],
            "type": "histogram2dcontour"
           }
          ],
          "mesh3d": [
           {
            "colorbar": {
             "outlinewidth": 0,
             "ticks": ""
            },
            "type": "mesh3d"
           }
          ],
          "parcoords": [
           {
            "line": {
             "colorbar": {
              "outlinewidth": 0,
              "ticks": ""
             }
            },
            "type": "parcoords"
           }
          ],
          "pie": [
           {
            "automargin": true,
            "type": "pie"
           }
          ],
          "scatter": [
           {
            "marker": {
             "colorbar": {
              "outlinewidth": 0,
              "ticks": ""
             }
            },
            "type": "scatter"
           }
          ],
          "scatter3d": [
           {
            "line": {
             "colorbar": {
              "outlinewidth": 0,
              "ticks": ""
             }
            },
            "marker": {
             "colorbar": {
              "outlinewidth": 0,
              "ticks": ""
             }
            },
            "type": "scatter3d"
           }
          ],
          "scattercarpet": [
           {
            "marker": {
             "colorbar": {
              "outlinewidth": 0,
              "ticks": ""
             }
            },
            "type": "scattercarpet"
           }
          ],
          "scattergeo": [
           {
            "marker": {
             "colorbar": {
              "outlinewidth": 0,
              "ticks": ""
             }
            },
            "type": "scattergeo"
           }
          ],
          "scattergl": [
           {
            "marker": {
             "colorbar": {
              "outlinewidth": 0,
              "ticks": ""
             }
            },
            "type": "scattergl"
           }
          ],
          "scattermapbox": [
           {
            "marker": {
             "colorbar": {
              "outlinewidth": 0,
              "ticks": ""
             }
            },
            "type": "scattermapbox"
           }
          ],
          "scatterpolar": [
           {
            "marker": {
             "colorbar": {
              "outlinewidth": 0,
              "ticks": ""
             }
            },
            "type": "scatterpolar"
           }
          ],
          "scatterpolargl": [
           {
            "marker": {
             "colorbar": {
              "outlinewidth": 0,
              "ticks": ""
             }
            },
            "type": "scatterpolargl"
           }
          ],
          "scatterternary": [
           {
            "marker": {
             "colorbar": {
              "outlinewidth": 0,
              "ticks": ""
             }
            },
            "type": "scatterternary"
           }
          ],
          "surface": [
           {
            "colorbar": {
             "outlinewidth": 0,
             "ticks": ""
            },
            "colorscale": [
             [
              0,
              "#0d0887"
             ],
             [
              0.1111111111111111,
              "#46039f"
             ],
             [
              0.2222222222222222,
              "#7201a8"
             ],
             [
              0.3333333333333333,
              "#9c179e"
             ],
             [
              0.4444444444444444,
              "#bd3786"
             ],
             [
              0.5555555555555556,
              "#d8576b"
             ],
             [
              0.6666666666666666,
              "#ed7953"
             ],
             [
              0.7777777777777778,
              "#fb9f3a"
             ],
             [
              0.8888888888888888,
              "#fdca26"
             ],
             [
              1,
              "#f0f921"
             ]
            ],
            "type": "surface"
           }
          ],
          "table": [
           {
            "cells": {
             "fill": {
              "color": "#EBF0F8"
             },
             "line": {
              "color": "white"
             }
            },
            "header": {
             "fill": {
              "color": "#C8D4E3"
             },
             "line": {
              "color": "white"
             }
            },
            "type": "table"
           }
          ]
         },
         "layout": {
          "annotationdefaults": {
           "arrowcolor": "#2a3f5f",
           "arrowhead": 0,
           "arrowwidth": 1
          },
          "autotypenumbers": "strict",
          "coloraxis": {
           "colorbar": {
            "outlinewidth": 0,
            "ticks": ""
           }
          },
          "colorscale": {
           "diverging": [
            [
             0,
             "#8e0152"
            ],
            [
             0.1,
             "#c51b7d"
            ],
            [
             0.2,
             "#de77ae"
            ],
            [
             0.3,
             "#f1b6da"
            ],
            [
             0.4,
             "#fde0ef"
            ],
            [
             0.5,
             "#f7f7f7"
            ],
            [
             0.6,
             "#e6f5d0"
            ],
            [
             0.7,
             "#b8e186"
            ],
            [
             0.8,
             "#7fbc41"
            ],
            [
             0.9,
             "#4d9221"
            ],
            [
             1,
             "#276419"
            ]
           ],
           "sequential": [
            [
             0,
             "#0d0887"
            ],
            [
             0.1111111111111111,
             "#46039f"
            ],
            [
             0.2222222222222222,
             "#7201a8"
            ],
            [
             0.3333333333333333,
             "#9c179e"
            ],
            [
             0.4444444444444444,
             "#bd3786"
            ],
            [
             0.5555555555555556,
             "#d8576b"
            ],
            [
             0.6666666666666666,
             "#ed7953"
            ],
            [
             0.7777777777777778,
             "#fb9f3a"
            ],
            [
             0.8888888888888888,
             "#fdca26"
            ],
            [
             1,
             "#f0f921"
            ]
           ],
           "sequentialminus": [
            [
             0,
             "#0d0887"
            ],
            [
             0.1111111111111111,
             "#46039f"
            ],
            [
             0.2222222222222222,
             "#7201a8"
            ],
            [
             0.3333333333333333,
             "#9c179e"
            ],
            [
             0.4444444444444444,
             "#bd3786"
            ],
            [
             0.5555555555555556,
             "#d8576b"
            ],
            [
             0.6666666666666666,
             "#ed7953"
            ],
            [
             0.7777777777777778,
             "#fb9f3a"
            ],
            [
             0.8888888888888888,
             "#fdca26"
            ],
            [
             1,
             "#f0f921"
            ]
           ]
          },
          "colorway": [
           "#636efa",
           "#EF553B",
           "#00cc96",
           "#ab63fa",
           "#FFA15A",
           "#19d3f3",
           "#FF6692",
           "#B6E880",
           "#FF97FF",
           "#FECB52"
          ],
          "font": {
           "color": "#2a3f5f"
          },
          "geo": {
           "bgcolor": "white",
           "lakecolor": "white",
           "landcolor": "#E5ECF6",
           "showlakes": true,
           "showland": true,
           "subunitcolor": "white"
          },
          "hoverlabel": {
           "align": "left"
          },
          "hovermode": "closest",
          "mapbox": {
           "style": "light"
          },
          "paper_bgcolor": "white",
          "plot_bgcolor": "#E5ECF6",
          "polar": {
           "angularaxis": {
            "gridcolor": "white",
            "linecolor": "white",
            "ticks": ""
           },
           "bgcolor": "#E5ECF6",
           "radialaxis": {
            "gridcolor": "white",
            "linecolor": "white",
            "ticks": ""
           }
          },
          "scene": {
           "xaxis": {
            "backgroundcolor": "#E5ECF6",
            "gridcolor": "white",
            "gridwidth": 2,
            "linecolor": "white",
            "showbackground": true,
            "ticks": "",
            "zerolinecolor": "white"
           },
           "yaxis": {
            "backgroundcolor": "#E5ECF6",
            "gridcolor": "white",
            "gridwidth": 2,
            "linecolor": "white",
            "showbackground": true,
            "ticks": "",
            "zerolinecolor": "white"
           },
           "zaxis": {
            "backgroundcolor": "#E5ECF6",
            "gridcolor": "white",
            "gridwidth": 2,
            "linecolor": "white",
            "showbackground": true,
            "ticks": "",
            "zerolinecolor": "white"
           }
          },
          "shapedefaults": {
           "line": {
            "color": "#2a3f5f"
           }
          },
          "ternary": {
           "aaxis": {
            "gridcolor": "white",
            "linecolor": "white",
            "ticks": ""
           },
           "baxis": {
            "gridcolor": "white",
            "linecolor": "white",
            "ticks": ""
           },
           "bgcolor": "#E5ECF6",
           "caxis": {
            "gridcolor": "white",
            "linecolor": "white",
            "ticks": ""
           }
          },
          "title": {
           "x": 0.05
          },
          "xaxis": {
           "automargin": true,
           "gridcolor": "white",
           "linecolor": "white",
           "ticks": "",
           "title": {
            "standoff": 15
           },
           "zerolinecolor": "white",
           "zerolinewidth": 2
          },
          "yaxis": {
           "automargin": true,
           "gridcolor": "white",
           "linecolor": "white",
           "ticks": "",
           "title": {
            "standoff": 15
           },
           "zerolinecolor": "white",
           "zerolinewidth": 2
          }
         }
        },
        "width": 800
       }
      },
      "text/html": [
       "<div>                            <div id=\"1f49e009-e0ff-4f6b-b930-9b0930f0be02\" class=\"plotly-graph-div\" style=\"height:800px; width:800px;\"></div>            <script type=\"text/javascript\">                require([\"plotly\"], function(Plotly) {                    window.PLOTLYENV=window.PLOTLYENV || {};                                    if (document.getElementById(\"1f49e009-e0ff-4f6b-b930-9b0930f0be02\")) {                    Plotly.newPlot(                        \"1f49e009-e0ff-4f6b-b930-9b0930f0be02\",                        [{\"lat\":[52.56644588252586,52.42914693437446,52.585763447398115,52.66218682842741,52.42199096459456,52.53221977056511,52.53756771721093,52.48877793684608,52.62320663980421,52.57373918501751,52.438381585429134,52.47173557029964,52.50702538628516,52.48094339847331,52.542399435366505,52.43977470140389,52.56050592573534,52.43590387840756,52.546312344558174,52.482597702390905,52.38385273057207,52.438666202091234,52.537174086893216,52.53160295315642,52.55815838602539,52.48348980174972,52.46199089259836,52.48498682371379,52.575223688863446,52.57870918952569,52.63051834036443,52.54548551630525,52.52984399117305,52.47533043659355,52.57304883219844,52.49093848269062,52.58134006895167,52.45943761485824,52.39602542159198,52.413631844352714,52.45451327709861,52.5754007187676,52.54747824082492,52.5325804350683,52.41833456563624,52.5449489882248,52.518576173958415,52.53684994128916,52.58405583428755,52.44326608135308,52.47231307612159,52.408891144186185,52.58723026392321,52.50336721939131,52.4148068198729,52.42387746850003,52.35777896755202],\"lon\":[13.457210587682438,13.56903787755077,13.49347226592097,13.454568875528382,13.37308685403584,13.522462008527217,13.382451336622854,13.620480296059243,13.443822580230487,13.470136483137702,13.710460284873793,13.146895782548825,13.625476640297649,13.167829558643033,13.518447275551498,13.723279459564496,13.439086304511957,13.367042425028426,13.266150483175345,13.608723722198395,13.394928287769856,13.470398204873742,13.503468361280332,13.49974487673561,13.5029968573904,13.54660930946836,13.382078127814838,13.557236390321359,13.539093190452599,13.300343907790937,13.383133086153254,13.156921041939322,13.258579531210463,13.40175749077992,13.195182259557937,13.162520161069162,13.529476073109617,13.153598311657062,13.1529242475374,13.114672545528524,13.278417882001722,13.287379635871828,13.366774279212596,13.131448873679613,13.55376878666094,13.266710963576804,13.44002711528891,13.15147384610937,13.475447661710385,13.712946893702183,13.302454820709283,13.536923876852452,13.28285339839219,13.211462600889678,13.482549751207968,13.101848015718028,13.645493849948052],\"marker\":{\"color\":\"red\",\"size\":3.5},\"mode\":\"markers\",\"type\":\"scattermapbox\"}],                        {\"autosize\":true,\"height\":800,\"hovermode\":\"closest\",\"mapbox\":{\"accesstoken\":\"pk.eyJ1IjoidGFrZWl0ZWFzeWR1ZGUiLCJhIjoiY2p5bmlrcDl4MHJ1ZTNscWs1dWp3cnAzcSJ9.b9lsNYmaCDtMpc0-HUhjow\",\"bearing\":0,\"center\":{\"lat\":52.50153295812326,\"lon\":13.401847806282115},\"pitch\":0,\"zoom\":9},\"template\":{\"data\":{\"bar\":[{\"error_x\":{\"color\":\"#2a3f5f\"},\"error_y\":{\"color\":\"#2a3f5f\"},\"marker\":{\"line\":{\"color\":\"#E5ECF6\",\"width\":0.5},\"pattern\":{\"fillmode\":\"overlay\",\"size\":10,\"solidity\":0.2}},\"type\":\"bar\"}],\"barpolar\":[{\"marker\":{\"line\":{\"color\":\"#E5ECF6\",\"width\":0.5},\"pattern\":{\"fillmode\":\"overlay\",\"size\":10,\"solidity\":0.2}},\"type\":\"barpolar\"}],\"carpet\":[{\"aaxis\":{\"endlinecolor\":\"#2a3f5f\",\"gridcolor\":\"white\",\"linecolor\":\"white\",\"minorgridcolor\":\"white\",\"startlinecolor\":\"#2a3f5f\"},\"baxis\":{\"endlinecolor\":\"#2a3f5f\",\"gridcolor\":\"white\",\"linecolor\":\"white\",\"minorgridcolor\":\"white\",\"startlinecolor\":\"#2a3f5f\"},\"type\":\"carpet\"}],\"choropleth\":[{\"colorbar\":{\"outlinewidth\":0,\"ticks\":\"\"},\"type\":\"choropleth\"}],\"contour\":[{\"colorbar\":{\"outlinewidth\":0,\"ticks\":\"\"},\"colorscale\":[[0.0,\"#0d0887\"],[0.1111111111111111,\"#46039f\"],[0.2222222222222222,\"#7201a8\"],[0.3333333333333333,\"#9c179e\"],[0.4444444444444444,\"#bd3786\"],[0.5555555555555556,\"#d8576b\"],[0.6666666666666666,\"#ed7953\"],[0.7777777777777778,\"#fb9f3a\"],[0.8888888888888888,\"#fdca26\"],[1.0,\"#f0f921\"]],\"type\":\"contour\"}],\"contourcarpet\":[{\"colorbar\":{\"outlinewidth\":0,\"ticks\":\"\"},\"type\":\"contourcarpet\"}],\"heatmap\":[{\"colorbar\":{\"outlinewidth\":0,\"ticks\":\"\"},\"colorscale\":[[0.0,\"#0d0887\"],[0.1111111111111111,\"#46039f\"],[0.2222222222222222,\"#7201a8\"],[0.3333333333333333,\"#9c179e\"],[0.4444444444444444,\"#bd3786\"],[0.5555555555555556,\"#d8576b\"],[0.6666666666666666,\"#ed7953\"],[0.7777777777777778,\"#fb9f3a\"],[0.8888888888888888,\"#fdca26\"],[1.0,\"#f0f921\"]],\"type\":\"heatmap\"}],\"heatmapgl\":[{\"colorbar\":{\"outlinewidth\":0,\"ticks\":\"\"},\"colorscale\":[[0.0,\"#0d0887\"],[0.1111111111111111,\"#46039f\"],[0.2222222222222222,\"#7201a8\"],[0.3333333333333333,\"#9c179e\"],[0.4444444444444444,\"#bd3786\"],[0.5555555555555556,\"#d8576b\"],[0.6666666666666666,\"#ed7953\"],[0.7777777777777778,\"#fb9f3a\"],[0.8888888888888888,\"#fdca26\"],[1.0,\"#f0f921\"]],\"type\":\"heatmapgl\"}],\"histogram\":[{\"marker\":{\"pattern\":{\"fillmode\":\"overlay\",\"size\":10,\"solidity\":0.2}},\"type\":\"histogram\"}],\"histogram2d\":[{\"colorbar\":{\"outlinewidth\":0,\"ticks\":\"\"},\"colorscale\":[[0.0,\"#0d0887\"],[0.1111111111111111,\"#46039f\"],[0.2222222222222222,\"#7201a8\"],[0.3333333333333333,\"#9c179e\"],[0.4444444444444444,\"#bd3786\"],[0.5555555555555556,\"#d8576b\"],[0.6666666666666666,\"#ed7953\"],[0.7777777777777778,\"#fb9f3a\"],[0.8888888888888888,\"#fdca26\"],[1.0,\"#f0f921\"]],\"type\":\"histogram2d\"}],\"histogram2dcontour\":[{\"colorbar\":{\"outlinewidth\":0,\"ticks\":\"\"},\"colorscale\":[[0.0,\"#0d0887\"],[0.1111111111111111,\"#46039f\"],[0.2222222222222222,\"#7201a8\"],[0.3333333333333333,\"#9c179e\"],[0.4444444444444444,\"#bd3786\"],[0.5555555555555556,\"#d8576b\"],[0.6666666666666666,\"#ed7953\"],[0.7777777777777778,\"#fb9f3a\"],[0.8888888888888888,\"#fdca26\"],[1.0,\"#f0f921\"]],\"type\":\"histogram2dcontour\"}],\"mesh3d\":[{\"colorbar\":{\"outlinewidth\":0,\"ticks\":\"\"},\"type\":\"mesh3d\"}],\"parcoords\":[{\"line\":{\"colorbar\":{\"outlinewidth\":0,\"ticks\":\"\"}},\"type\":\"parcoords\"}],\"pie\":[{\"automargin\":true,\"type\":\"pie\"}],\"scatter\":[{\"marker\":{\"colorbar\":{\"outlinewidth\":0,\"ticks\":\"\"}},\"type\":\"scatter\"}],\"scatter3d\":[{\"line\":{\"colorbar\":{\"outlinewidth\":0,\"ticks\":\"\"}},\"marker\":{\"colorbar\":{\"outlinewidth\":0,\"ticks\":\"\"}},\"type\":\"scatter3d\"}],\"scattercarpet\":[{\"marker\":{\"colorbar\":{\"outlinewidth\":0,\"ticks\":\"\"}},\"type\":\"scattercarpet\"}],\"scattergeo\":[{\"marker\":{\"colorbar\":{\"outlinewidth\":0,\"ticks\":\"\"}},\"type\":\"scattergeo\"}],\"scattergl\":[{\"marker\":{\"colorbar\":{\"outlinewidth\":0,\"ticks\":\"\"}},\"type\":\"scattergl\"}],\"scattermapbox\":[{\"marker\":{\"colorbar\":{\"outlinewidth\":0,\"ticks\":\"\"}},\"type\":\"scattermapbox\"}],\"scatterpolar\":[{\"marker\":{\"colorbar\":{\"outlinewidth\":0,\"ticks\":\"\"}},\"type\":\"scatterpolar\"}],\"scatterpolargl\":[{\"marker\":{\"colorbar\":{\"outlinewidth\":0,\"ticks\":\"\"}},\"type\":\"scatterpolargl\"}],\"scatterternary\":[{\"marker\":{\"colorbar\":{\"outlinewidth\":0,\"ticks\":\"\"}},\"type\":\"scatterternary\"}],\"surface\":[{\"colorbar\":{\"outlinewidth\":0,\"ticks\":\"\"},\"colorscale\":[[0.0,\"#0d0887\"],[0.1111111111111111,\"#46039f\"],[0.2222222222222222,\"#7201a8\"],[0.3333333333333333,\"#9c179e\"],[0.4444444444444444,\"#bd3786\"],[0.5555555555555556,\"#d8576b\"],[0.6666666666666666,\"#ed7953\"],[0.7777777777777778,\"#fb9f3a\"],[0.8888888888888888,\"#fdca26\"],[1.0,\"#f0f921\"]],\"type\":\"surface\"}],\"table\":[{\"cells\":{\"fill\":{\"color\":\"#EBF0F8\"},\"line\":{\"color\":\"white\"}},\"header\":{\"fill\":{\"color\":\"#C8D4E3\"},\"line\":{\"color\":\"white\"}},\"type\":\"table\"}]},\"layout\":{\"annotationdefaults\":{\"arrowcolor\":\"#2a3f5f\",\"arrowhead\":0,\"arrowwidth\":1},\"autotypenumbers\":\"strict\",\"coloraxis\":{\"colorbar\":{\"outlinewidth\":0,\"ticks\":\"\"}},\"colorscale\":{\"diverging\":[[0,\"#8e0152\"],[0.1,\"#c51b7d\"],[0.2,\"#de77ae\"],[0.3,\"#f1b6da\"],[0.4,\"#fde0ef\"],[0.5,\"#f7f7f7\"],[0.6,\"#e6f5d0\"],[0.7,\"#b8e186\"],[0.8,\"#7fbc41\"],[0.9,\"#4d9221\"],[1,\"#276419\"]],\"sequential\":[[0.0,\"#0d0887\"],[0.1111111111111111,\"#46039f\"],[0.2222222222222222,\"#7201a8\"],[0.3333333333333333,\"#9c179e\"],[0.4444444444444444,\"#bd3786\"],[0.5555555555555556,\"#d8576b\"],[0.6666666666666666,\"#ed7953\"],[0.7777777777777778,\"#fb9f3a\"],[0.8888888888888888,\"#fdca26\"],[1.0,\"#f0f921\"]],\"sequentialminus\":[[0.0,\"#0d0887\"],[0.1111111111111111,\"#46039f\"],[0.2222222222222222,\"#7201a8\"],[0.3333333333333333,\"#9c179e\"],[0.4444444444444444,\"#bd3786\"],[0.5555555555555556,\"#d8576b\"],[0.6666666666666666,\"#ed7953\"],[0.7777777777777778,\"#fb9f3a\"],[0.8888888888888888,\"#fdca26\"],[1.0,\"#f0f921\"]]},\"colorway\":[\"#636efa\",\"#EF553B\",\"#00cc96\",\"#ab63fa\",\"#FFA15A\",\"#19d3f3\",\"#FF6692\",\"#B6E880\",\"#FF97FF\",\"#FECB52\"],\"font\":{\"color\":\"#2a3f5f\"},\"geo\":{\"bgcolor\":\"white\",\"lakecolor\":\"white\",\"landcolor\":\"#E5ECF6\",\"showlakes\":true,\"showland\":true,\"subunitcolor\":\"white\"},\"hoverlabel\":{\"align\":\"left\"},\"hovermode\":\"closest\",\"mapbox\":{\"style\":\"light\"},\"paper_bgcolor\":\"white\",\"plot_bgcolor\":\"#E5ECF6\",\"polar\":{\"angularaxis\":{\"gridcolor\":\"white\",\"linecolor\":\"white\",\"ticks\":\"\"},\"bgcolor\":\"#E5ECF6\",\"radialaxis\":{\"gridcolor\":\"white\",\"linecolor\":\"white\",\"ticks\":\"\"}},\"scene\":{\"xaxis\":{\"backgroundcolor\":\"#E5ECF6\",\"gridcolor\":\"white\",\"gridwidth\":2,\"linecolor\":\"white\",\"showbackground\":true,\"ticks\":\"\",\"zerolinecolor\":\"white\"},\"yaxis\":{\"backgroundcolor\":\"#E5ECF6\",\"gridcolor\":\"white\",\"gridwidth\":2,\"linecolor\":\"white\",\"showbackground\":true,\"ticks\":\"\",\"zerolinecolor\":\"white\"},\"zaxis\":{\"backgroundcolor\":\"#E5ECF6\",\"gridcolor\":\"white\",\"gridwidth\":2,\"linecolor\":\"white\",\"showbackground\":true,\"ticks\":\"\",\"zerolinecolor\":\"white\"}},\"shapedefaults\":{\"line\":{\"color\":\"#2a3f5f\"}},\"ternary\":{\"aaxis\":{\"gridcolor\":\"white\",\"linecolor\":\"white\",\"ticks\":\"\"},\"baxis\":{\"gridcolor\":\"white\",\"linecolor\":\"white\",\"ticks\":\"\"},\"bgcolor\":\"#E5ECF6\",\"caxis\":{\"gridcolor\":\"white\",\"linecolor\":\"white\",\"ticks\":\"\"}},\"title\":{\"x\":0.05},\"xaxis\":{\"automargin\":true,\"gridcolor\":\"white\",\"linecolor\":\"white\",\"ticks\":\"\",\"title\":{\"standoff\":15},\"zerolinecolor\":\"white\",\"zerolinewidth\":2},\"yaxis\":{\"automargin\":true,\"gridcolor\":\"white\",\"linecolor\":\"white\",\"ticks\":\"\",\"title\":{\"standoff\":15},\"zerolinecolor\":\"white\",\"zerolinewidth\":2}}},\"width\":800},                        {\"responsive\": true}                    ).then(function(){\n",
       "                            \n",
       "var gd = document.getElementById('1f49e009-e0ff-4f6b-b930-9b0930f0be02');\n",
       "var x = new MutationObserver(function (mutations, observer) {{\n",
       "        var display = window.getComputedStyle(gd).display;\n",
       "        if (!display || display === 'none') {{\n",
       "            console.log([gd, 'removed!']);\n",
       "            Plotly.purge(gd);\n",
       "            observer.disconnect();\n",
       "        }}\n",
       "}});\n",
       "\n",
       "// Listen for the removal of the full notebook cells\n",
       "var notebookContainer = gd.closest('#notebook-container');\n",
       "if (notebookContainer) {{\n",
       "    x.observe(notebookContainer, {childList: true});\n",
       "}}\n",
       "\n",
       "// Listen for the clearing of the current output cell\n",
       "var outputEl = gd.closest('.output');\n",
       "if (outputEl) {{\n",
       "    x.observe(outputEl, {childList: true});\n",
       "}}\n",
       "\n",
       "                        })                };                });            </script>        </div>"
      ]
     },
     "metadata": {},
     "output_type": "display_data"
    }
   ],
   "source": [
    "gdf = gdf_points\n",
    "\n",
    "data = [\n",
    "    go.Scattermapbox(\n",
    "    lon = gdf.x.values,\n",
    "    lat = gdf.y.values,\n",
    "    mode = 'markers',\n",
    "    marker = go.scattermapbox.Marker(\n",
    "    size = 3.5,\n",
    "    color='red',\n",
    "    #symbol = 'ferry'\n",
    "    ),\n",
    "    # text = gdf['stop_name'],\n",
    "    #text = \"Vessel name: <em> \" + df.Name + \"</em><br>\" + \n",
    "    #    \"Destination Port: \" + df.Destination_Port + \"<br>\" +\n",
    "    #    \"Dead weight tonnage: \" + df.DWT.astype(str) + \" tons\"\n",
    "    #text = 'Vessel name = ' + str(df.Name) + ', Dead weight tonnage: ' + str(df.DWT) + 'm³',\n",
    "    )\n",
    "]\n",
    "\n",
    "layout = go.Layout(\n",
    "    autosize=True,\n",
    "    hovermode='closest',\n",
    "    width = 800, \n",
    "    height = 800,\n",
    "    mapbox=go.layout.Mapbox(\n",
    "        accesstoken=mapbox_access_token,\n",
    "        bearing=0,\n",
    "        center=go.layout.mapbox.Center(\n",
    "            lat=sub_city.centroid.y.values[0],\n",
    "            lon=sub_city.centroid.x.values[0]\n",
    "        ),\n",
    "        pitch=0,\n",
    "        zoom=9\n",
    "    ),\n",
    ")\n",
    "                  \n",
    "fig = go.Figure(data = data, layout = layout)\n",
    "iplot(fig, filename=\"geomap_stops\")"
   ]
  },
  {
   "cell_type": "code",
   "execution_count": 11,
   "id": "6d414265",
   "metadata": {},
   "outputs": [
    {
     "data": {
      "text/plain": [
       "(52.56644588252586, 13.457210587682438)"
      ]
     },
     "execution_count": 11,
     "metadata": {},
     "output_type": "execute_result"
    }
   ],
   "source": [
    "gpd.GeoDataFrame(gdf).iloc[0,:][0].y, gpd.GeoDataFrame(gdf).iloc[0,:][0].x"
   ]
  },
  {
   "cell_type": "code",
   "execution_count": 12,
   "id": "aff0073f",
   "metadata": {},
   "outputs": [],
   "source": [
    "coordinates_gpd = gpd.GeoDataFrame(gdf)"
   ]
  },
  {
   "cell_type": "markdown",
   "id": "475e2f18",
   "metadata": {},
   "source": [
    "### Using the [CommuteTimeMap](https://commutetimemap.com/) service\n",
    "\n",
    "1. Go to: https://commutetimemap.com/\n",
    "2. Supply coordinates: `lat, lon = 48.15301773690073, 11.605151825623373`\n",
    "3. Choose mode of transport: \n",
    "    - `\"drive\"`\n",
    "    - `\"approximated_transit\"`\n",
    "    - `\"bicycle\"`\n",
    "    - `\"walk\"`\n",
    "4. Choose max. travel time: `[10, 15, 20, 30, 40, 45, 60]`"
   ]
  },
  {
   "cell_type": "markdown",
   "id": "a6b36c9d",
   "metadata": {},
   "source": [
    "### Using the [Geoapify Isoline API](https://www.geoapify.com/isoline-api/) service\n",
    "\n",
    "1. Register at https://myprojects.geoapify.com/\n",
    "2. Create a project and obtain API key\n",
    "3. Set parameters:\n",
    "```python\n",
    "{'type': 'time', 'mode': 'approximated_transit', 'range': 'in seconds', 'apiKey': 'your API key'}\n",
    "```\n",
    "4. Set a reference point:\n",
    "```python\n",
    "lat = 48.15301773690073\n",
    "lon = 11.605151825623373\n",
    "```\n",
    "5. Create payload (=query sent to API server)\n",
    "6. Send HTTP request.\n",
    "7. Extract content.\n",
    "    - will be a MultiPolygon (can also contain islands)\n",
    "    - for every Polygon:\n",
    "        - Compute area ()\n",
    "    - sum up all the areas\n",
    "8. For each randomly selected point compute geodesic distance to the city's centroid point."
   ]
  },
  {
   "cell_type": "code",
   "execution_count": 17,
   "id": "9d07c997",
   "metadata": {},
   "outputs": [
    {
     "name": "stdout",
     "output_type": "stream",
     "text": [
      "48.15301773690073 11.605151825623373\n"
     ]
    }
   ],
   "source": [
    "which_type = 'time'\n",
    "mode = 'approximated_transit'\n",
    "reach_within_minutes = 15\n",
    "reach_within_seconds = 60 * reach_within_minutes  # = 900, in seconds\n",
    "api_key = open(\"geoapify_key.txt\").read()\n",
    "\n",
    "param_info = {'type':which_type,'mode':mode,'range':reach_within_seconds,'apiKey':api_key}\n",
    "\n",
    "geod = Geod(ellps=\"WGS84\")\n",
    "\n",
    "coordinates_gdp_example = coordinates_gpd.iloc[1,0]\n",
    "lat = coordinates_gdp_example.y\n",
    "lon = coordinates_gdp_example.x\n",
    "\n",
    "lat = 48.15301773690073\n",
    "lon = 11.605151825623373\n",
    "\n",
    "print(lat, lon)\n",
    "\n",
    "payload = {'lat':lat,\n",
    "            'lon':lon,\n",
    "            'type':param_info['type'],\n",
    "            'mode':param_info['mode'],\n",
    "            'range':param_info['range'],\n",
    "            'apiKey':param_info['apiKey']}\n",
    "\n",
    "url = \"https://api.geoapify.com/v1/isoline?lat={lat}&lon={lon}&type={type}&mode={mode}&range={range}&apiKey={apiKey}\".format(**payload)\n",
    "\n",
    "from requests.structures import CaseInsensitiveDict\n",
    "\n",
    "headers = CaseInsensitiveDict()\n",
    "headers[\"Accept\"] = \"application/json\"\n",
    "resp = requests.get(url, headers=headers)\n",
    "response_data = json.loads(resp.text)\n",
    "result = response_data.get('features')[0]"
   ]
  },
  {
   "cell_type": "code",
   "execution_count": 18,
   "id": "38344d6f",
   "metadata": {},
   "outputs": [
    {
     "data": {
      "application/vnd.plotly.v1+json": {
       "config": {
        "plotlyServerURL": "https://plot.ly"
       },
       "data": [
        {
         "lat": [
          48.15301773690073
         ],
         "lon": [
          11.605151825623373
         ],
         "marker": {
          "color": [
           "cyan"
          ],
          "size": 5
         },
         "mode": "markers",
         "type": "scattermapbox"
        }
       ],
       "layout": {
        "mapbox": {
         "center": {
          "lat": 48.15301773690073,
          "lon": 11.605151825623373
         },
         "layers": [
          {
           "below": "traces",
           "color": "royalblue",
           "opacity": 0.7,
           "source": {
            "features": [
             {
              "geometry": {
               "coordinates": [
                [
                 [
                  [
                   11.624329,
                   48.1702
                  ],
                  [
                   11.624411,
                   48.170025
                  ],
                  [
                   11.62442,
                   48.16975
                  ],
                  [
                   11.624338,
                   48.169205
                  ],
                  [
                   11.62435,
                   48.169018
                  ],
                  [
                   11.624803,
                   48.168671
                  ],
                  [
                   11.625152,
                   48.168358
                  ],
                  [
                   11.625298,
                   48.168163
                  ],
                  [
                   11.625315,
                   48.168022
                  ],
                  [
                   11.62547,
                   48.167702
                  ],
                  [
                   11.625588,
                   48.167458
                  ],
                  [
                   11.625813,
                   48.167015
                  ],
                  [
                   11.625899,
                   48.166767
                  ],
                  [
                   11.626152,
                   48.166546
                  ],
                  [
                   11.626552,
                   48.16642
                  ],
                  [
                   11.626979,
                   48.166019
                  ],
                  [
                   11.626447,
                   48.165726
                  ],
                  [
                   11.626152,
                   48.165623
                  ],
                  [
                   11.6257,
                   48.165474
                  ],
                  [
                   11.625527,
                   48.165394
                  ],
                  [
                   11.625153,
                   48.165245
                  ],
                  [
                   11.624949,
                   48.165222
                  ],
                  [
                   11.624606,
                   48.165024
                  ],
                  [
                   11.624846,
                   48.164715
                  ],
                  [
                   11.625154,
                   48.164303
                  ],
                  [
                   11.625262,
                   48.164127
                  ],
                  [
                   11.625331,
                   48.164021
                  ],
                  [
                   11.62544,
                   48.163734
                  ],
                  [
                   11.625584,
                   48.163452
                  ],
                  [
                   11.62569,
                   48.163021
                  ],
                  [
                   11.625462,
                   48.162708
                  ],
                  [
                   11.625153,
                   48.16251
                  ],
                  [
                   11.624837,
                   48.162334
                  ],
                  [
                   11.624215,
                   48.162018
                  ],
                  [
                   11.624172,
                   48.162003
                  ],
                  [
                   11.624153,
                   48.161995
                  ],
                  [
                   11.62412,
                   48.161987
                  ],
                  [
                   11.623263,
                   48.161907
                  ],
                  [
                   11.623153,
                   48.161839
                  ],
                  [
                   11.622663,
                   48.16151
                  ],
                  [
                   11.622666,
                   48.161018
                  ],
                  [
                   11.622543,
                   48.160629
                  ],
                  [
                   11.622152,
                   48.16021
                  ],
                  [
                   11.621959,
                   48.160213
                  ],
                  [
                   11.621433,
                   48.160019
                  ],
                  [
                   11.621188,
                   48.159988
                  ],
                  [
                   11.621152,
                   48.159969
                  ],
                  [
                   11.621099,
                   48.159966
                  ],
                  [
                   11.621054,
                   48.160019
                  ],
                  [
                   11.620969,
                   48.160202
                  ],
                  [
                   11.620752,
                   48.160618
                  ],
                  [
                   11.620607,
                   48.161022
                  ],
                  [
                   11.620645,
                   48.161507
                  ],
                  [
                   11.620153,
                   48.161598
                  ],
                  [
                   11.619777,
                   48.161396
                  ],
                  [
                   11.619522,
                   48.161385
                  ],
                  [
                   11.619152,
                   48.161289
                  ],
                  [
                   11.61899,
                   48.161179
                  ],
                  [
                   11.618791,
                   48.161018
                  ],
                  [
                   11.61848,
                   48.160694
                  ],
                  [
                   11.618153,
                   48.160351
                  ],
                  [
                   11.617985,
                   48.160187
                  ],
                  [
                   11.617837,
                   48.160023
                  ],
                  [
                   11.61761,
                   48.159561
                  ],
                  [
                   11.61762,
                   48.159489
                  ],
                  [
                   11.617528,
                   48.159019
                  ],
                  [
                   11.61753,
                   48.158642
                  ],
                  [
                   11.617235,
                   48.158104
                  ],
                  [
                   11.617237,
                   48.15802
                  ],
                  [
                   11.617187,
                   48.157986
                  ],
                  [
                   11.617152,
                   48.15799
                  ],
                  [
                   11.617116,
                   48.157982
                  ],
                  [
                   11.616304,
                   48.157867
                  ],
                  [
                   11.616152,
                   48.157845
                  ],
                  [
                   11.615656,
                   48.15752
                  ],
                  [
                   11.615642,
                   48.157509
                  ],
                  [
                   11.615153,
                   48.157253
                  ],
                  [
                   11.614935,
                   48.157242
                  ],
                  [
                   11.614213,
                   48.157082
                  ],
                  [
                   11.614154,
                   48.157074
                  ],
                  [
                   11.614128,
                   48.157047
                  ],
                  [
                   11.614114,
                   48.157021
                  ],
                  [
                   11.614106,
                   48.156971
                  ],
                  [
                   11.614153,
                   48.156872
                  ],
                  [
                   11.614578,
                   48.156441
                  ],
                  [
                   11.614792,
                   48.156013
                  ],
                  [
                   11.614847,
                   48.155712
                  ],
                  [
                   11.615147,
                   48.155018
                  ],
                  [
                   11.615149,
                   48.155018
                  ],
                  [
                   11.615149,
                   48.155014
                  ],
                  [
                   11.615152,
                   48.155018
                  ],
                  [
                   11.615154,
                   48.155018
                  ],
                  [
                   11.615677,
                   48.155495
                  ],
                  [
                   11.616153,
                   48.155533
                  ],
                  [
                   11.616591,
                   48.155457
                  ],
                  [
                   11.61671,
                   48.15546
                  ],
                  [
                   11.617152,
                   48.155407
                  ],
                  [
                   11.617618,
                   48.155548
                  ],
                  [
                   11.618048,
                   48.156017
                  ],
                  [
                   11.618064,
                   48.156105
                  ],
                  [
                   11.618154,
                   48.156227
                  ],
                  [
                   11.618339,
                   48.156208
                  ],
                  [
                   11.618713,
                   48.156017
                  ],
                  [
                   11.619017,
                   48.15588
                  ],
                  [
                   11.619152,
                   48.155838
                  ],
                  [
                   11.619352,
                   48.155815
                  ],
                  [
                   11.620101,
                   48.155964
                  ],
                  [
                   11.620152,
                   48.155956
                  ],
                  [
                   11.620522,
                   48.155388
                  ],
                  [
                   11.620799,
                   48.155014
                  ],
                  [
                   11.621027,
                   48.154892
                  ],
                  [
                   11.621153,
                   48.154827
                  ],
                  [
                   11.621305,
                   48.154865
                  ],
                  [
                   11.621517,
                   48.155018
                  ],
                  [
                   11.621847,
                   48.155323
                  ],
                  [
                   11.622152,
                   48.155495
                  ],
                  [
                   11.62252,
                   48.155384
                  ],
                  [
                   11.622756,
                   48.155415
                  ],
                  [
                   11.623152,
                   48.155354
                  ],
                  [
                   11.623342,
                   48.155209
                  ],
                  [
                   11.624008,
                   48.155163
                  ],
                  [
                   11.624153,
                   48.155113
                  ],
                  [
                   11.624241,
                   48.155109
                  ],
                  [
                   11.624882,
                   48.155018
                  ],
                  [
                   11.625077,
                   48.154945
                  ],
                  [
                   11.625153,
                   48.154915
                  ],
                  [
                   11.625395,
                   48.154774
                  ],
                  [
                   11.625712,
                   48.154579
                  ],
                  [
                   11.626152,
                   48.154385
                  ],
                  [
                   11.626441,
                   48.154305
                  ],
                  [
                   11.627102,
                   48.154068
                  ],
                  [
                   11.627152,
                   48.154053
                  ],
                  [
                   11.627219,
                   48.154083
                  ],
                  [
                   11.627847,
                   48.154324
                  ],
                  [
                   11.628153,
                   48.154522
                  ],
                  [
                   11.628489,
                   48.154682
                  ],
                  [
                   11.629149,
                   48.155018
                  ],
                  [
                   11.629151,
                   48.155018
                  ],
                  [
                   11.629154,
                   48.155022
                  ],
                  [
                   11.62916,
                   48.155014
                  ],
                  [
                   11.629998,
                   48.154865
                  ],
                  [
                   11.630152,
                   48.154827
                  ],
                  [
                   11.630566,
                   48.154427
                  ],
                  [
                   11.630995,
                   48.154175
                  ],
                  [
                   11.631152,
                   48.154072
                  ],
                  [
                   11.631197,
                   48.154064
                  ],
                  [
                   11.631274,
                   48.154018
                  ],
                  [
                   11.631314,
                   48.153854
                  ],
                  [
                   11.631399,
                   48.153263
                  ],
                  [
                   11.631479,
                   48.153019
                  ],
                  [
                   11.631236,
                   48.152935
                  ],
                  [
                   11.631152,
                   48.152893
                  ],
                  [
                   11.630892,
                   48.15276
                  ],
                  [
                   11.630582,
                   48.152588
                  ],
                  [
                   11.630153,
                   48.15239
                  ],
                  [
                   11.629898,
                   48.152271
                  ],
                  [
                   11.629465,
                   48.15202
                  ],
                  [
                   11.629297,
                   48.151875
                  ],
                  [
                   11.629152,
                   48.151741
                  ],
                  [
                   11.628942,
                   48.15181
                  ],
                  [
                   11.628417,
                   48.15202
                  ],
                  [
                   11.628207,
                   48.152077
                  ],
                  [
                   11.628153,
                   48.152084
                  ],
                  [
                   11.62804,
                   48.152134
                  ],
                  [
                   11.627456,
                   48.152325
                  ],
                  [
                   11.627152,
                   48.152485
                  ],
                  [
                   11.626685,
                   48.152485
                  ],
                  [
                   11.626616,
                   48.152481
                  ],
                  [
                   11.626152,
                   48.152481
                  ],
                  [
                   11.625853,
                   48.152321
                  ],
                  [
                   11.625309,
                   48.15218
                  ],
                  [
                   11.625152,
                   48.152115
                  ],
                  [
                   11.62508,
                   48.152088
                  ],
                  [
                   11.624862,
                   48.15202
                  ],
                  [
                   11.62453,
                   48.151638
                  ],
                  [
                   11.624152,
                   48.151123
                  ],
                  [
                   11.62406,
                   48.151112
                  ],
                  [
                   11.624108,
                   48.15102
                  ],
                  [
                   11.624134,
                   48.151005
                  ],
                  [
                   11.624152,
                   48.15099
                  ],
                  [
                   11.624197,
                   48.150974
                  ],
                  [
                   11.624851,
                   48.150719
                  ],
                  [
                   11.625153,
                   48.150635
                  ],
                  [
                   11.625566,
                   48.150612
                  ],
                  [
                   11.625744,
                   48.150608
                  ],
                  [
                   11.626152,
                   48.150578
                  ],
                  [
                   11.62653,
                   48.150398
                  ],
                  [
                   11.627068,
                   48.150021
                  ],
                  [
                   11.627112,
                   48.149982
                  ],
                  [
                   11.627152,
                   48.149948
                  ],
                  [
                   11.627221,
                   48.149952
                  ],
                  [
                   11.628129,
                   48.150002
                  ],
                  [
                   11.628152,
                   48.149998
                  ],
                  [
                   11.628199,
                   48.149975
                  ],
                  [
                   11.62882,
                   48.149685
                  ],
                  [
                   11.629153,
                   48.149467
                  ],
                  [
                   11.629381,
                   48.149246
                  ],
                  [
                   11.62974,
                   48.149017
                  ],
                  [
                   11.629992,
                   48.148857
                  ],
                  [
                   11.630152,
                   48.148563
                  ],
                  [
                   11.63041,
                   48.148277
                  ],
                  [
                   11.630898,
                   48.148018
                  ],
                  [
                   11.631054,
                   48.147919
                  ],
                  [
                   11.631152,
                   48.147766
                  ],
                  [
                   11.631305,
                   48.147865
                  ],
                  [
                   11.631806,
                   48.147675
                  ],
                  [
                   11.632153,
                   48.147724
                  ],
                  [
                   11.632493,
                   48.147678
                  ],
                  [
                   11.632874,
                   48.147743
                  ],
                  [
                   11.633152,
                   48.147659
                  ],
                  [
                   11.633469,
                   48.147335
                  ],
                  [
                   11.634062,
                   48.147018
                  ],
                  [
                   11.634033,
                   48.146896
                  ],
                  [
                   11.63405,
                   48.146122
                  ],
                  [
                   11.634002,
                   48.146019
                  ],
                  [
                   11.633307,
                   48.145863
                  ],
                  [
                   11.633152,
                   48.145752
                  ],
                  [
                   11.632655,
                   48.145523
                  ],
                  [
                   11.632651,
                   48.145523
                  ],
                  [
                   11.632153,
                   48.145344
                  ],
                  [
                   11.631655,
                   48.145519
                  ],
                  [
                   11.631651,
                   48.145519
                  ],
                  [
                   11.631151,
                   48.145679
                  ],
                  [
                   11.630746,
                   48.145615
                  ],
                  [
                   11.630444,
                   48.145729
                  ],
                  [
                   11.630154,
                   48.145489
                  ],
                  [
                   11.629897,
                   48.145275
                  ],
                  [
                   11.629579,
                   48.145447
                  ],
                  [
                   11.629152,
                   48.145393
                  ],
                  [
                   11.628919,
                   48.145252
                  ],
                  [
                   11.628706,
                   48.14502
                  ],
                  [
                   11.628543,
                   48.14463
                  ],
                  [
                   11.628153,
                   48.144329
                  ],
                  [
                   11.627714,
                   48.144581
                  ],
                  [
                   11.627585,
                   48.14502
                  ],
                  [
                   11.627373,
                   48.145237
                  ],
                  [
                   11.627151,
                   48.145355
                  ],
                  [
                   11.626671,
                   48.1455
                  ],
                  [
                   11.626641,
                   48.145512
                  ],
                  [
                   11.626153,
                   48.145672
                  ],
                  [
                   11.625796,
                   48.145664
                  ],
                  [
                   11.625439,
                   48.145729
                  ],
                  [
                   11.625153,
                   48.145718
                  ],
                  [
                   11.625024,
                   48.145893
                  ],
                  [
                   11.624971,
                   48.146023
                  ],
                  [
                   11.624475,
                   48.146339
                  ],
                  [
                   11.624153,
                   48.146458
                  ],
                  [
                   11.623762,
                   48.146408
                  ],
                  [
                   11.623359,
                   48.146229
                  ],
                  [
                   11.623153,
                   48.146175
                  ],
                  [
                   11.622976,
                   48.146198
                  ],
                  [
                   11.622656,
                   48.146023
                  ],
                  [
                   11.62231,
                   48.145863
                  ],
                  [
                   11.622152,
                   48.145828
                  ],
                  [
                   11.622023,
                   48.145889
                  ],
                  [
                   11.621833,
                   48.146019
                  ],
                  [
                   11.621691,
                   48.146484
                  ],
                  [
                   11.621673,
                   48.146542
                  ],
                  [
                   11.621525,
                   48.147018
                  ],
                  [
                   11.621236,
                   48.147099
                  ],
                  [
                   11.621153,
                   48.147125
                  ],
                  [
                   11.621048,
                   48.147125
                  ],
                  [
                   11.620848,
                   48.147022
                  ],
                  [
                   11.620583,
                   48.146587
                  ],
                  [
                   11.620152,
                   48.146305
                  ],
                  [
                   11.619923,
                   48.146248
                  ],
                  [
                   11.619263,
                   48.14613
                  ],
                  [
                   11.619152,
                   48.146103
                  ],
                  [
                   11.619068,
                   48.146099
                  ],
                  [
                   11.61904,
                   48.146019
                  ],
                  [
                   11.61849,
                   48.145683
                  ],
                  [
                   11.618152,
                   48.14547
                  ],
                  [
                   11.617819,
                   48.145355
                  ],
                  [
                   11.617211,
                   48.14502
                  ],
                  [
                   11.617306,
                   48.144867
                  ],
                  [
                   11.617581,
                   48.144447
                  ],
                  [
                   11.61779,
                   48.14402
                  ],
                  [
                   11.617751,
                   48.14362
                  ],
                  [
                   11.617752,
                   48.143417
                  ],
                  [
                   11.617705,
                   48.143017
                  ],
                  [
                   11.617424,
                   48.142746
                  ],
                  [
                   11.617152,
                   48.142521
                  ],
                  [
                   11.616908,
                   48.142262
                  ],
                  [
                   11.616671,
                   48.142017
                  ],
                  [
                   11.616343,
                   48.141827
                  ],
                  [
                   11.616153,
                   48.141708
                  ],
                  [
                   11.615735,
                   48.141602
                  ],
                  [
                   11.615604,
                   48.141563
                  ],
                  [
                   11.615152,
                   48.141449
                  ],
                  [
                   11.614849,
                   48.141712
                  ],
                  [
                   11.614333,
                   48.142017
                  ],
                  [
                   11.614242,
                   48.142105
                  ],
                  [
                   11.614153,
                   48.142296
                  ],
                  [
                   11.613833,
                   48.1427
                  ],
                  [
                   11.613504,
                   48.143021
                  ],
                  [
                   11.613333,
                   48.143196
                  ],
                  [
                   11.613153,
                   48.143436
                  ],
                  [
                   11.612976,
                   48.143845
                  ],
                  [
                   11.612814,
                   48.14402
                  ],
                  [
                   11.612892,
                   48.144279
                  ],
                  [
                   11.613153,
                   48.144444
                  ],
                  [
                   11.61361,
                   48.144566
                  ],
                  [
                   11.613675,
                   48.144543
                  ],
                  [
                   11.614153,
                   48.144592
                  ],
                  [
                   11.614413,
                   48.14476
                  ],
                  [
                   11.614852,
                   48.145016
                  ],
                  [
                   11.614652,
                   48.145515
                  ],
                  [
                   11.614153,
                   48.145741
                  ],
                  [
                   11.613969,
                   48.145836
                  ],
                  [
                   11.613948,
                   48.146019
                  ],
                  [
                   11.613591,
                   48.146458
                  ],
                  [
                   11.613152,
                   48.146751
                  ],
                  [
                   11.612959,
                   48.146828
                  ],
                  [
                   11.612483,
                   48.147018
                  ],
                  [
                   11.612358,
                   48.147224
                  ],
                  [
                   11.612415,
                   48.147755
                  ],
                  [
                   11.612354,
                   48.148018
                  ],
                  [
                   11.612262,
                   48.148129
                  ],
                  [
                   11.612152,
                   48.14817
                  ],
                  [
                   11.612,
                   48.14817
                  ],
                  [
                   11.611738,
                   48.148018
                  ],
                  [
                   11.611567,
                   48.147602
                  ],
                  [
                   11.611153,
                   48.147423
                  ],
                  [
                   11.610954,
                   48.147217
                  ],
                  [
                   11.610714,
                   48.147018
                  ],
                  [
                   11.610325,
                   48.146843
                  ],
                  [
                   11.610152,
                   48.146824
                  ],
                  [
                   11.609946,
                   48.146812
                  ],
                  [
                   11.609331,
                   48.146839
                  ],
                  [
                   11.609152,
                   48.146828
                  ],
                  [
                   11.608758,
                   48.146622
                  ],
                  [
                   11.608608,
                   48.146561
                  ],
                  [
                   11.608153,
                   48.146202
                  ],
                  [
                   11.607982,
                   48.146187
                  ],
                  [
                   11.607751,
                   48.146015
                  ],
                  [
                   11.608034,
                   48.145901
                  ],
                  [
                   11.608152,
                   48.145782
                  ],
                  [
                   11.608509,
                   48.145374
                  ],
                  [
                   11.609018,
                   48.14502
                  ],
                  [
                   11.609052,
                   48.14492
                  ],
                  [
                   11.609113,
                   48.144058
                  ],
                  [
                   11.609121,
                   48.14402
                  ],
                  [
                   11.609113,
                   48.143982
                  ],
                  [
                   11.608943,
                   48.14323
                  ],
                  [
                   11.608902,
                   48.143021
                  ],
                  [
                   11.608643,
                   48.142529
                  ],
                  [
                   11.608583,
                   48.142452
                  ],
                  [
                   11.608283,
                   48.142017
                  ],
                  [
                   11.608288,
                   48.141884
                  ],
                  [
                   11.608152,
                   48.141739
                  ],
                  [
                   11.607856,
                   48.141315
                  ],
                  [
                   11.607453,
                   48.141018
                  ],
                  [
                   11.607971,
                   48.140835
                  ],
                  [
                   11.608152,
                   48.140747
                  ],
                  [
                   11.60863,
                   48.140495
                  ],
                  [
                   11.608835,
                   48.140018
                  ],
                  [
                   11.608859,
                   48.139721
                  ],
                  [
                   11.609086,
                   48.139084
                  ],
                  [
                   11.609096,
                   48.139023
                  ],
                  [
                   11.60851,
                   48.13866
                  ],
                  [
                   11.608152,
                   48.138119
                  ],
                  [
                   11.608088,
                   48.138084
                  ],
                  [
                   11.607343,
                   48.13821
                  ],
                  [
                   11.607153,
                   48.138168
                  ],
                  [
                   11.607,
                   48.138172
                  ],
                  [
                   11.60654,
                   48.13802
                  ],
                  [
                   11.606274,
                   48.137897
                  ],
                  [
                   11.606153,
                   48.137886
                  ],
                  [
                   11.606066,
                   48.137936
                  ],
                  [
                   11.605944,
                   48.13802
                  ],
                  [
                   11.605625,
                   48.138496
                  ],
                  [
                   11.605614,
                   48.138561
                  ],
                  [
                   11.605448,
                   48.139019
                  ],
                  [
                   11.605397,
                   48.139271
                  ],
                  [
                   11.605153,
                   48.139645
                  ],
                  [
                   11.60495,
                   48.139816
                  ],
                  [
                   11.604795,
                   48.140018
                  ],
                  [
                   11.604998,
                   48.140175
                  ],
                  [
                   11.605153,
                   48.140228
                  ],
                  [
                   11.605622,
                   48.140545
                  ],
                  [
                   11.606126,
                   48.141018
                  ],
                  [
                   11.606062,
                   48.141109
                  ],
                  [
                   11.60574,
                   48.141605
                  ],
                  [
                   11.605303,
                   48.142017
                  ],
                  [
                   11.605227,
                   48.142094
                  ],
                  [
                   11.605152,
                   48.142174
                  ],
                  [
                   11.604788,
                   48.142654
                  ],
                  [
                   11.604261,
                   48.143021
                  ],
                  [
                   11.604701,
                   48.143475
                  ],
                  [
                   11.605152,
                   48.143822
                  ],
                  [
                   11.605229,
                   48.143944
                  ],
                  [
                   11.605251,
                   48.14402
                  ],
                  [
                   11.605245,
                   48.144112
                  ],
                  [
                   11.605151,
                   48.144325
                  ],
                  [
                   11.604658,
                   48.144512
                  ],
                  [
                   11.60465,
                   48.144516
                  ],
                  [
                   11.604153,
                   48.144604
                  ],
                  [
                   11.603753,
                   48.144619
                  ],
                  [
                   11.603541,
                   48.14463
                  ],
                  [
                   11.603152,
                   48.144646
                  ],
                  [
                   11.60276,
                   48.144413
                  ],
                  [
                   11.602276,
                   48.14402
                  ],
                  [
                   11.602294,
                   48.143875
                  ],
                  [
                   11.602435,
                   48.143307
                  ],
                  [
                   11.602463,
                   48.143021
                  ],
                  [
                   11.602476,
                   48.142693
                  ],
                  [
                   11.602447,
                   48.142311
                  ],
                  [
                   11.602462,
                   48.142017
                  ],
                  [
                   11.602287,
                   48.141884
                  ],
                  [
                   11.602153,
                   48.141861
                  ],
                  [
                   11.601815,
                   48.141682
                  ],
                  [
                   11.601592,
                   48.141579
                  ],
                  [
                   11.601153,
                   48.141277
                  ],
                  [
                   11.600667,
                   48.141537
                  ],
                  [
                   11.600767,
                   48.142017
                  ],
                  [
                   11.600599,
                   48.142464
                  ],
                  [
                   11.600359,
                   48.142815
                  ],
                  [
                   11.600235,
                   48.143021
                  ],
                  [
                   11.600225,
                   48.143093
                  ],
                  [
                   11.600153,
                   48.143234
                  ],
                  [
                   11.59981,
                   48.143677
                  ],
                  [
                   11.599666,
                   48.144024
                  ],
                  [
                   11.599483,
                   48.144352
                  ],
                  [
                   11.599153,
                   48.144241
                  ],
                  [
                   11.598987,
                   48.144184
                  ],
                  [
                   11.598768,
                   48.144024
                  ],
                  [
                   11.598539,
                   48.143631
                  ],
                  [
                   11.598152,
                   48.143414
                  ],
                  [
                   11.597771,
                   48.143402
                  ],
                  [
                   11.597469,
                   48.143341
                  ],
                  [
                   11.597153,
                   48.143322
                  ],
                  [
                   11.596814,
                   48.143684
                  ],
                  [
                   11.596651,
                   48.14402
                  ],
                  [
                   11.596539,
                   48.144405
                  ],
                  [
                   11.596554,
                   48.144619
                  ],
                  [
                   11.596489,
                   48.145016
                  ],
                  [
                   11.59635,
                   48.145218
                  ],
                  [
                   11.596151,
                   48.145382
                  ],
                  [
                   11.595925,
                   48.145248
                  ],
                  [
                   11.595812,
                   48.14502
                  ],
                  [
                   11.595663,
                   48.144527
                  ],
                  [
                   11.595666,
                   48.144505
                  ],
                  [
                   11.595288,
                   48.144154
                  ],
                  [
                   11.595152,
                   48.144024
                  ],
                  [
                   11.59515,
                   48.144024
                  ],
                  [
                   11.59514,
                   48.144016
                  ],
                  [
                   11.594483,
                   48.143692
                  ],
                  [
                   11.594152,
                   48.143311
                  ],
                  [
                   11.594002,
                   48.143169
                  ],
                  [
                   11.593577,
                   48.143021
                  ],
                  [
                   11.593221,
                   48.142952
                  ],
                  [
                   11.593151,
                   48.142944
                  ],
                  [
                   11.593067,
                   48.142937
                  ],
                  [
                   11.592706,
                   48.143024
                  ],
                  [
                   11.592258,
                   48.143124
                  ],
                  [
                   11.592153,
                   48.143143
                  ],
                  [
                   11.591702,
                   48.143574
                  ],
                  [
                   11.591609,
                   48.143562
                  ],
                  [
                   11.591151,
                   48.143696
                  ],
                  [
                   11.590838,
                   48.143703
                  ],
                  [
                   11.590328,
                   48.143845
                  ],
                  [
                   11.590152,
                   48.143852
                  ],
                  [
                   11.589946,
                   48.14381
                  ],
                  [
                   11.589674,
                   48.14402
                  ],
                  [
                   11.589968,
                   48.144203
                  ],
                  [
                   11.590153,
                   48.144432
                  ],
                  [
                   11.590384,
                   48.144791
                  ],
                  [
                   11.590419,
                   48.14502
                  ],
                  [
                   11.59048,
                   48.145348
                  ],
                  [
                   11.590153,
                   48.145439
                  ],
                  [
                   11.589835,
                   48.145699
                  ],
                  [
                   11.589257,
                   48.145912
                  ],
                  [
                   11.589152,
                   48.145966
                  ],
                  [
                   11.589118,
                   48.145985
                  ],
                  [
                   11.589111,
                   48.146019
                  ],
                  [
                   11.589121,
                   48.146053
                  ],
                  [
                   11.589152,
                   48.146217
                  ],
                  [
                   11.589437,
                   48.146732
                  ],
                  [
                   11.589475,
                   48.147018
                  ],
                  [
                   11.589508,
                   48.147377
                  ],
                  [
                   11.589528,
                   48.147644
                  ],
                  [
                   11.589567,
                   48.148018
                  ],
                  [
                   11.58963,
                   48.148495
                  ],
                  [
                   11.589615,
                   48.148556
                  ],
                  [
                   11.589779,
                   48.149014
                  ],
                  [
                   11.589904,
                   48.149269
                  ],
                  [
                   11.590046,
                   48.14991
                  ],
                  [
                   11.590082,
                   48.150021
                  ],
                  [
                   11.590076,
                   48.150097
                  ],
                  [
                   11.590153,
                   48.150448
                  ],
                  [
                   11.590213,
                   48.150959
                  ],
                  [
                   11.590198,
                   48.15102
                  ],
                  [
                   11.590188,
                   48.151054
                  ],
                  [
                   11.590153,
                   48.15115
                  ],
                  [
                   11.589844,
                   48.151325
                  ],
                  [
                   11.589609,
                   48.151474
                  ],
                  [
                   11.589152,
                   48.151688
                  ],
                  [
                   11.588923,
                   48.151791
                  ],
                  [
                   11.588396,
                   48.152016
                  ],
                  [
                   11.588292,
                   48.152161
                  ],
                  [
                   11.588256,
                   48.152916
                  ],
                  [
                   11.588223,
                   48.153023
                  ],
                  [
                   11.588706,
                   48.153465
                  ],
                  [
                   11.588762,
                   48.153629
                  ],
                  [
                   11.588964,
                   48.154018
                  ],
                  [
                   11.588946,
                   48.154228
                  ],
                  [
                   11.589153,
                   48.154575
                  ],
                  [
                   11.589398,
                   48.15477
                  ],
                  [
                   11.589631,
                   48.155018
                  ],
                  [
                   11.589462,
                   48.155331
                  ],
                  [
                   11.589153,
                   48.155281
                  ],
                  [
                   11.588704,
                   48.155571
                  ],
                  [
                   11.588414,
                   48.156017
                  ],
                  [
                   11.588221,
                   48.156082
                  ],
                  [
                   11.588153,
                   48.156094
                  ],
                  [
                   11.588067,
                   48.156101
                  ],
                  [
                   11.587252,
                   48.156116
                  ],
                  [
                   11.587152,
                   48.156136
                  ],
                  [
                   11.587048,
                   48.15612
                  ],
                  [
                   11.586929,
                   48.156017
                  ],
                  [
                   11.586752,
                   48.155617
                  ],
                  [
                   11.58672,
                   48.155449
                  ],
                  [
                   11.586209,
                   48.155018
                  ],
                  [
                   11.586163,
                   48.155006
                  ],
                  [
                   11.586152,
                   48.154991
                  ],
                  [
                   11.586021,
                   48.154884
                  ],
                  [
                   11.58561,
                   48.15456
                  ],
                  [
                   11.585153,
                   48.154221
                  ],
                  [
                   11.585046,
                   48.154121
                  ],
                  [
                   11.584895,
                   48.154022
                  ],
                  [
                   11.584504,
                   48.153667
                  ],
                  [
                   11.584152,
                   48.153465
                  ],
                  [
                   11.583812,
                   48.153358
                  ],
                  [
                   11.583356,
                   48.153225
                  ],
                  [
                   11.583153,
                   48.153164
                  ],
                  [
                   11.582933,
                   48.15324
                  ],
                  [
                   11.582493,
                   48.153019
                  ],
                  [
                   11.583009,
                   48.152878
                  ],
                  [
                   11.583153,
                   48.152702
                  ],
                  [
                   11.583467,
                   48.152332
                  ],
                  [
                   11.583563,
                   48.15202
                  ],
                  [
                   11.583403,
                   48.151768
                  ],
                  [
                   11.583154,
                   48.1511
                  ],
                  [
                   11.583131,
                   48.151039
                  ],
                  [
                   11.583124,
                   48.15102
                  ],
                  [
                   11.583037,
                   48.150906
                  ],
                  [
                   11.582731,
                   48.150444
                  ],
                  [
                   11.582354,
                   48.150223
                  ],
                  [
                   11.582152,
                   48.150082
                  ],
                  [
                   11.582097,
                   48.150078
                  ],
                  [
                   11.58205,
                   48.150021
                  ],
                  [
                   11.582052,
                   48.149918
                  ],
                  [
                   11.58189,
                   48.149281
                  ],
                  [
                   11.581892,
                   48.149017
                  ],
                  [
                   11.581459,
                   48.148712
                  ],
                  [
                   11.581153,
                   48.148556
                  ],
                  [
                   11.580688,
                   48.148479
                  ],
                  [
                   11.580547,
                   48.148415
                  ],
                  [
                   11.580153,
                   48.1483
                  ],
                  [
                   11.579786,
                   48.148384
                  ],
                  [
                   11.579529,
                   48.148396
                  ],
                  [
                   11.579151,
                   48.148544
                  ],
                  [
                   11.578984,
                   48.148849
                  ],
                  [
                   11.578786,
                   48.149021
                  ],
                  [
                   11.578887,
                   48.149284
                  ],
                  [
                   11.579151,
                   48.149574
                  ],
                  [
                   11.579404,
                   48.149769
                  ],
                  [
                   11.579799,
                   48.150021
                  ],
                  [
                   11.580035,
                   48.150139
                  ],
                  [
                   11.580153,
                   48.150295
                  ],
                  [
                   11.580439,
                   48.150734
                  ],
                  [
                   11.58051,
                   48.15102
                  ],
                  [
                   11.580629,
                   48.151493
                  ],
                  [
                   11.580636,
                   48.151535
                  ],
                  [
                   11.580782,
                   48.15202
                  ],
                  [
                   11.58087,
                   48.152302
                  ],
                  [
                   11.581153,
                   48.152782
                  ],
                  [
                   11.581246,
                   48.152931
                  ],
                  [
                   11.581677,
                   48.153019
                  ],
                  [
                   11.582025,
                   48.153149
                  ],
                  [
                   11.582151,
                   48.153538
                  ],
                  [
                   11.582289,
                   48.153881
                  ],
                  [
                   11.582226,
                   48.154018
                  ],
                  [
                   11.582193,
                   48.15406
                  ],
                  [
                   11.582152,
                   48.154152
                  ],
                  [
                   11.581781,
                   48.154644
                  ],
                  [
                   11.581491,
                   48.155018
                  ],
                  [
                   11.581541,
                   48.155407
                  ],
                  [
                   11.581534,
                   48.155632
                  ],
                  [
                   11.581607,
                   48.156017
                  ],
                  [
                   11.582004,
                   48.156166
                  ],
                  [
                   11.582152,
                   48.15617
                  ],
                  [
                   11.582586,
                   48.156582
                  ],
                  [
                   11.582685,
                   48.157021
                  ],
                  [
                   11.582561,
                   48.157425
                  ],
                  [
                   11.582152,
                   48.157776
                  ],
                  [
                   11.581913,
                   48.15778
                  ],
                  [
                   11.581207,
                   48.15802
                  ],
                  [
                   11.581845,
                   48.158329
                  ],
                  [
                   11.582153,
                   48.158546
                  ],
                  [
                   11.582475,
                   48.158695
                  ],
                  [
                   11.58298,
                   48.158848
                  ],
                  [
                   11.583154,
                   48.158913
                  ],
                  [
                   11.583244,
                   48.158928
                  ],
                  [
                   11.583983,
                   48.158848
                  ],
                  [
                   11.584152,
                   48.158871
                  ],
                  [
                   11.584267,
                   48.158905
                  ],
                  [
                   11.584441,
                   48.159019
                  ],
                  [
                   11.584671,
                   48.1595
                  ],
                  [
                   11.585154,
                   48.159817
                  ],
                  [
                   11.585617,
                   48.159481
                  ],
                  [
                   11.58592,
                   48.159019
                  ],
                  [
                   11.58604,
                   48.158905
                  ],
                  [
                   11.586152,
                   48.158772
                  ],
                  [
                   11.586473,
                   48.158699
                  ],
                  [
                   11.58673,
                   48.1586
                  ],
                  [
                   11.587152,
                   48.158539
                  ],
                  [
                   11.587471,
                   48.158337
                  ],
                  [
                   11.587955,
                   48.15802
                  ],
                  [
                   11.588096,
                   48.157963
                  ],
                  [
                   11.588153,
                   48.157963
                  ],
                  [
                   11.588212,
                   48.157963
                  ],
                  [
                   11.589083,
                   48.157951
                  ],
                  [
                   11.589152,
                   48.157951
                  ],
                  [
                   11.589283,
                   48.15789
                  ],
                  [
                   11.589927,
                   48.157795
                  ],
                  [
                   11.590153,
                   48.15744
                  ],
                  [
                   11.590396,
                   48.157265
                  ],
                  [
                   11.59068,
                   48.157017
                  ],
                  [
                   11.590796,
                   48.156658
                  ],
                  [
                   11.591152,
                   48.156662
                  ],
                  [
                   11.591637,
                   48.156498
                  ],
                  [
                   11.591663,
                   48.156506
                  ],
                  [
                   11.592152,
                   48.156429
                  ],
                  [
                   11.592448,
                   48.156315
                  ],
                  [
                   11.592904,
                   48.156265
                  ],
                  [
                   11.593152,
                   48.1562
                  ],
                  [
                   11.593386,
                   48.15625
                  ],
                  [
                   11.594124,
                   48.156044
                  ],
                  [
                   11.594152,
                   48.156071
                  ],
                  [
                   11.594176,
                   48.15604
                  ],
                  [
                   11.595138,
                   48.156021
                  ],
                  [
                   11.595153,
                   48.156017
                  ],
                  [
                   11.595159,
                   48.15601
                  ],
                  [
                   11.595698,
                   48.155563
                  ],
                  [
                   11.596152,
                   48.155037
                  ],
                  [
                   11.596161,
                   48.155029
                  ],
                  [
                   11.596168,
                   48.155018
                  ],
                  [
                   11.596164,
                   48.155006
                  ],
                  [
                   11.596152,
                   48.154995
                  ],
                  [
                   11.595835,
                   48.154339
                  ],
                  [
                   11.595801,
                   48.154018
                  ],
                  [
                   11.595839,
                   48.153702
                  ],
                  [
                   11.596152,
                   48.153507
                  ],
                  [
                   11.596484,
                   48.153351
                  ],
                  [
                   11.597021,
                   48.153019
                  ],
                  [
                   11.597088,
                   48.152954
                  ],
                  [
                   11.597153,
                   48.152908
                  ],
                  [
                   11.597279,
                   48.152893
                  ],
                  [
                   11.597742,
                   48.152607
                  ],
                  [
                   11.598153,
                   48.152596
                  ],
                  [
                   11.598407,
                   48.152763
                  ],
                  [
                   11.598499,
                   48.153019
                  ],
                  [
                   11.598574,
                   48.153442
                  ],
                  [
                   11.598583,
                   48.153587
                  ],
                  [
                   11.598685,
                   48.154015
                  ],
                  [
                   11.598875,
                   48.154297
                  ],
                  [
                   11.599152,
                   48.154434
                  ],
                  [
                   11.599641,
                   48.154507
                  ],
                  [
                   11.599659,
                   48.154507
                  ],
                  [
                   11.600153,
                   48.154579
                  ],
                  [
                   11.600546,
                   48.154411
                  ],
                  [
                   11.600874,
                   48.154018
                  ],
                  [
                   11.600897,
                   48.153763
                  ],
                  [
                   11.600963,
                   48.15321
                  ],
                  [
                   11.600981,
                   48.153019
                  ],
                  [
                   11.601049,
                   48.152916
                  ],
                  [
                   11.601152,
                   48.152916
                  ],
                  [
                   11.601211,
                   48.152962
                  ],
                  [
                   11.601296,
                   48.153019
                  ],
                  [
                   11.601703,
                   48.153469
                  ],
                  [
                   11.602154,
                   48.153522
                  ],
                  [
                   11.602392,
                   48.153782
                  ],
                  [
                   11.602645,
                   48.154018
                  ],
                  [
                   11.60276,
                   48.154411
                  ],
                  [
                   11.603153,
                   48.154705
                  ],
                  [
                   11.603277,
                   48.154892
                  ],
                  [
                   11.603394,
                   48.155018
                  ],
                  [
                   11.603485,
                   48.15535
                  ],
                  [
                   11.603336,
                   48.155834
                  ],
                  [
                   11.603785,
                   48.156017
                  ],
                  [
                   11.603247,
                   48.156113
                  ],
                  [
                   11.603152,
                   48.156139
                  ],
                  [
                   11.602977,
                   48.156193
                  ],
                  [
                   11.602494,
                   48.156357
                  ],
                  [
                   11.602153,
                   48.15646
                  ],
                  [
                   11.601804,
                   48.156666
                  ],
                  [
                   11.601437,
                   48.157021
                  ],
                  [
                   11.601441,
                   48.15731
                  ],
                  [
                   11.601152,
                   48.157684
                  ],
                  [
                   11.601059,
                   48.157928
                  ],
                  [
                   11.600795,
                   48.15802
                  ],
                  [
                   11.600965,
                   48.158207
                  ],
                  [
                   11.601152,
                   48.158314
                  ],
                  [
                   11.601537,
                   48.158405
                  ],
                  [
                   11.601727,
                   48.158447
                  ],
                  [
                   11.602153,
                   48.158546
                  ],
                  [
                   11.602318,
                   48.158188
                  ],
                  [
                   11.603111,
                   48.158062
                  ],
                  [
                   11.603151,
                   48.158043
                  ],
                  [
                   11.603289,
                   48.158157
                  ],
                  [
                   11.603704,
                   48.15847
                  ],
                  [
                   11.603739,
                   48.158607
                  ],
                  [
                   11.60394,
                   48.159019
                  ],
                  [
                   11.603866,
                   48.159306
                  ],
                  [
                   11.604153,
                   48.159977
                  ],
                  [
                   11.604195,
                   48.159981
                  ],
                  [
                   11.604876,
                   48.160019
                  ],
                  [
                   11.605134,
                   48.160034
                  ],
                  [
                   11.605152,
                   48.160049
                  ],
                  [
                   11.605166,
                   48.160034
                  ],
                  [
                   11.605176,
                   48.160019
                  ],
                  [
                   11.605741,
                   48.159607
                  ],
                  [
                   11.606153,
                   48.159348
                  ],
                  [
                   11.60641,
                   48.159275
                  ],
                  [
                   11.606722,
                   48.159019
                  ],
                  [
                   11.606999,
                   48.158867
                  ],
                  [
                   11.607153,
                   48.158916
                  ],
                  [
                   11.607223,
                   48.158951
                  ],
                  [
                   11.607288,
                   48.159019
                  ],
                  [
                   11.60757,
                   48.159435
                  ],
                  [
                   11.607617,
                   48.159557
                  ],
                  [
                   11.607697,
                   48.159565
                  ],
                  [
                   11.608152,
                   48.159782
                  ],
                  [
                   11.608289,
                   48.159885
                  ],
                  [
                   11.608333,
                   48.160023
                  ],
                  [
                   11.608754,
                   48.160416
                  ],
                  [
                   11.609153,
                   48.1605
                  ],
                  [
                   11.609515,
                   48.16066
                  ],
                  [
                   11.609803,
                   48.161015
                  ],
                  [
                   11.609878,
                   48.161297
                  ],
                  [
                   11.610152,
                   48.161743
                  ],
                  [
                   11.610358,
                   48.161812
                  ],
                  [
                   11.610789,
                   48.162018
                  ],
                  [
                   11.610928,
                   48.162239
                  ],
                  [
                   11.611153,
                   48.162312
                  ],
                  [
                   11.611535,
                   48.162636
                  ],
                  [
                   11.611841,
                   48.163025
                  ],
                  [
                   11.611767,
                   48.163406
                  ],
                  [
                   11.611729,
                   48.163597
                  ],
                  [
                   11.611649,
                   48.164021
                  ],
                  [
                   11.611816,
                   48.164356
                  ],
                  [
                   11.612153,
                   48.164528
                  ],
                  [
                   11.612434,
                   48.164742
                  ],
                  [
                   11.6128,
                   48.16502
                  ],
                  [
                   11.613085,
                   48.165089
                  ],
                  [
                   11.613153,
                   48.165096
                  ],
                  [
                   11.613293,
                   48.165165
                  ],
                  [
                   11.613905,
                   48.165264
                  ],
                  [
                   11.614153,
                   48.165596
                  ],
                  [
                   11.614457,
                   48.165718
                  ],
                  [
                   11.614993,
                   48.166019
                  ],
                  [
                   11.615076,
                   48.166096
                  ],
                  [
                   11.614913,
                   48.166779
                  ],
                  [
                   11.61497,
                   48.167019
                  ],
                  [
                   11.614997,
                   48.167175
                  ],
                  [
                   11.615151,
                   48.167328
                  ],
                  [
                   11.61552,
                   48.167648
                  ],
                  [
                   11.615674,
                   48.168018
                  ],
                  [
                   11.615703,
                   48.168468
                  ],
                  [
                   11.615848,
                   48.168709
                  ],
                  [
                   11.615907,
                   48.169014
                  ],
                  [
                   11.615988,
                   48.169178
                  ],
                  [
                   11.616153,
                   48.169258
                  ],
                  [
                   11.616321,
                   48.169186
                  ],
                  [
                   11.616871,
                   48.169296
                  ],
                  [
                   11.617151,
                   48.169254
                  ],
                  [
                   11.617444,
                   48.169308
                  ],
                  [
                   11.618007,
                   48.169018
                  ],
                  [
                   11.61809,
                   48.168953
                  ],
                  [
                   11.618153,
                   48.16885
                  ],
                  [
                   11.6182,
                   48.168968
                  ],
                  [
                   11.618256,
                   48.169018
                  ],
                  [
                   11.618277,
                   48.169144
                  ],
                  [
                   11.618379,
                   48.169792
                  ],
                  [
                   11.618418,
                   48.170021
                  ],
                  [
                   11.618798,
                   48.170372
                  ],
                  [
                   11.619151,
                   48.17054
                  ],
                  [
                   11.619649,
                   48.170517
                  ],
                  [
                   11.619656,
                   48.170517
                  ],
                  [
                   11.620152,
                   48.17049
                  ],
                  [
                   11.620587,
                   48.17046
                  ],
                  [
                   11.620755,
                   48.170418
                  ],
                  [
                   11.621152,
                   48.17038
                  ],
                  [
                   11.621542,
                   48.17041
                  ],
                  [
                   11.621705,
                   48.170467
                  ],
                  [
                   11.622152,
                   48.170486
                  ],
                  [
                   11.622606,
                   48.170475
                  ],
                  [
                   11.622711,
                   48.17046
                  ],
                  [
                   11.623153,
                   48.170448
                  ],
                  [
                   11.623577,
                   48.170444
                  ],
                  [
                   11.623785,
                   48.170391
                  ],
                  [
                   11.624152,
                   48.170383
                  ],
                  [
                   11.624329,
                   48.1702
                  ]
                 ],
                 [
                  [
                   11.620428,
                   48.151295
                  ],
                  [
                   11.620152,
                   48.15131
                  ],
                  [
                   11.619905,
                   48.151268
                  ],
                  [
                   11.619159,
                   48.151028
                  ],
                  [
                   11.619152,
                   48.151024
                  ],
                  [
                   11.619145,
                   48.151024
                  ],
                  [
                   11.618366,
                   48.151234
                  ],
                  [
                   11.618153,
                   48.151276
                  ],
                  [
                   11.617944,
                   48.15123
                  ],
                  [
                   11.617787,
                   48.15102
                  ],
                  [
                   11.61744,
                   48.150734
                  ],
                  [
                   11.617152,
                   48.150558
                  ],
                  [
                   11.616985,
                   48.150188
                  ],
                  [
                   11.616983,
                   48.150021
                  ],
                  [
                   11.617057,
                   48.149925
                  ],
                  [
                   11.617152,
                   48.149883
                  ],
                  [
                   11.617311,
                   48.149864
                  ],
                  [
                   11.617917,
                   48.149784
                  ],
                  [
                   11.618153,
                   48.14975
                  ],
                  [
                   11.618421,
                   48.149754
                  ],
                  [
                   11.619016,
                   48.149883
                  ],
                  [
                   11.619152,
                   48.149883
                  ],
                  [
                   11.619279,
                   48.149895
                  ],
                  [
                   11.619547,
                   48.150024
                  ],
                  [
                   11.61969,
                   48.150478
                  ],
                  [
                   11.620152,
                   48.150616
                  ],
                  [
                   11.62042,
                   48.150757
                  ],
                  [
                   11.62089,
                   48.15102
                  ],
                  [
                   11.620428,
                   48.151295
                  ]
                 ],
                 [
                  [
                   11.622152,
                   48.163296
                  ],
                  [
                   11.621889,
                   48.163284
                  ],
                  [
                   11.621374,
                   48.163021
                  ],
                  [
                   11.621355,
                   48.162815
                  ],
                  [
                   11.621153,
                   48.162724
                  ],
                  [
                   11.620735,
                   48.162434
                  ],
                  [
                   11.62061,
                   48.162018
                  ],
                  [
                   11.620661,
                   48.161526
                  ],
                  [
                   11.621153,
                   48.161598
                  ],
                  [
                   11.621481,
                   48.16169
                  ],
                  [
                   11.621938,
                   48.1618
                  ],
                  [
                   11.622152,
                   48.161858
                  ],
                  [
                   11.622606,
                   48.161564
                  ],
                  [
                   11.622625,
                   48.162014
                  ],
                  [
                   11.622564,
                   48.162434
                  ],
                  [
                   11.622625,
                   48.162544
                  ],
                  [
                   11.622608,
                   48.163025
                  ],
                  [
                   11.622413,
                   48.163284
                  ],
                  [
                   11.622152,
                   48.163296
                  ]
                 ],
                 [
                  [
                   11.62334,
                   48.152206
                  ],
                  [
                   11.623154,
                   48.152267
                  ],
                  [
                   11.622902,
                   48.152271
                  ],
                  [
                   11.622253,
                   48.152119
                  ],
                  [
                   11.622152,
                   48.152122
                  ],
                  [
                   11.622093,
                   48.152081
                  ],
                  [
                   11.621987,
                   48.15202
                  ],
                  [
                   11.622001,
                   48.151867
                  ],
                  [
                   11.622153,
                   48.151817
                  ],
                  [
                   11.622349,
                   48.151825
                  ],
                  [
                   11.622793,
                   48.151661
                  ],
                  [
                   11.623153,
                   48.151669
                  ],
                  [
                   11.623517,
                   48.151657
                  ],
                  [
                   11.623725,
                   48.15202
                  ],
                  [
                   11.62334,
                   48.152206
                  ]
                 ],
                 [
                  [
                   11.601249,
                   48.145115
                  ],
                  [
                   11.601151,
                   48.145245
                  ],
                  [
                   11.601056,
                   48.145115
                  ],
                  [
                   11.600407,
                   48.145271
                  ],
                  [
                   11.600154,
                   48.14521
                  ],
                  [
                   11.600005,
                   48.145164
                  ],
                  [
                   11.599863,
                   48.14502
                  ],
                  [
                   11.599783,
                   48.14465
                  ],
                  [
                   11.600153,
                   48.144417
                  ],
                  [
                   11.600536,
                   48.144634
                  ],
                  [
                   11.600935,
                   48.144802
                  ],
                  [
                   11.601152,
                   48.144905
                  ],
                  [
                   11.601267,
                   48.144905
                  ],
                  [
                   11.601292,
                   48.14502
                  ],
                  [
                   11.601249,
                   48.145115
                  ]
                 ]
                ],
                [
                 [
                  [
                   11.590379,
                   48.141243
                  ],
                  [
                   11.59102,
                   48.141018
                  ],
                  [
                   11.591091,
                   48.140957
                  ],
                  [
                   11.591153,
                   48.140808
                  ],
                  [
                   11.591343,
                   48.140209
                  ],
                  [
                   11.591336,
                   48.140022
                  ],
                  [
                   11.591502,
                   48.139671
                  ],
                  [
                   11.591583,
                   48.13945
                  ],
                  [
                   11.59188,
                   48.139019
                  ],
                  [
                   11.591598,
                   48.138573
                  ],
                  [
                   11.591152,
                   48.138153
                  ],
                  [
                   11.591087,
                   48.138084
                  ],
                  [
                   11.591015,
                   48.13802
                  ],
                  [
                   11.591043,
                   48.137913
                  ],
                  [
                   11.591152,
                   48.137554
                  ],
                  [
                   11.591286,
                   48.137154
                  ],
                  [
                   11.591304,
                   48.13702
                  ],
                  [
                   11.591187,
                   48.136986
                  ],
                  [
                   11.591152,
                   48.136909
                  ],
                  [
                   11.590881,
                   48.136749
                  ],
                  [
                   11.5906,
                   48.13657
                  ],
                  [
                   11.590153,
                   48.136345
                  ],
                  [
                   11.589941,
                   48.136234
                  ],
                  [
                   11.589411,
                   48.136017
                  ],
                  [
                   11.589252,
                   48.135918
                  ],
                  [
                   11.589152,
                   48.135838
                  ],
                  [
                   11.588699,
                   48.135475
                  ],
                  [
                   11.588574,
                   48.135017
                  ],
                  [
                   11.588368,
                   48.1348
                  ],
                  [
                   11.588153,
                   48.134697
                  ],
                  [
                   11.587816,
                   48.134354
                  ],
                  [
                   11.587557,
                   48.134018
                  ],
                  [
                   11.58728,
                   48.133892
                  ],
                  [
                   11.587152,
                   48.133839
                  ],
                  [
                   11.586889,
                   48.133755
                  ],
                  [
                   11.586449,
                   48.13372
                  ],
                  [
                   11.586152,
                   48.133511
                  ],
                  [
                   11.585886,
                   48.133751
                  ],
                  [
                   11.585267,
                   48.133904
                  ],
                  [
                   11.585153,
                   48.133953
                  ],
                  [
                   11.585073,
                   48.133938
                  ],
                  [
                   11.584381,
                   48.133785
                  ],
                  [
                   11.584151,
                   48.133747
                  ],
                  [
                   11.583673,
                   48.133537
                  ],
                  [
                   11.583637,
                   48.133533
                  ],
                  [
                   11.583593,
                   48.133461
                  ],
                  [
                   11.583256,
                   48.133018
                  ],
                  [
                   11.583214,
                   48.132957
                  ],
                  [
                   11.583153,
                   48.132931
                  ],
                  [
                   11.583077,
                   48.132946
                  ],
                  [
                   11.582835,
                   48.133018
                  ],
                  [
                   11.582509,
                   48.133377
                  ],
                  [
                   11.582152,
                   48.133804
                  ],
                  [
                   11.58201,
                   48.133877
                  ],
                  [
                   11.581888,
                   48.134018
                  ],
                  [
                   11.581987,
                   48.134186
                  ],
                  [
                   11.582152,
                   48.134586
                  ],
                  [
                   11.58229,
                   48.134876
                  ],
                  [
                   11.582608,
                   48.135014
                  ],
                  [
                   11.583057,
                   48.135113
                  ],
                  [
                   11.583153,
                   48.135128
                  ],
                  [
                   11.583284,
                   48.135151
                  ],
                  [
                   11.583582,
                   48.135014
                  ],
                  [
                   11.584008,
                   48.134876
                  ],
                  [
                   11.584152,
                   48.134834
                  ],
                  [
                   11.584336,
                   48.134834
                  ],
                  [
                   11.584449,
                   48.135017
                  ],
                  [
                   11.584708,
                   48.135464
                  ],
                  [
                   11.585152,
                   48.135845
                  ],
                  [
                   11.585222,
                   48.135948
                  ],
                  [
                   11.585281,
                   48.136021
                  ],
                  [
                   11.585284,
                   48.13615
                  ],
                  [
                   11.585401,
                   48.136772
                  ],
                  [
                   11.585403,
                   48.137016
                  ],
                  [
                   11.585373,
                   48.137241
                  ],
                  [
                   11.585153,
                   48.137711
                  ],
                  [
                   11.585045,
                   48.137909
                  ],
                  [
                   11.585019,
                   48.13802
                  ],
                  [
                   11.585052,
                   48.138123
                  ],
                  [
                   11.585153,
                   48.138325
                  ],
                  [
                   11.58545,
                   48.138718
                  ],
                  [
                   11.585748,
                   48.139015
                  ],
                  [
                   11.585885,
                   48.139286
                  ],
                  [
                   11.585931,
                   48.139797
                  ],
                  [
                   11.585995,
                   48.140018
                  ],
                  [
                   11.586061,
                   48.14011
                  ],
                  [
                   11.586152,
                   48.140285
                  ],
                  [
                   11.586464,
                   48.140709
                  ],
                  [
                   11.586784,
                   48.141018
                  ],
                  [
                   11.587036,
                   48.141132
                  ],
                  [
                   11.587152,
                   48.141174
                  ],
                  [
                   11.587411,
                   48.141277
                  ],
                  [
                   11.587796,
                   48.141373
                  ],
                  [
                   11.588153,
                   48.141624
                  ],
                  [
                   11.58844,
                   48.141731
                  ],
                  [
                   11.589012,
                   48.14188
                  ],
                  [
                   11.589151,
                   48.141918
                  ],
                  [
                   11.589417,
                   48.14175
                  ],
                  [
                   11.589697,
                   48.14156
                  ],
                  [
                   11.590153,
                   48.141331
                  ],
                  [
                   11.590379,
                   48.141243
                  ]
                 ]
                ],
                [
                 [
                  [
                   11.62853,
                   48.143398
                  ],
                  [
                   11.628786,
                   48.143024
                  ],
                  [
                   11.6287,
                   48.142567
                  ],
                  [
                   11.628674,
                   48.142498
                  ],
                  [
                   11.628617,
                   48.142017
                  ],
                  [
                   11.628657,
                   48.141521
                  ],
                  [
                   11.628709,
                   48.141464
                  ],
                  [
                   11.628922,
                   48.141018
                  ],
                  [
                   11.628411,
                   48.140762
                  ],
                  [
                   11.628305,
                   48.140175
                  ],
                  [
                   11.628231,
                   48.140018
                  ],
                  [
                   11.628716,
                   48.139584
                  ],
                  [
                   11.629153,
                   48.139397
                  ],
                  [
                   11.629478,
                   48.139343
                  ],
                  [
                   11.629934,
                   48.139019
                  ],
                  [
                   11.629249,
                   48.138924
                  ],
                  [
                   11.629153,
                   48.138924
                  ],
                  [
                   11.629059,
                   48.138927
                  ],
                  [
                   11.628277,
                   48.138897
                  ],
                  [
                   11.628153,
                   48.138897
                  ],
                  [
                   11.627979,
                   48.138847
                  ],
                  [
                   11.627182,
                   48.138992
                  ],
                  [
                   11.627152,
                   48.138939
                  ],
                  [
                   11.627093,
                   48.138962
                  ],
                  [
                   11.627,
                   48.139019
                  ],
                  [
                   11.627014,
                   48.139156
                  ],
                  [
                   11.627152,
                   48.139877
                  ],
                  [
                   11.627184,
                   48.139988
                  ],
                  [
                   11.627323,
                   48.140018
                  ],
                  [
                   11.62718,
                   48.140049
                  ],
                  [
                   11.627151,
                   48.140038
                  ],
                  [
                   11.626697,
                   48.140564
                  ],
                  [
                   11.626571,
                   48.141018
                  ],
                  [
                   11.626393,
                   48.141262
                  ],
                  [
                   11.626152,
                   48.141434
                  ],
                  [
                   11.625721,
                   48.141449
                  ],
                  [
                   11.625316,
                   48.141178
                  ],
                  [
                   11.625153,
                   48.141212
                  ],
                  [
                   11.62495,
                   48.141815
                  ],
                  [
                   11.624874,
                   48.142017
                  ],
                  [
                   11.624986,
                   48.142185
                  ],
                  [
                   11.625154,
                   48.14238
                  ],
                  [
                   11.625452,
                   48.142719
                  ],
                  [
                   11.625771,
                   48.143021
                  ],
                  [
                   11.626032,
                   48.143139
                  ],
                  [
                   11.626152,
                   48.143185
                  ],
                  [
                   11.626504,
                   48.143368
                  ],
                  [
                   11.626701,
                   48.143471
                  ],
                  [
                   11.627152,
                   48.143772
                  ],
                  [
                   11.62744,
                   48.143734
                  ],
                  [
                   11.627832,
                   48.143703
                  ],
                  [
                   11.628153,
                   48.14365
                  ],
                  [
                   11.62853,
                   48.143398
                  ]
                 ]
                ],
                [
                 [
                  [
                   11.596464,
                   48.164333
                  ],
                  [
                   11.596972,
                   48.164021
                  ],
                  [
                   11.596988,
                   48.163853
                  ],
                  [
                   11.597153,
                   48.163666
                  ],
                  [
                   11.597414,
                   48.163284
                  ],
                  [
                   11.597461,
                   48.163021
                  ],
                  [
                   11.597337,
                   48.162834
                  ],
                  [
                   11.597153,
                   48.162735
                  ],
                  [
                   11.596879,
                   48.162743
                  ],
                  [
                   11.596478,
                   48.162693
                  ],
                  [
                   11.596152,
                   48.162708
                  ],
                  [
                   11.595817,
                   48.162685
                  ],
                  [
                   11.595541,
                   48.162628
                  ],
                  [
                   11.595153,
                   48.162613
                  ],
                  [
                   11.59481,
                   48.162678
                  ],
                  [
                   11.594492,
                   48.163021
                  ],
                  [
                   11.594394,
                   48.163261
                  ],
                  [
                   11.594152,
                   48.163651
                  ],
                  [
                   11.594007,
                   48.163872
                  ],
                  [
                   11.593937,
                   48.164021
                  ],
                  [
                   11.593966,
                   48.164207
                  ],
                  [
                   11.594152,
                   48.164848
                  ],
                  [
                   11.594232,
                   48.16494
                  ],
                  [
                   11.594899,
                   48.164764
                  ],
                  [
                   11.595153,
                   48.164829
                  ],
                  [
                   11.595488,
                   48.164684
                  ],
                  [
                   11.595707,
                   48.164577
                  ],
                  [
                   11.596152,
                   48.164433
                  ],
                  [
                   11.596464,
                   48.164333
                  ]
                 ]
                ],
                [
                 [
                  [
                   11.610152,
                   48.13607
                  ],
                  [
                   11.610192,
                   48.136059
                  ],
                  [
                   11.610376,
                   48.136021
                  ],
                  [
                   11.610801,
                   48.135666
                  ],
                  [
                   11.61088,
                   48.135288
                  ],
                  [
                   11.611005,
                   48.135017
                  ],
                  [
                   11.610754,
                   48.134617
                  ],
                  [
                   11.610682,
                   48.134491
                  ],
                  [
                   11.610209,
                   48.134018
                  ],
                  [
                   11.610186,
                   48.133984
                  ],
                  [
                   11.610151,
                   48.133949
                  ],
                  [
                   11.610127,
                   48.133991
                  ],
                  [
                   11.610128,
                   48.134022
                  ],
                  [
                   11.609987,
                   48.134182
                  ],
                  [
                   11.609691,
                   48.134556
                  ],
                  [
                   11.609545,
                   48.134624
                  ],
                  [
                   11.609153,
                   48.134865
                  ],
                  [
                   11.609053,
                   48.134918
                  ],
                  [
                   11.608923,
                   48.135021
                  ],
                  [
                   11.608965,
                   48.135204
                  ],
                  [
                   11.609153,
                   48.135994
                  ],
                  [
                   11.609163,
                   48.136013
                  ],
                  [
                   11.60922,
                   48.136021
                  ],
                  [
                   11.610096,
                   48.136074
                  ],
                  [
                   11.610152,
                   48.13607
                  ]
                 ]
                ],
                [
                 [
                  [
                   11.60023,
                   48.170097
                  ],
                  [
                   11.60033,
                   48.170021
                  ],
                  [
                   11.600224,
                   48.169949
                  ],
                  [
                   11.600153,
                   48.169952
                  ],
                  [
                   11.599759,
                   48.169624
                  ],
                  [
                   11.599635,
                   48.169533
                  ],
                  [
                   11.599623,
                   48.169491
                  ],
                  [
                   11.599391,
                   48.169018
                  ],
                  [
                   11.599286,
                   48.168884
                  ],
                  [
                   11.599153,
                   48.168797
                  ],
                  [
                   11.598918,
                   48.168781
                  ],
                  [
                   11.598579,
                   48.169018
                  ],
                  [
                   11.598809,
                   48.169361
                  ],
                  [
                   11.598758,
                   48.169624
                  ],
                  [
                   11.598841,
                   48.170025
                  ],
                  [
                   11.598989,
                   48.170185
                  ],
                  [
                   11.599153,
                   48.170238
                  ],
                  [
                   11.59944,
                   48.170307
                  ],
                  [
                   11.600077,
                   48.170097
                  ],
                  [
                   11.600152,
                   48.170227
                  ],
                  [
                   11.60023,
                   48.170097
                  ]
                 ]
                ],
                [
                 [
                  [
                   11.600153,
                   48.141357
                  ],
                  [
                   11.600636,
                   48.141499
                  ],
                  [
                   11.60086,
                   48.141022
                  ],
                  [
                   11.600866,
                   48.140732
                  ],
                  [
                   11.60084,
                   48.140331
                  ],
                  [
                   11.600846,
                   48.140018
                  ],
                  [
                   11.600461,
                   48.139713
                  ],
                  [
                   11.600153,
                   48.13945
                  ],
                  [
                   11.599697,
                   48.139473
                  ],
                  [
                   11.599569,
                   48.139435
                  ],
                  [
                   11.599153,
                   48.139481
                  ],
                  [
                   11.599007,
                   48.139874
                  ],
                  [
                   11.59893,
                   48.140018
                  ],
                  [
                   11.598924,
                   48.140247
                  ],
                  [
                   11.599153,
                   48.141003
                  ],
                  [
                   11.599157,
                   48.141014
                  ],
                  [
                   11.599159,
                   48.141022
                  ],
                  [
                   11.599875,
                   48.141293
                  ],
                  [
                   11.600153,
                   48.141357
                  ]
                 ]
                ],
                [
                 [
                  [
                   11.638288,
                   48.146156
                  ],
                  [
                   11.638415,
                   48.146023
                  ],
                  [
                   11.638256,
                   48.145916
                  ],
                  [
                   11.638151,
                   48.145855
                  ],
                  [
                   11.637893,
                   48.14576
                  ],
                  [
                   11.637516,
                   48.145657
                  ],
                  [
                   11.637152,
                   48.145481
                  ],
                  [
                   11.636816,
                   48.145683
                  ],
                  [
                   11.63636,
                   48.146019
                  ],
                  [
                   11.636821,
                   48.146347
                  ],
                  [
                   11.637153,
                   48.146721
                  ],
                  [
                   11.63761,
                   48.146477
                  ],
                  [
                   11.637743,
                   48.146427
                  ],
                  [
                   11.638152,
                   48.146252
                  ],
                  [
                   11.638288,
                   48.146156
                  ]
                 ]
                ],
                [
                 [
                  [
                   11.629152,
                   48.159771
                  ],
                  [
                   11.629595,
                   48.159462
                  ],
                  [
                   11.629974,
                   48.159016
                  ],
                  [
                   11.629627,
                   48.158543
                  ],
                  [
                   11.629557,
                   48.158424
                  ],
                  [
                   11.62931,
                   48.15802
                  ],
                  [
                   11.629236,
                   48.157936
                  ],
                  [
                   11.629152,
                   48.157867
                  ],
                  [
                   11.629066,
                   48.157932
                  ],
                  [
                   11.628966,
                   48.15802
                  ],
                  [
                   11.62899,
                   48.15818
                  ],
                  [
                   11.628815,
                   48.15868
                  ],
                  [
                   11.628835,
                   48.159016
                  ],
                  [
                   11.628848,
                   48.159325
                  ],
                  [
                   11.629152,
                   48.159771
                  ]
                 ]
                ]
               ],
               "type": "MultiPolygon"
              },
              "type": "Feature"
             }
            ],
            "type": "FeatureCollection"
           },
           "type": "fill"
          }
         ],
         "style": "stamen-terrain",
         "zoom": 12
        },
        "margin": {
         "b": 0,
         "l": 0,
         "r": 0,
         "t": 0
        },
        "template": {
         "data": {
          "bar": [
           {
            "error_x": {
             "color": "#2a3f5f"
            },
            "error_y": {
             "color": "#2a3f5f"
            },
            "marker": {
             "line": {
              "color": "#E5ECF6",
              "width": 0.5
             },
             "pattern": {
              "fillmode": "overlay",
              "size": 10,
              "solidity": 0.2
             }
            },
            "type": "bar"
           }
          ],
          "barpolar": [
           {
            "marker": {
             "line": {
              "color": "#E5ECF6",
              "width": 0.5
             },
             "pattern": {
              "fillmode": "overlay",
              "size": 10,
              "solidity": 0.2
             }
            },
            "type": "barpolar"
           }
          ],
          "carpet": [
           {
            "aaxis": {
             "endlinecolor": "#2a3f5f",
             "gridcolor": "white",
             "linecolor": "white",
             "minorgridcolor": "white",
             "startlinecolor": "#2a3f5f"
            },
            "baxis": {
             "endlinecolor": "#2a3f5f",
             "gridcolor": "white",
             "linecolor": "white",
             "minorgridcolor": "white",
             "startlinecolor": "#2a3f5f"
            },
            "type": "carpet"
           }
          ],
          "choropleth": [
           {
            "colorbar": {
             "outlinewidth": 0,
             "ticks": ""
            },
            "type": "choropleth"
           }
          ],
          "contour": [
           {
            "colorbar": {
             "outlinewidth": 0,
             "ticks": ""
            },
            "colorscale": [
             [
              0,
              "#0d0887"
             ],
             [
              0.1111111111111111,
              "#46039f"
             ],
             [
              0.2222222222222222,
              "#7201a8"
             ],
             [
              0.3333333333333333,
              "#9c179e"
             ],
             [
              0.4444444444444444,
              "#bd3786"
             ],
             [
              0.5555555555555556,
              "#d8576b"
             ],
             [
              0.6666666666666666,
              "#ed7953"
             ],
             [
              0.7777777777777778,
              "#fb9f3a"
             ],
             [
              0.8888888888888888,
              "#fdca26"
             ],
             [
              1,
              "#f0f921"
             ]
            ],
            "type": "contour"
           }
          ],
          "contourcarpet": [
           {
            "colorbar": {
             "outlinewidth": 0,
             "ticks": ""
            },
            "type": "contourcarpet"
           }
          ],
          "heatmap": [
           {
            "colorbar": {
             "outlinewidth": 0,
             "ticks": ""
            },
            "colorscale": [
             [
              0,
              "#0d0887"
             ],
             [
              0.1111111111111111,
              "#46039f"
             ],
             [
              0.2222222222222222,
              "#7201a8"
             ],
             [
              0.3333333333333333,
              "#9c179e"
             ],
             [
              0.4444444444444444,
              "#bd3786"
             ],
             [
              0.5555555555555556,
              "#d8576b"
             ],
             [
              0.6666666666666666,
              "#ed7953"
             ],
             [
              0.7777777777777778,
              "#fb9f3a"
             ],
             [
              0.8888888888888888,
              "#fdca26"
             ],
             [
              1,
              "#f0f921"
             ]
            ],
            "type": "heatmap"
           }
          ],
          "heatmapgl": [
           {
            "colorbar": {
             "outlinewidth": 0,
             "ticks": ""
            },
            "colorscale": [
             [
              0,
              "#0d0887"
             ],
             [
              0.1111111111111111,
              "#46039f"
             ],
             [
              0.2222222222222222,
              "#7201a8"
             ],
             [
              0.3333333333333333,
              "#9c179e"
             ],
             [
              0.4444444444444444,
              "#bd3786"
             ],
             [
              0.5555555555555556,
              "#d8576b"
             ],
             [
              0.6666666666666666,
              "#ed7953"
             ],
             [
              0.7777777777777778,
              "#fb9f3a"
             ],
             [
              0.8888888888888888,
              "#fdca26"
             ],
             [
              1,
              "#f0f921"
             ]
            ],
            "type": "heatmapgl"
           }
          ],
          "histogram": [
           {
            "marker": {
             "pattern": {
              "fillmode": "overlay",
              "size": 10,
              "solidity": 0.2
             }
            },
            "type": "histogram"
           }
          ],
          "histogram2d": [
           {
            "colorbar": {
             "outlinewidth": 0,
             "ticks": ""
            },
            "colorscale": [
             [
              0,
              "#0d0887"
             ],
             [
              0.1111111111111111,
              "#46039f"
             ],
             [
              0.2222222222222222,
              "#7201a8"
             ],
             [
              0.3333333333333333,
              "#9c179e"
             ],
             [
              0.4444444444444444,
              "#bd3786"
             ],
             [
              0.5555555555555556,
              "#d8576b"
             ],
             [
              0.6666666666666666,
              "#ed7953"
             ],
             [
              0.7777777777777778,
              "#fb9f3a"
             ],
             [
              0.8888888888888888,
              "#fdca26"
             ],
             [
              1,
              "#f0f921"
             ]
            ],
            "type": "histogram2d"
           }
          ],
          "histogram2dcontour": [
           {
            "colorbar": {
             "outlinewidth": 0,
             "ticks": ""
            },
            "colorscale": [
             [
              0,
              "#0d0887"
             ],
             [
              0.1111111111111111,
              "#46039f"
             ],
             [
              0.2222222222222222,
              "#7201a8"
             ],
             [
              0.3333333333333333,
              "#9c179e"
             ],
             [
              0.4444444444444444,
              "#bd3786"
             ],
             [
              0.5555555555555556,
              "#d8576b"
             ],
             [
              0.6666666666666666,
              "#ed7953"
             ],
             [
              0.7777777777777778,
              "#fb9f3a"
             ],
             [
              0.8888888888888888,
              "#fdca26"
             ],
             [
              1,
              "#f0f921"
             ]
            ],
            "type": "histogram2dcontour"
           }
          ],
          "mesh3d": [
           {
            "colorbar": {
             "outlinewidth": 0,
             "ticks": ""
            },
            "type": "mesh3d"
           }
          ],
          "parcoords": [
           {
            "line": {
             "colorbar": {
              "outlinewidth": 0,
              "ticks": ""
             }
            },
            "type": "parcoords"
           }
          ],
          "pie": [
           {
            "automargin": true,
            "type": "pie"
           }
          ],
          "scatter": [
           {
            "marker": {
             "colorbar": {
              "outlinewidth": 0,
              "ticks": ""
             }
            },
            "type": "scatter"
           }
          ],
          "scatter3d": [
           {
            "line": {
             "colorbar": {
              "outlinewidth": 0,
              "ticks": ""
             }
            },
            "marker": {
             "colorbar": {
              "outlinewidth": 0,
              "ticks": ""
             }
            },
            "type": "scatter3d"
           }
          ],
          "scattercarpet": [
           {
            "marker": {
             "colorbar": {
              "outlinewidth": 0,
              "ticks": ""
             }
            },
            "type": "scattercarpet"
           }
          ],
          "scattergeo": [
           {
            "marker": {
             "colorbar": {
              "outlinewidth": 0,
              "ticks": ""
             }
            },
            "type": "scattergeo"
           }
          ],
          "scattergl": [
           {
            "marker": {
             "colorbar": {
              "outlinewidth": 0,
              "ticks": ""
             }
            },
            "type": "scattergl"
           }
          ],
          "scattermapbox": [
           {
            "marker": {
             "colorbar": {
              "outlinewidth": 0,
              "ticks": ""
             }
            },
            "type": "scattermapbox"
           }
          ],
          "scatterpolar": [
           {
            "marker": {
             "colorbar": {
              "outlinewidth": 0,
              "ticks": ""
             }
            },
            "type": "scatterpolar"
           }
          ],
          "scatterpolargl": [
           {
            "marker": {
             "colorbar": {
              "outlinewidth": 0,
              "ticks": ""
             }
            },
            "type": "scatterpolargl"
           }
          ],
          "scatterternary": [
           {
            "marker": {
             "colorbar": {
              "outlinewidth": 0,
              "ticks": ""
             }
            },
            "type": "scatterternary"
           }
          ],
          "surface": [
           {
            "colorbar": {
             "outlinewidth": 0,
             "ticks": ""
            },
            "colorscale": [
             [
              0,
              "#0d0887"
             ],
             [
              0.1111111111111111,
              "#46039f"
             ],
             [
              0.2222222222222222,
              "#7201a8"
             ],
             [
              0.3333333333333333,
              "#9c179e"
             ],
             [
              0.4444444444444444,
              "#bd3786"
             ],
             [
              0.5555555555555556,
              "#d8576b"
             ],
             [
              0.6666666666666666,
              "#ed7953"
             ],
             [
              0.7777777777777778,
              "#fb9f3a"
             ],
             [
              0.8888888888888888,
              "#fdca26"
             ],
             [
              1,
              "#f0f921"
             ]
            ],
            "type": "surface"
           }
          ],
          "table": [
           {
            "cells": {
             "fill": {
              "color": "#EBF0F8"
             },
             "line": {
              "color": "white"
             }
            },
            "header": {
             "fill": {
              "color": "#C8D4E3"
             },
             "line": {
              "color": "white"
             }
            },
            "type": "table"
           }
          ]
         },
         "layout": {
          "annotationdefaults": {
           "arrowcolor": "#2a3f5f",
           "arrowhead": 0,
           "arrowwidth": 1
          },
          "autotypenumbers": "strict",
          "coloraxis": {
           "colorbar": {
            "outlinewidth": 0,
            "ticks": ""
           }
          },
          "colorscale": {
           "diverging": [
            [
             0,
             "#8e0152"
            ],
            [
             0.1,
             "#c51b7d"
            ],
            [
             0.2,
             "#de77ae"
            ],
            [
             0.3,
             "#f1b6da"
            ],
            [
             0.4,
             "#fde0ef"
            ],
            [
             0.5,
             "#f7f7f7"
            ],
            [
             0.6,
             "#e6f5d0"
            ],
            [
             0.7,
             "#b8e186"
            ],
            [
             0.8,
             "#7fbc41"
            ],
            [
             0.9,
             "#4d9221"
            ],
            [
             1,
             "#276419"
            ]
           ],
           "sequential": [
            [
             0,
             "#0d0887"
            ],
            [
             0.1111111111111111,
             "#46039f"
            ],
            [
             0.2222222222222222,
             "#7201a8"
            ],
            [
             0.3333333333333333,
             "#9c179e"
            ],
            [
             0.4444444444444444,
             "#bd3786"
            ],
            [
             0.5555555555555556,
             "#d8576b"
            ],
            [
             0.6666666666666666,
             "#ed7953"
            ],
            [
             0.7777777777777778,
             "#fb9f3a"
            ],
            [
             0.8888888888888888,
             "#fdca26"
            ],
            [
             1,
             "#f0f921"
            ]
           ],
           "sequentialminus": [
            [
             0,
             "#0d0887"
            ],
            [
             0.1111111111111111,
             "#46039f"
            ],
            [
             0.2222222222222222,
             "#7201a8"
            ],
            [
             0.3333333333333333,
             "#9c179e"
            ],
            [
             0.4444444444444444,
             "#bd3786"
            ],
            [
             0.5555555555555556,
             "#d8576b"
            ],
            [
             0.6666666666666666,
             "#ed7953"
            ],
            [
             0.7777777777777778,
             "#fb9f3a"
            ],
            [
             0.8888888888888888,
             "#fdca26"
            ],
            [
             1,
             "#f0f921"
            ]
           ]
          },
          "colorway": [
           "#636efa",
           "#EF553B",
           "#00cc96",
           "#ab63fa",
           "#FFA15A",
           "#19d3f3",
           "#FF6692",
           "#B6E880",
           "#FF97FF",
           "#FECB52"
          ],
          "font": {
           "color": "#2a3f5f"
          },
          "geo": {
           "bgcolor": "white",
           "lakecolor": "white",
           "landcolor": "#E5ECF6",
           "showlakes": true,
           "showland": true,
           "subunitcolor": "white"
          },
          "hoverlabel": {
           "align": "left"
          },
          "hovermode": "closest",
          "mapbox": {
           "style": "light"
          },
          "paper_bgcolor": "white",
          "plot_bgcolor": "#E5ECF6",
          "polar": {
           "angularaxis": {
            "gridcolor": "white",
            "linecolor": "white",
            "ticks": ""
           },
           "bgcolor": "#E5ECF6",
           "radialaxis": {
            "gridcolor": "white",
            "linecolor": "white",
            "ticks": ""
           }
          },
          "scene": {
           "xaxis": {
            "backgroundcolor": "#E5ECF6",
            "gridcolor": "white",
            "gridwidth": 2,
            "linecolor": "white",
            "showbackground": true,
            "ticks": "",
            "zerolinecolor": "white"
           },
           "yaxis": {
            "backgroundcolor": "#E5ECF6",
            "gridcolor": "white",
            "gridwidth": 2,
            "linecolor": "white",
            "showbackground": true,
            "ticks": "",
            "zerolinecolor": "white"
           },
           "zaxis": {
            "backgroundcolor": "#E5ECF6",
            "gridcolor": "white",
            "gridwidth": 2,
            "linecolor": "white",
            "showbackground": true,
            "ticks": "",
            "zerolinecolor": "white"
           }
          },
          "shapedefaults": {
           "line": {
            "color": "#2a3f5f"
           }
          },
          "ternary": {
           "aaxis": {
            "gridcolor": "white",
            "linecolor": "white",
            "ticks": ""
           },
           "baxis": {
            "gridcolor": "white",
            "linecolor": "white",
            "ticks": ""
           },
           "bgcolor": "#E5ECF6",
           "caxis": {
            "gridcolor": "white",
            "linecolor": "white",
            "ticks": ""
           }
          },
          "title": {
           "x": 0.05
          },
          "xaxis": {
           "automargin": true,
           "gridcolor": "white",
           "linecolor": "white",
           "ticks": "",
           "title": {
            "standoff": 15
           },
           "zerolinecolor": "white",
           "zerolinewidth": 2
          },
          "yaxis": {
           "automargin": true,
           "gridcolor": "white",
           "linecolor": "white",
           "ticks": "",
           "title": {
            "standoff": 15
           },
           "zerolinecolor": "white",
           "zerolinewidth": 2
          }
         }
        }
       }
      },
      "text/html": [
       "<div>                            <div id=\"d6e65a3e-fbee-4775-bbf9-408264faf99a\" class=\"plotly-graph-div\" style=\"height:525px; width:100%;\"></div>            <script type=\"text/javascript\">                require([\"plotly\"], function(Plotly) {                    window.PLOTLYENV=window.PLOTLYENV || {};                                    if (document.getElementById(\"d6e65a3e-fbee-4775-bbf9-408264faf99a\")) {                    Plotly.newPlot(                        \"d6e65a3e-fbee-4775-bbf9-408264faf99a\",                        [{\"lat\":[48.15301773690073],\"lon\":[11.605151825623373],\"marker\":{\"color\":[\"cyan\"],\"size\":5},\"mode\":\"markers\",\"type\":\"scattermapbox\"}],                        {\"mapbox\":{\"center\":{\"lat\":48.15301773690073,\"lon\":11.605151825623373},\"layers\":[{\"below\":\"traces\",\"color\":\"royalblue\",\"opacity\":0.7,\"source\":{\"features\":[{\"geometry\":{\"coordinates\":[[[[11.624329,48.1702],[11.624411,48.170025],[11.62442,48.16975],[11.624338,48.169205],[11.62435,48.169018],[11.624803,48.168671],[11.625152,48.168358],[11.625298,48.168163],[11.625315,48.168022],[11.62547,48.167702],[11.625588,48.167458],[11.625813,48.167015],[11.625899,48.166767],[11.626152,48.166546],[11.626552,48.16642],[11.626979,48.166019],[11.626447,48.165726],[11.626152,48.165623],[11.6257,48.165474],[11.625527,48.165394],[11.625153,48.165245],[11.624949,48.165222],[11.624606,48.165024],[11.624846,48.164715],[11.625154,48.164303],[11.625262,48.164127],[11.625331,48.164021],[11.62544,48.163734],[11.625584,48.163452],[11.62569,48.163021],[11.625462,48.162708],[11.625153,48.16251],[11.624837,48.162334],[11.624215,48.162018],[11.624172,48.162003],[11.624153,48.161995],[11.62412,48.161987],[11.623263,48.161907],[11.623153,48.161839],[11.622663,48.16151],[11.622666,48.161018],[11.622543,48.160629],[11.622152,48.16021],[11.621959,48.160213],[11.621433,48.160019],[11.621188,48.159988],[11.621152,48.159969],[11.621099,48.159966],[11.621054,48.160019],[11.620969,48.160202],[11.620752,48.160618],[11.620607,48.161022],[11.620645,48.161507],[11.620153,48.161598],[11.619777,48.161396],[11.619522,48.161385],[11.619152,48.161289],[11.61899,48.161179],[11.618791,48.161018],[11.61848,48.160694],[11.618153,48.160351],[11.617985,48.160187],[11.617837,48.160023],[11.61761,48.159561],[11.61762,48.159489],[11.617528,48.159019],[11.61753,48.158642],[11.617235,48.158104],[11.617237,48.15802],[11.617187,48.157986],[11.617152,48.15799],[11.617116,48.157982],[11.616304,48.157867],[11.616152,48.157845],[11.615656,48.15752],[11.615642,48.157509],[11.615153,48.157253],[11.614935,48.157242],[11.614213,48.157082],[11.614154,48.157074],[11.614128,48.157047],[11.614114,48.157021],[11.614106,48.156971],[11.614153,48.156872],[11.614578,48.156441],[11.614792,48.156013],[11.614847,48.155712],[11.615147,48.155018],[11.615149,48.155018],[11.615149,48.155014],[11.615152,48.155018],[11.615154,48.155018],[11.615677,48.155495],[11.616153,48.155533],[11.616591,48.155457],[11.61671,48.15546],[11.617152,48.155407],[11.617618,48.155548],[11.618048,48.156017],[11.618064,48.156105],[11.618154,48.156227],[11.618339,48.156208],[11.618713,48.156017],[11.619017,48.15588],[11.619152,48.155838],[11.619352,48.155815],[11.620101,48.155964],[11.620152,48.155956],[11.620522,48.155388],[11.620799,48.155014],[11.621027,48.154892],[11.621153,48.154827],[11.621305,48.154865],[11.621517,48.155018],[11.621847,48.155323],[11.622152,48.155495],[11.62252,48.155384],[11.622756,48.155415],[11.623152,48.155354],[11.623342,48.155209],[11.624008,48.155163],[11.624153,48.155113],[11.624241,48.155109],[11.624882,48.155018],[11.625077,48.154945],[11.625153,48.154915],[11.625395,48.154774],[11.625712,48.154579],[11.626152,48.154385],[11.626441,48.154305],[11.627102,48.154068],[11.627152,48.154053],[11.627219,48.154083],[11.627847,48.154324],[11.628153,48.154522],[11.628489,48.154682],[11.629149,48.155018],[11.629151,48.155018],[11.629154,48.155022],[11.62916,48.155014],[11.629998,48.154865],[11.630152,48.154827],[11.630566,48.154427],[11.630995,48.154175],[11.631152,48.154072],[11.631197,48.154064],[11.631274,48.154018],[11.631314,48.153854],[11.631399,48.153263],[11.631479,48.153019],[11.631236,48.152935],[11.631152,48.152893],[11.630892,48.15276],[11.630582,48.152588],[11.630153,48.15239],[11.629898,48.152271],[11.629465,48.15202],[11.629297,48.151875],[11.629152,48.151741],[11.628942,48.15181],[11.628417,48.15202],[11.628207,48.152077],[11.628153,48.152084],[11.62804,48.152134],[11.627456,48.152325],[11.627152,48.152485],[11.626685,48.152485],[11.626616,48.152481],[11.626152,48.152481],[11.625853,48.152321],[11.625309,48.15218],[11.625152,48.152115],[11.62508,48.152088],[11.624862,48.15202],[11.62453,48.151638],[11.624152,48.151123],[11.62406,48.151112],[11.624108,48.15102],[11.624134,48.151005],[11.624152,48.15099],[11.624197,48.150974],[11.624851,48.150719],[11.625153,48.150635],[11.625566,48.150612],[11.625744,48.150608],[11.626152,48.150578],[11.62653,48.150398],[11.627068,48.150021],[11.627112,48.149982],[11.627152,48.149948],[11.627221,48.149952],[11.628129,48.150002],[11.628152,48.149998],[11.628199,48.149975],[11.62882,48.149685],[11.629153,48.149467],[11.629381,48.149246],[11.62974,48.149017],[11.629992,48.148857],[11.630152,48.148563],[11.63041,48.148277],[11.630898,48.148018],[11.631054,48.147919],[11.631152,48.147766],[11.631305,48.147865],[11.631806,48.147675],[11.632153,48.147724],[11.632493,48.147678],[11.632874,48.147743],[11.633152,48.147659],[11.633469,48.147335],[11.634062,48.147018],[11.634033,48.146896],[11.63405,48.146122],[11.634002,48.146019],[11.633307,48.145863],[11.633152,48.145752],[11.632655,48.145523],[11.632651,48.145523],[11.632153,48.145344],[11.631655,48.145519],[11.631651,48.145519],[11.631151,48.145679],[11.630746,48.145615],[11.630444,48.145729],[11.630154,48.145489],[11.629897,48.145275],[11.629579,48.145447],[11.629152,48.145393],[11.628919,48.145252],[11.628706,48.14502],[11.628543,48.14463],[11.628153,48.144329],[11.627714,48.144581],[11.627585,48.14502],[11.627373,48.145237],[11.627151,48.145355],[11.626671,48.1455],[11.626641,48.145512],[11.626153,48.145672],[11.625796,48.145664],[11.625439,48.145729],[11.625153,48.145718],[11.625024,48.145893],[11.624971,48.146023],[11.624475,48.146339],[11.624153,48.146458],[11.623762,48.146408],[11.623359,48.146229],[11.623153,48.146175],[11.622976,48.146198],[11.622656,48.146023],[11.62231,48.145863],[11.622152,48.145828],[11.622023,48.145889],[11.621833,48.146019],[11.621691,48.146484],[11.621673,48.146542],[11.621525,48.147018],[11.621236,48.147099],[11.621153,48.147125],[11.621048,48.147125],[11.620848,48.147022],[11.620583,48.146587],[11.620152,48.146305],[11.619923,48.146248],[11.619263,48.14613],[11.619152,48.146103],[11.619068,48.146099],[11.61904,48.146019],[11.61849,48.145683],[11.618152,48.14547],[11.617819,48.145355],[11.617211,48.14502],[11.617306,48.144867],[11.617581,48.144447],[11.61779,48.14402],[11.617751,48.14362],[11.617752,48.143417],[11.617705,48.143017],[11.617424,48.142746],[11.617152,48.142521],[11.616908,48.142262],[11.616671,48.142017],[11.616343,48.141827],[11.616153,48.141708],[11.615735,48.141602],[11.615604,48.141563],[11.615152,48.141449],[11.614849,48.141712],[11.614333,48.142017],[11.614242,48.142105],[11.614153,48.142296],[11.613833,48.1427],[11.613504,48.143021],[11.613333,48.143196],[11.613153,48.143436],[11.612976,48.143845],[11.612814,48.14402],[11.612892,48.144279],[11.613153,48.144444],[11.61361,48.144566],[11.613675,48.144543],[11.614153,48.144592],[11.614413,48.14476],[11.614852,48.145016],[11.614652,48.145515],[11.614153,48.145741],[11.613969,48.145836],[11.613948,48.146019],[11.613591,48.146458],[11.613152,48.146751],[11.612959,48.146828],[11.612483,48.147018],[11.612358,48.147224],[11.612415,48.147755],[11.612354,48.148018],[11.612262,48.148129],[11.612152,48.14817],[11.612,48.14817],[11.611738,48.148018],[11.611567,48.147602],[11.611153,48.147423],[11.610954,48.147217],[11.610714,48.147018],[11.610325,48.146843],[11.610152,48.146824],[11.609946,48.146812],[11.609331,48.146839],[11.609152,48.146828],[11.608758,48.146622],[11.608608,48.146561],[11.608153,48.146202],[11.607982,48.146187],[11.607751,48.146015],[11.608034,48.145901],[11.608152,48.145782],[11.608509,48.145374],[11.609018,48.14502],[11.609052,48.14492],[11.609113,48.144058],[11.609121,48.14402],[11.609113,48.143982],[11.608943,48.14323],[11.608902,48.143021],[11.608643,48.142529],[11.608583,48.142452],[11.608283,48.142017],[11.608288,48.141884],[11.608152,48.141739],[11.607856,48.141315],[11.607453,48.141018],[11.607971,48.140835],[11.608152,48.140747],[11.60863,48.140495],[11.608835,48.140018],[11.608859,48.139721],[11.609086,48.139084],[11.609096,48.139023],[11.60851,48.13866],[11.608152,48.138119],[11.608088,48.138084],[11.607343,48.13821],[11.607153,48.138168],[11.607,48.138172],[11.60654,48.13802],[11.606274,48.137897],[11.606153,48.137886],[11.606066,48.137936],[11.605944,48.13802],[11.605625,48.138496],[11.605614,48.138561],[11.605448,48.139019],[11.605397,48.139271],[11.605153,48.139645],[11.60495,48.139816],[11.604795,48.140018],[11.604998,48.140175],[11.605153,48.140228],[11.605622,48.140545],[11.606126,48.141018],[11.606062,48.141109],[11.60574,48.141605],[11.605303,48.142017],[11.605227,48.142094],[11.605152,48.142174],[11.604788,48.142654],[11.604261,48.143021],[11.604701,48.143475],[11.605152,48.143822],[11.605229,48.143944],[11.605251,48.14402],[11.605245,48.144112],[11.605151,48.144325],[11.604658,48.144512],[11.60465,48.144516],[11.604153,48.144604],[11.603753,48.144619],[11.603541,48.14463],[11.603152,48.144646],[11.60276,48.144413],[11.602276,48.14402],[11.602294,48.143875],[11.602435,48.143307],[11.602463,48.143021],[11.602476,48.142693],[11.602447,48.142311],[11.602462,48.142017],[11.602287,48.141884],[11.602153,48.141861],[11.601815,48.141682],[11.601592,48.141579],[11.601153,48.141277],[11.600667,48.141537],[11.600767,48.142017],[11.600599,48.142464],[11.600359,48.142815],[11.600235,48.143021],[11.600225,48.143093],[11.600153,48.143234],[11.59981,48.143677],[11.599666,48.144024],[11.599483,48.144352],[11.599153,48.144241],[11.598987,48.144184],[11.598768,48.144024],[11.598539,48.143631],[11.598152,48.143414],[11.597771,48.143402],[11.597469,48.143341],[11.597153,48.143322],[11.596814,48.143684],[11.596651,48.14402],[11.596539,48.144405],[11.596554,48.144619],[11.596489,48.145016],[11.59635,48.145218],[11.596151,48.145382],[11.595925,48.145248],[11.595812,48.14502],[11.595663,48.144527],[11.595666,48.144505],[11.595288,48.144154],[11.595152,48.144024],[11.59515,48.144024],[11.59514,48.144016],[11.594483,48.143692],[11.594152,48.143311],[11.594002,48.143169],[11.593577,48.143021],[11.593221,48.142952],[11.593151,48.142944],[11.593067,48.142937],[11.592706,48.143024],[11.592258,48.143124],[11.592153,48.143143],[11.591702,48.143574],[11.591609,48.143562],[11.591151,48.143696],[11.590838,48.143703],[11.590328,48.143845],[11.590152,48.143852],[11.589946,48.14381],[11.589674,48.14402],[11.589968,48.144203],[11.590153,48.144432],[11.590384,48.144791],[11.590419,48.14502],[11.59048,48.145348],[11.590153,48.145439],[11.589835,48.145699],[11.589257,48.145912],[11.589152,48.145966],[11.589118,48.145985],[11.589111,48.146019],[11.589121,48.146053],[11.589152,48.146217],[11.589437,48.146732],[11.589475,48.147018],[11.589508,48.147377],[11.589528,48.147644],[11.589567,48.148018],[11.58963,48.148495],[11.589615,48.148556],[11.589779,48.149014],[11.589904,48.149269],[11.590046,48.14991],[11.590082,48.150021],[11.590076,48.150097],[11.590153,48.150448],[11.590213,48.150959],[11.590198,48.15102],[11.590188,48.151054],[11.590153,48.15115],[11.589844,48.151325],[11.589609,48.151474],[11.589152,48.151688],[11.588923,48.151791],[11.588396,48.152016],[11.588292,48.152161],[11.588256,48.152916],[11.588223,48.153023],[11.588706,48.153465],[11.588762,48.153629],[11.588964,48.154018],[11.588946,48.154228],[11.589153,48.154575],[11.589398,48.15477],[11.589631,48.155018],[11.589462,48.155331],[11.589153,48.155281],[11.588704,48.155571],[11.588414,48.156017],[11.588221,48.156082],[11.588153,48.156094],[11.588067,48.156101],[11.587252,48.156116],[11.587152,48.156136],[11.587048,48.15612],[11.586929,48.156017],[11.586752,48.155617],[11.58672,48.155449],[11.586209,48.155018],[11.586163,48.155006],[11.586152,48.154991],[11.586021,48.154884],[11.58561,48.15456],[11.585153,48.154221],[11.585046,48.154121],[11.584895,48.154022],[11.584504,48.153667],[11.584152,48.153465],[11.583812,48.153358],[11.583356,48.153225],[11.583153,48.153164],[11.582933,48.15324],[11.582493,48.153019],[11.583009,48.152878],[11.583153,48.152702],[11.583467,48.152332],[11.583563,48.15202],[11.583403,48.151768],[11.583154,48.1511],[11.583131,48.151039],[11.583124,48.15102],[11.583037,48.150906],[11.582731,48.150444],[11.582354,48.150223],[11.582152,48.150082],[11.582097,48.150078],[11.58205,48.150021],[11.582052,48.149918],[11.58189,48.149281],[11.581892,48.149017],[11.581459,48.148712],[11.581153,48.148556],[11.580688,48.148479],[11.580547,48.148415],[11.580153,48.1483],[11.579786,48.148384],[11.579529,48.148396],[11.579151,48.148544],[11.578984,48.148849],[11.578786,48.149021],[11.578887,48.149284],[11.579151,48.149574],[11.579404,48.149769],[11.579799,48.150021],[11.580035,48.150139],[11.580153,48.150295],[11.580439,48.150734],[11.58051,48.15102],[11.580629,48.151493],[11.580636,48.151535],[11.580782,48.15202],[11.58087,48.152302],[11.581153,48.152782],[11.581246,48.152931],[11.581677,48.153019],[11.582025,48.153149],[11.582151,48.153538],[11.582289,48.153881],[11.582226,48.154018],[11.582193,48.15406],[11.582152,48.154152],[11.581781,48.154644],[11.581491,48.155018],[11.581541,48.155407],[11.581534,48.155632],[11.581607,48.156017],[11.582004,48.156166],[11.582152,48.15617],[11.582586,48.156582],[11.582685,48.157021],[11.582561,48.157425],[11.582152,48.157776],[11.581913,48.15778],[11.581207,48.15802],[11.581845,48.158329],[11.582153,48.158546],[11.582475,48.158695],[11.58298,48.158848],[11.583154,48.158913],[11.583244,48.158928],[11.583983,48.158848],[11.584152,48.158871],[11.584267,48.158905],[11.584441,48.159019],[11.584671,48.1595],[11.585154,48.159817],[11.585617,48.159481],[11.58592,48.159019],[11.58604,48.158905],[11.586152,48.158772],[11.586473,48.158699],[11.58673,48.1586],[11.587152,48.158539],[11.587471,48.158337],[11.587955,48.15802],[11.588096,48.157963],[11.588153,48.157963],[11.588212,48.157963],[11.589083,48.157951],[11.589152,48.157951],[11.589283,48.15789],[11.589927,48.157795],[11.590153,48.15744],[11.590396,48.157265],[11.59068,48.157017],[11.590796,48.156658],[11.591152,48.156662],[11.591637,48.156498],[11.591663,48.156506],[11.592152,48.156429],[11.592448,48.156315],[11.592904,48.156265],[11.593152,48.1562],[11.593386,48.15625],[11.594124,48.156044],[11.594152,48.156071],[11.594176,48.15604],[11.595138,48.156021],[11.595153,48.156017],[11.595159,48.15601],[11.595698,48.155563],[11.596152,48.155037],[11.596161,48.155029],[11.596168,48.155018],[11.596164,48.155006],[11.596152,48.154995],[11.595835,48.154339],[11.595801,48.154018],[11.595839,48.153702],[11.596152,48.153507],[11.596484,48.153351],[11.597021,48.153019],[11.597088,48.152954],[11.597153,48.152908],[11.597279,48.152893],[11.597742,48.152607],[11.598153,48.152596],[11.598407,48.152763],[11.598499,48.153019],[11.598574,48.153442],[11.598583,48.153587],[11.598685,48.154015],[11.598875,48.154297],[11.599152,48.154434],[11.599641,48.154507],[11.599659,48.154507],[11.600153,48.154579],[11.600546,48.154411],[11.600874,48.154018],[11.600897,48.153763],[11.600963,48.15321],[11.600981,48.153019],[11.601049,48.152916],[11.601152,48.152916],[11.601211,48.152962],[11.601296,48.153019],[11.601703,48.153469],[11.602154,48.153522],[11.602392,48.153782],[11.602645,48.154018],[11.60276,48.154411],[11.603153,48.154705],[11.603277,48.154892],[11.603394,48.155018],[11.603485,48.15535],[11.603336,48.155834],[11.603785,48.156017],[11.603247,48.156113],[11.603152,48.156139],[11.602977,48.156193],[11.602494,48.156357],[11.602153,48.15646],[11.601804,48.156666],[11.601437,48.157021],[11.601441,48.15731],[11.601152,48.157684],[11.601059,48.157928],[11.600795,48.15802],[11.600965,48.158207],[11.601152,48.158314],[11.601537,48.158405],[11.601727,48.158447],[11.602153,48.158546],[11.602318,48.158188],[11.603111,48.158062],[11.603151,48.158043],[11.603289,48.158157],[11.603704,48.15847],[11.603739,48.158607],[11.60394,48.159019],[11.603866,48.159306],[11.604153,48.159977],[11.604195,48.159981],[11.604876,48.160019],[11.605134,48.160034],[11.605152,48.160049],[11.605166,48.160034],[11.605176,48.160019],[11.605741,48.159607],[11.606153,48.159348],[11.60641,48.159275],[11.606722,48.159019],[11.606999,48.158867],[11.607153,48.158916],[11.607223,48.158951],[11.607288,48.159019],[11.60757,48.159435],[11.607617,48.159557],[11.607697,48.159565],[11.608152,48.159782],[11.608289,48.159885],[11.608333,48.160023],[11.608754,48.160416],[11.609153,48.1605],[11.609515,48.16066],[11.609803,48.161015],[11.609878,48.161297],[11.610152,48.161743],[11.610358,48.161812],[11.610789,48.162018],[11.610928,48.162239],[11.611153,48.162312],[11.611535,48.162636],[11.611841,48.163025],[11.611767,48.163406],[11.611729,48.163597],[11.611649,48.164021],[11.611816,48.164356],[11.612153,48.164528],[11.612434,48.164742],[11.6128,48.16502],[11.613085,48.165089],[11.613153,48.165096],[11.613293,48.165165],[11.613905,48.165264],[11.614153,48.165596],[11.614457,48.165718],[11.614993,48.166019],[11.615076,48.166096],[11.614913,48.166779],[11.61497,48.167019],[11.614997,48.167175],[11.615151,48.167328],[11.61552,48.167648],[11.615674,48.168018],[11.615703,48.168468],[11.615848,48.168709],[11.615907,48.169014],[11.615988,48.169178],[11.616153,48.169258],[11.616321,48.169186],[11.616871,48.169296],[11.617151,48.169254],[11.617444,48.169308],[11.618007,48.169018],[11.61809,48.168953],[11.618153,48.16885],[11.6182,48.168968],[11.618256,48.169018],[11.618277,48.169144],[11.618379,48.169792],[11.618418,48.170021],[11.618798,48.170372],[11.619151,48.17054],[11.619649,48.170517],[11.619656,48.170517],[11.620152,48.17049],[11.620587,48.17046],[11.620755,48.170418],[11.621152,48.17038],[11.621542,48.17041],[11.621705,48.170467],[11.622152,48.170486],[11.622606,48.170475],[11.622711,48.17046],[11.623153,48.170448],[11.623577,48.170444],[11.623785,48.170391],[11.624152,48.170383],[11.624329,48.1702]],[[11.620428,48.151295],[11.620152,48.15131],[11.619905,48.151268],[11.619159,48.151028],[11.619152,48.151024],[11.619145,48.151024],[11.618366,48.151234],[11.618153,48.151276],[11.617944,48.15123],[11.617787,48.15102],[11.61744,48.150734],[11.617152,48.150558],[11.616985,48.150188],[11.616983,48.150021],[11.617057,48.149925],[11.617152,48.149883],[11.617311,48.149864],[11.617917,48.149784],[11.618153,48.14975],[11.618421,48.149754],[11.619016,48.149883],[11.619152,48.149883],[11.619279,48.149895],[11.619547,48.150024],[11.61969,48.150478],[11.620152,48.150616],[11.62042,48.150757],[11.62089,48.15102],[11.620428,48.151295]],[[11.622152,48.163296],[11.621889,48.163284],[11.621374,48.163021],[11.621355,48.162815],[11.621153,48.162724],[11.620735,48.162434],[11.62061,48.162018],[11.620661,48.161526],[11.621153,48.161598],[11.621481,48.16169],[11.621938,48.1618],[11.622152,48.161858],[11.622606,48.161564],[11.622625,48.162014],[11.622564,48.162434],[11.622625,48.162544],[11.622608,48.163025],[11.622413,48.163284],[11.622152,48.163296]],[[11.62334,48.152206],[11.623154,48.152267],[11.622902,48.152271],[11.622253,48.152119],[11.622152,48.152122],[11.622093,48.152081],[11.621987,48.15202],[11.622001,48.151867],[11.622153,48.151817],[11.622349,48.151825],[11.622793,48.151661],[11.623153,48.151669],[11.623517,48.151657],[11.623725,48.15202],[11.62334,48.152206]],[[11.601249,48.145115],[11.601151,48.145245],[11.601056,48.145115],[11.600407,48.145271],[11.600154,48.14521],[11.600005,48.145164],[11.599863,48.14502],[11.599783,48.14465],[11.600153,48.144417],[11.600536,48.144634],[11.600935,48.144802],[11.601152,48.144905],[11.601267,48.144905],[11.601292,48.14502],[11.601249,48.145115]]],[[[11.590379,48.141243],[11.59102,48.141018],[11.591091,48.140957],[11.591153,48.140808],[11.591343,48.140209],[11.591336,48.140022],[11.591502,48.139671],[11.591583,48.13945],[11.59188,48.139019],[11.591598,48.138573],[11.591152,48.138153],[11.591087,48.138084],[11.591015,48.13802],[11.591043,48.137913],[11.591152,48.137554],[11.591286,48.137154],[11.591304,48.13702],[11.591187,48.136986],[11.591152,48.136909],[11.590881,48.136749],[11.5906,48.13657],[11.590153,48.136345],[11.589941,48.136234],[11.589411,48.136017],[11.589252,48.135918],[11.589152,48.135838],[11.588699,48.135475],[11.588574,48.135017],[11.588368,48.1348],[11.588153,48.134697],[11.587816,48.134354],[11.587557,48.134018],[11.58728,48.133892],[11.587152,48.133839],[11.586889,48.133755],[11.586449,48.13372],[11.586152,48.133511],[11.585886,48.133751],[11.585267,48.133904],[11.585153,48.133953],[11.585073,48.133938],[11.584381,48.133785],[11.584151,48.133747],[11.583673,48.133537],[11.583637,48.133533],[11.583593,48.133461],[11.583256,48.133018],[11.583214,48.132957],[11.583153,48.132931],[11.583077,48.132946],[11.582835,48.133018],[11.582509,48.133377],[11.582152,48.133804],[11.58201,48.133877],[11.581888,48.134018],[11.581987,48.134186],[11.582152,48.134586],[11.58229,48.134876],[11.582608,48.135014],[11.583057,48.135113],[11.583153,48.135128],[11.583284,48.135151],[11.583582,48.135014],[11.584008,48.134876],[11.584152,48.134834],[11.584336,48.134834],[11.584449,48.135017],[11.584708,48.135464],[11.585152,48.135845],[11.585222,48.135948],[11.585281,48.136021],[11.585284,48.13615],[11.585401,48.136772],[11.585403,48.137016],[11.585373,48.137241],[11.585153,48.137711],[11.585045,48.137909],[11.585019,48.13802],[11.585052,48.138123],[11.585153,48.138325],[11.58545,48.138718],[11.585748,48.139015],[11.585885,48.139286],[11.585931,48.139797],[11.585995,48.140018],[11.586061,48.14011],[11.586152,48.140285],[11.586464,48.140709],[11.586784,48.141018],[11.587036,48.141132],[11.587152,48.141174],[11.587411,48.141277],[11.587796,48.141373],[11.588153,48.141624],[11.58844,48.141731],[11.589012,48.14188],[11.589151,48.141918],[11.589417,48.14175],[11.589697,48.14156],[11.590153,48.141331],[11.590379,48.141243]]],[[[11.62853,48.143398],[11.628786,48.143024],[11.6287,48.142567],[11.628674,48.142498],[11.628617,48.142017],[11.628657,48.141521],[11.628709,48.141464],[11.628922,48.141018],[11.628411,48.140762],[11.628305,48.140175],[11.628231,48.140018],[11.628716,48.139584],[11.629153,48.139397],[11.629478,48.139343],[11.629934,48.139019],[11.629249,48.138924],[11.629153,48.138924],[11.629059,48.138927],[11.628277,48.138897],[11.628153,48.138897],[11.627979,48.138847],[11.627182,48.138992],[11.627152,48.138939],[11.627093,48.138962],[11.627,48.139019],[11.627014,48.139156],[11.627152,48.139877],[11.627184,48.139988],[11.627323,48.140018],[11.62718,48.140049],[11.627151,48.140038],[11.626697,48.140564],[11.626571,48.141018],[11.626393,48.141262],[11.626152,48.141434],[11.625721,48.141449],[11.625316,48.141178],[11.625153,48.141212],[11.62495,48.141815],[11.624874,48.142017],[11.624986,48.142185],[11.625154,48.14238],[11.625452,48.142719],[11.625771,48.143021],[11.626032,48.143139],[11.626152,48.143185],[11.626504,48.143368],[11.626701,48.143471],[11.627152,48.143772],[11.62744,48.143734],[11.627832,48.143703],[11.628153,48.14365],[11.62853,48.143398]]],[[[11.596464,48.164333],[11.596972,48.164021],[11.596988,48.163853],[11.597153,48.163666],[11.597414,48.163284],[11.597461,48.163021],[11.597337,48.162834],[11.597153,48.162735],[11.596879,48.162743],[11.596478,48.162693],[11.596152,48.162708],[11.595817,48.162685],[11.595541,48.162628],[11.595153,48.162613],[11.59481,48.162678],[11.594492,48.163021],[11.594394,48.163261],[11.594152,48.163651],[11.594007,48.163872],[11.593937,48.164021],[11.593966,48.164207],[11.594152,48.164848],[11.594232,48.16494],[11.594899,48.164764],[11.595153,48.164829],[11.595488,48.164684],[11.595707,48.164577],[11.596152,48.164433],[11.596464,48.164333]]],[[[11.610152,48.13607],[11.610192,48.136059],[11.610376,48.136021],[11.610801,48.135666],[11.61088,48.135288],[11.611005,48.135017],[11.610754,48.134617],[11.610682,48.134491],[11.610209,48.134018],[11.610186,48.133984],[11.610151,48.133949],[11.610127,48.133991],[11.610128,48.134022],[11.609987,48.134182],[11.609691,48.134556],[11.609545,48.134624],[11.609153,48.134865],[11.609053,48.134918],[11.608923,48.135021],[11.608965,48.135204],[11.609153,48.135994],[11.609163,48.136013],[11.60922,48.136021],[11.610096,48.136074],[11.610152,48.13607]]],[[[11.60023,48.170097],[11.60033,48.170021],[11.600224,48.169949],[11.600153,48.169952],[11.599759,48.169624],[11.599635,48.169533],[11.599623,48.169491],[11.599391,48.169018],[11.599286,48.168884],[11.599153,48.168797],[11.598918,48.168781],[11.598579,48.169018],[11.598809,48.169361],[11.598758,48.169624],[11.598841,48.170025],[11.598989,48.170185],[11.599153,48.170238],[11.59944,48.170307],[11.600077,48.170097],[11.600152,48.170227],[11.60023,48.170097]]],[[[11.600153,48.141357],[11.600636,48.141499],[11.60086,48.141022],[11.600866,48.140732],[11.60084,48.140331],[11.600846,48.140018],[11.600461,48.139713],[11.600153,48.13945],[11.599697,48.139473],[11.599569,48.139435],[11.599153,48.139481],[11.599007,48.139874],[11.59893,48.140018],[11.598924,48.140247],[11.599153,48.141003],[11.599157,48.141014],[11.599159,48.141022],[11.599875,48.141293],[11.600153,48.141357]]],[[[11.638288,48.146156],[11.638415,48.146023],[11.638256,48.145916],[11.638151,48.145855],[11.637893,48.14576],[11.637516,48.145657],[11.637152,48.145481],[11.636816,48.145683],[11.63636,48.146019],[11.636821,48.146347],[11.637153,48.146721],[11.63761,48.146477],[11.637743,48.146427],[11.638152,48.146252],[11.638288,48.146156]]],[[[11.629152,48.159771],[11.629595,48.159462],[11.629974,48.159016],[11.629627,48.158543],[11.629557,48.158424],[11.62931,48.15802],[11.629236,48.157936],[11.629152,48.157867],[11.629066,48.157932],[11.628966,48.15802],[11.62899,48.15818],[11.628815,48.15868],[11.628835,48.159016],[11.628848,48.159325],[11.629152,48.159771]]]],\"type\":\"MultiPolygon\"},\"type\":\"Feature\"}],\"type\":\"FeatureCollection\"},\"type\":\"fill\"}],\"style\":\"stamen-terrain\",\"zoom\":12},\"margin\":{\"b\":0,\"l\":0,\"r\":0,\"t\":0},\"template\":{\"data\":{\"bar\":[{\"error_x\":{\"color\":\"#2a3f5f\"},\"error_y\":{\"color\":\"#2a3f5f\"},\"marker\":{\"line\":{\"color\":\"#E5ECF6\",\"width\":0.5},\"pattern\":{\"fillmode\":\"overlay\",\"size\":10,\"solidity\":0.2}},\"type\":\"bar\"}],\"barpolar\":[{\"marker\":{\"line\":{\"color\":\"#E5ECF6\",\"width\":0.5},\"pattern\":{\"fillmode\":\"overlay\",\"size\":10,\"solidity\":0.2}},\"type\":\"barpolar\"}],\"carpet\":[{\"aaxis\":{\"endlinecolor\":\"#2a3f5f\",\"gridcolor\":\"white\",\"linecolor\":\"white\",\"minorgridcolor\":\"white\",\"startlinecolor\":\"#2a3f5f\"},\"baxis\":{\"endlinecolor\":\"#2a3f5f\",\"gridcolor\":\"white\",\"linecolor\":\"white\",\"minorgridcolor\":\"white\",\"startlinecolor\":\"#2a3f5f\"},\"type\":\"carpet\"}],\"choropleth\":[{\"colorbar\":{\"outlinewidth\":0,\"ticks\":\"\"},\"type\":\"choropleth\"}],\"contour\":[{\"colorbar\":{\"outlinewidth\":0,\"ticks\":\"\"},\"colorscale\":[[0.0,\"#0d0887\"],[0.1111111111111111,\"#46039f\"],[0.2222222222222222,\"#7201a8\"],[0.3333333333333333,\"#9c179e\"],[0.4444444444444444,\"#bd3786\"],[0.5555555555555556,\"#d8576b\"],[0.6666666666666666,\"#ed7953\"],[0.7777777777777778,\"#fb9f3a\"],[0.8888888888888888,\"#fdca26\"],[1.0,\"#f0f921\"]],\"type\":\"contour\"}],\"contourcarpet\":[{\"colorbar\":{\"outlinewidth\":0,\"ticks\":\"\"},\"type\":\"contourcarpet\"}],\"heatmap\":[{\"colorbar\":{\"outlinewidth\":0,\"ticks\":\"\"},\"colorscale\":[[0.0,\"#0d0887\"],[0.1111111111111111,\"#46039f\"],[0.2222222222222222,\"#7201a8\"],[0.3333333333333333,\"#9c179e\"],[0.4444444444444444,\"#bd3786\"],[0.5555555555555556,\"#d8576b\"],[0.6666666666666666,\"#ed7953\"],[0.7777777777777778,\"#fb9f3a\"],[0.8888888888888888,\"#fdca26\"],[1.0,\"#f0f921\"]],\"type\":\"heatmap\"}],\"heatmapgl\":[{\"colorbar\":{\"outlinewidth\":0,\"ticks\":\"\"},\"colorscale\":[[0.0,\"#0d0887\"],[0.1111111111111111,\"#46039f\"],[0.2222222222222222,\"#7201a8\"],[0.3333333333333333,\"#9c179e\"],[0.4444444444444444,\"#bd3786\"],[0.5555555555555556,\"#d8576b\"],[0.6666666666666666,\"#ed7953\"],[0.7777777777777778,\"#fb9f3a\"],[0.8888888888888888,\"#fdca26\"],[1.0,\"#f0f921\"]],\"type\":\"heatmapgl\"}],\"histogram\":[{\"marker\":{\"pattern\":{\"fillmode\":\"overlay\",\"size\":10,\"solidity\":0.2}},\"type\":\"histogram\"}],\"histogram2d\":[{\"colorbar\":{\"outlinewidth\":0,\"ticks\":\"\"},\"colorscale\":[[0.0,\"#0d0887\"],[0.1111111111111111,\"#46039f\"],[0.2222222222222222,\"#7201a8\"],[0.3333333333333333,\"#9c179e\"],[0.4444444444444444,\"#bd3786\"],[0.5555555555555556,\"#d8576b\"],[0.6666666666666666,\"#ed7953\"],[0.7777777777777778,\"#fb9f3a\"],[0.8888888888888888,\"#fdca26\"],[1.0,\"#f0f921\"]],\"type\":\"histogram2d\"}],\"histogram2dcontour\":[{\"colorbar\":{\"outlinewidth\":0,\"ticks\":\"\"},\"colorscale\":[[0.0,\"#0d0887\"],[0.1111111111111111,\"#46039f\"],[0.2222222222222222,\"#7201a8\"],[0.3333333333333333,\"#9c179e\"],[0.4444444444444444,\"#bd3786\"],[0.5555555555555556,\"#d8576b\"],[0.6666666666666666,\"#ed7953\"],[0.7777777777777778,\"#fb9f3a\"],[0.8888888888888888,\"#fdca26\"],[1.0,\"#f0f921\"]],\"type\":\"histogram2dcontour\"}],\"mesh3d\":[{\"colorbar\":{\"outlinewidth\":0,\"ticks\":\"\"},\"type\":\"mesh3d\"}],\"parcoords\":[{\"line\":{\"colorbar\":{\"outlinewidth\":0,\"ticks\":\"\"}},\"type\":\"parcoords\"}],\"pie\":[{\"automargin\":true,\"type\":\"pie\"}],\"scatter\":[{\"marker\":{\"colorbar\":{\"outlinewidth\":0,\"ticks\":\"\"}},\"type\":\"scatter\"}],\"scatter3d\":[{\"line\":{\"colorbar\":{\"outlinewidth\":0,\"ticks\":\"\"}},\"marker\":{\"colorbar\":{\"outlinewidth\":0,\"ticks\":\"\"}},\"type\":\"scatter3d\"}],\"scattercarpet\":[{\"marker\":{\"colorbar\":{\"outlinewidth\":0,\"ticks\":\"\"}},\"type\":\"scattercarpet\"}],\"scattergeo\":[{\"marker\":{\"colorbar\":{\"outlinewidth\":0,\"ticks\":\"\"}},\"type\":\"scattergeo\"}],\"scattergl\":[{\"marker\":{\"colorbar\":{\"outlinewidth\":0,\"ticks\":\"\"}},\"type\":\"scattergl\"}],\"scattermapbox\":[{\"marker\":{\"colorbar\":{\"outlinewidth\":0,\"ticks\":\"\"}},\"type\":\"scattermapbox\"}],\"scatterpolar\":[{\"marker\":{\"colorbar\":{\"outlinewidth\":0,\"ticks\":\"\"}},\"type\":\"scatterpolar\"}],\"scatterpolargl\":[{\"marker\":{\"colorbar\":{\"outlinewidth\":0,\"ticks\":\"\"}},\"type\":\"scatterpolargl\"}],\"scatterternary\":[{\"marker\":{\"colorbar\":{\"outlinewidth\":0,\"ticks\":\"\"}},\"type\":\"scatterternary\"}],\"surface\":[{\"colorbar\":{\"outlinewidth\":0,\"ticks\":\"\"},\"colorscale\":[[0.0,\"#0d0887\"],[0.1111111111111111,\"#46039f\"],[0.2222222222222222,\"#7201a8\"],[0.3333333333333333,\"#9c179e\"],[0.4444444444444444,\"#bd3786\"],[0.5555555555555556,\"#d8576b\"],[0.6666666666666666,\"#ed7953\"],[0.7777777777777778,\"#fb9f3a\"],[0.8888888888888888,\"#fdca26\"],[1.0,\"#f0f921\"]],\"type\":\"surface\"}],\"table\":[{\"cells\":{\"fill\":{\"color\":\"#EBF0F8\"},\"line\":{\"color\":\"white\"}},\"header\":{\"fill\":{\"color\":\"#C8D4E3\"},\"line\":{\"color\":\"white\"}},\"type\":\"table\"}]},\"layout\":{\"annotationdefaults\":{\"arrowcolor\":\"#2a3f5f\",\"arrowhead\":0,\"arrowwidth\":1},\"autotypenumbers\":\"strict\",\"coloraxis\":{\"colorbar\":{\"outlinewidth\":0,\"ticks\":\"\"}},\"colorscale\":{\"diverging\":[[0,\"#8e0152\"],[0.1,\"#c51b7d\"],[0.2,\"#de77ae\"],[0.3,\"#f1b6da\"],[0.4,\"#fde0ef\"],[0.5,\"#f7f7f7\"],[0.6,\"#e6f5d0\"],[0.7,\"#b8e186\"],[0.8,\"#7fbc41\"],[0.9,\"#4d9221\"],[1,\"#276419\"]],\"sequential\":[[0.0,\"#0d0887\"],[0.1111111111111111,\"#46039f\"],[0.2222222222222222,\"#7201a8\"],[0.3333333333333333,\"#9c179e\"],[0.4444444444444444,\"#bd3786\"],[0.5555555555555556,\"#d8576b\"],[0.6666666666666666,\"#ed7953\"],[0.7777777777777778,\"#fb9f3a\"],[0.8888888888888888,\"#fdca26\"],[1.0,\"#f0f921\"]],\"sequentialminus\":[[0.0,\"#0d0887\"],[0.1111111111111111,\"#46039f\"],[0.2222222222222222,\"#7201a8\"],[0.3333333333333333,\"#9c179e\"],[0.4444444444444444,\"#bd3786\"],[0.5555555555555556,\"#d8576b\"],[0.6666666666666666,\"#ed7953\"],[0.7777777777777778,\"#fb9f3a\"],[0.8888888888888888,\"#fdca26\"],[1.0,\"#f0f921\"]]},\"colorway\":[\"#636efa\",\"#EF553B\",\"#00cc96\",\"#ab63fa\",\"#FFA15A\",\"#19d3f3\",\"#FF6692\",\"#B6E880\",\"#FF97FF\",\"#FECB52\"],\"font\":{\"color\":\"#2a3f5f\"},\"geo\":{\"bgcolor\":\"white\",\"lakecolor\":\"white\",\"landcolor\":\"#E5ECF6\",\"showlakes\":true,\"showland\":true,\"subunitcolor\":\"white\"},\"hoverlabel\":{\"align\":\"left\"},\"hovermode\":\"closest\",\"mapbox\":{\"style\":\"light\"},\"paper_bgcolor\":\"white\",\"plot_bgcolor\":\"#E5ECF6\",\"polar\":{\"angularaxis\":{\"gridcolor\":\"white\",\"linecolor\":\"white\",\"ticks\":\"\"},\"bgcolor\":\"#E5ECF6\",\"radialaxis\":{\"gridcolor\":\"white\",\"linecolor\":\"white\",\"ticks\":\"\"}},\"scene\":{\"xaxis\":{\"backgroundcolor\":\"#E5ECF6\",\"gridcolor\":\"white\",\"gridwidth\":2,\"linecolor\":\"white\",\"showbackground\":true,\"ticks\":\"\",\"zerolinecolor\":\"white\"},\"yaxis\":{\"backgroundcolor\":\"#E5ECF6\",\"gridcolor\":\"white\",\"gridwidth\":2,\"linecolor\":\"white\",\"showbackground\":true,\"ticks\":\"\",\"zerolinecolor\":\"white\"},\"zaxis\":{\"backgroundcolor\":\"#E5ECF6\",\"gridcolor\":\"white\",\"gridwidth\":2,\"linecolor\":\"white\",\"showbackground\":true,\"ticks\":\"\",\"zerolinecolor\":\"white\"}},\"shapedefaults\":{\"line\":{\"color\":\"#2a3f5f\"}},\"ternary\":{\"aaxis\":{\"gridcolor\":\"white\",\"linecolor\":\"white\",\"ticks\":\"\"},\"baxis\":{\"gridcolor\":\"white\",\"linecolor\":\"white\",\"ticks\":\"\"},\"bgcolor\":\"#E5ECF6\",\"caxis\":{\"gridcolor\":\"white\",\"linecolor\":\"white\",\"ticks\":\"\"}},\"title\":{\"x\":0.05},\"xaxis\":{\"automargin\":true,\"gridcolor\":\"white\",\"linecolor\":\"white\",\"ticks\":\"\",\"title\":{\"standoff\":15},\"zerolinecolor\":\"white\",\"zerolinewidth\":2},\"yaxis\":{\"automargin\":true,\"gridcolor\":\"white\",\"linecolor\":\"white\",\"ticks\":\"\",\"title\":{\"standoff\":15},\"zerolinecolor\":\"white\",\"zerolinewidth\":2}}}},                        {\"responsive\": true}                    ).then(function(){\n",
       "                            \n",
       "var gd = document.getElementById('d6e65a3e-fbee-4775-bbf9-408264faf99a');\n",
       "var x = new MutationObserver(function (mutations, observer) {{\n",
       "        var display = window.getComputedStyle(gd).display;\n",
       "        if (!display || display === 'none') {{\n",
       "            console.log([gd, 'removed!']);\n",
       "            Plotly.purge(gd);\n",
       "            observer.disconnect();\n",
       "        }}\n",
       "}});\n",
       "\n",
       "// Listen for the removal of the full notebook cells\n",
       "var notebookContainer = gd.closest('#notebook-container');\n",
       "if (notebookContainer) {{\n",
       "    x.observe(notebookContainer, {childList: true});\n",
       "}}\n",
       "\n",
       "// Listen for the clearing of the current output cell\n",
       "var outputEl = gd.closest('.output');\n",
       "if (outputEl) {{\n",
       "    x.observe(outputEl, {childList: true});\n",
       "}}\n",
       "\n",
       "                        })                };                });            </script>        </div>"
      ]
     },
     "metadata": {},
     "output_type": "display_data"
    }
   ],
   "source": [
    "import plotly.graph_objects as go\n",
    "\n",
    "fig = go.Figure(go.Scattermapbox(\n",
    "    mode = \"markers\",\n",
    "    lon = [lon], lat = [lat],\n",
    "    marker = {'size': 5, 'color': [\"cyan\"]}))\n",
    "\n",
    "fig.update_layout(\n",
    "    mapbox = {\n",
    "        'style': \"stamen-terrain\",\n",
    "        'center': { 'lon': lon, 'lat': lat},\n",
    "        'zoom': 12, 'layers': [{\n",
    "            'source': {\n",
    "                'type': \"FeatureCollection\",\n",
    "                'features': [{\n",
    "                    'type': \"Feature\",\n",
    "                    'geometry': {\n",
    "                        'type': \"MultiPolygon\",\n",
    "                        'coordinates': result['geometry']['coordinates']                      \n",
    "                        # [[[\n",
    "#                             [-73.606352888, 45.507489991], [-73.606133883, 45.50687600],\n",
    "#                             [-73.605905904, 45.506773980], [-73.603533905, 45.505698946],\n",
    "#                             [-73.602475870, 45.506856969], [-73.600031904, 45.505696003],\n",
    "#                             [-73.599379992, 45.505389066], [-73.599119902, 45.505632008],\n",
    "#                             [-73.598896977, 45.505514039], [-73.598783894, 45.505617001],\n",
    "#                             [-73.591308727, 45.516246185], [-73.591380782, 45.516280145],\n",
    "#                             [-73.596778656, 45.518690062], [-73.602796770, 45.521348046],\n",
    "#                             [-73.612239983, 45.525564037], [-73.612422919, 45.525642061],\n",
    "#                             [-73.617229085, 45.527751983], [-73.617279234, 45.527774160],\n",
    "#                             [-73.617304713, 45.527741334], [-73.617492052, 45.527498362],\n",
    "#                             [-73.617533258, 45.527512253], [-73.618074188, 45.526759105],\n",
    "#                             [-73.618271651, 45.526500673], [-73.618446320, 45.526287943],\n",
    "#                             [-73.618968507, 45.525698560], [-73.619388002, 45.525216750],\n",
    "#                             [-73.619532966, 45.525064183], [-73.619686662, 45.524889290],\n",
    "#                             [-73.619787038, 45.524770086], [-73.619925742, 45.524584939],\n",
    "#                             [-73.619954486, 45.524557690], [-73.620122362, 45.524377961],\n",
    "#                             [-73.620201713, 45.524298907], [-73.620775593, 45.523650879]\n",
    "                        # ]]]\n",
    "                    }\n",
    "                }]\n",
    "            },\n",
    "            'type': \"fill\", 'below': \"traces\", 'color': \"royalblue\", 'opacity':0.7}]},\n",
    "    margin = {'l':0, 'r':0, 'b':0, 't':0})\n",
    "\n",
    "fig.show()"
   ]
  },
  {
   "cell_type": "code",
   "execution_count": 20,
   "id": "6f707bb1",
   "metadata": {},
   "outputs": [],
   "source": [
    "def get_isochrone(coordinates_gpd, param_info, city):\n",
    "    \n",
    "    all_shapes = []\n",
    "    \n",
    "    geod = Geod(ellps=\"WGS84\")\n",
    "    \n",
    "    total_i = len(coordinates_gpd)\n",
    "    \n",
    "    for i in range(total_i):\n",
    "        \n",
    "        lat = coordinates_gpd.iloc[i,:][0].y\n",
    "        lon = coordinates_gpd.iloc[i,:][0].x\n",
    "        \n",
    "        azimuth1, azimuth2, distance_to_centroid = geod.inv(city.centroid.x.values[0], city.centroid.y.values[0], lon, lat)\n",
    "        \n",
    "        payload = {'lat':lat,\n",
    "                   'lon':lon,\n",
    "                   'type':param_info['type'],\n",
    "                   'mode':param_info['mode'],\n",
    "                   'range':param_info['range'],\n",
    "                   'apiKey':param_info['apiKey']}\n",
    "        \n",
    "        url = \"https://api.geoapify.com/v1/isoline?lat={lat}&lon={lon}&type={type}&mode={mode}&range={range}&apiKey={apiKey}\".format(**payload)\n",
    "        \n",
    "        headers = CaseInsensitiveDict()\n",
    "        headers[\"Accept\"] = \"application/json\"\n",
    "\n",
    "        resp = requests.get(url, headers=headers)\n",
    "        \n",
    "        if resp.status_code == 200:\n",
    "\n",
    "            response_data = json.loads(resp.text)\n",
    "            result = response_data.get('features')[0]\n",
    "            \n",
    "            shapes = []\n",
    "\n",
    "            for shape in result['geometry']['coordinates']:\n",
    "                \n",
    "                area = abs(geod.geometry_area_perimeter(Polygon(shape[0]))[0]) # m^2\n",
    "                \n",
    "                shape_dict = {}\n",
    "                \n",
    "                shape_dict['ref_point_id'] = i\n",
    "                # shape_dict['ref_point_lat'] = lat\n",
    "                # shape_dict['ref_point_lon'] = lon\n",
    "                # shape_dict['shape'] = shape\n",
    "                shape_dict['area'] = area\n",
    "                \n",
    "                shapes.append(shape_dict)\n",
    "                \n",
    "            shapes_df = pd.DataFrame(shapes)\n",
    "            \n",
    "            total_area = shapes_df['area'].sum()\n",
    "            \n",
    "            empty_dict = {}\n",
    "            \n",
    "            empty_dict['ref_point_id'] = i\n",
    "            empty_dict['total_area'] = total_area\n",
    "            empty_dict['distance_to_centroid'] = distance_to_centroid\n",
    "                \n",
    "            all_shapes.append(empty_dict)\n",
    "            \n",
    "        all_df = pd.DataFrame(all_shapes)\n",
    "        \n",
    "    return all_df"
   ]
  },
  {
   "cell_type": "code",
   "execution_count": 21,
   "id": "2d1dbe0c",
   "metadata": {},
   "outputs": [],
   "source": [
    "import warnings\n",
    "warnings.filterwarnings('ignore')\n",
    "\n",
    "final_df = get_isochrone(coordinates_gpd=coordinates_gpd,\n",
    "                        param_info=param_info,\n",
    "                        city=sub_city)"
   ]
  },
  {
   "cell_type": "code",
   "execution_count": 22,
   "id": "4fc9cf69",
   "metadata": {},
   "outputs": [
    {
     "data": {
      "text/plain": [
       "array([[ 1.        , -0.42136324],\n",
       "       [-0.42136324,  1.        ]])"
      ]
     },
     "execution_count": 22,
     "metadata": {},
     "output_type": "execute_result"
    }
   ],
   "source": [
    "np.corrcoef(final_df['total_area'].values, final_df['distance_to_centroid'].values)"
   ]
  },
  {
   "cell_type": "code",
   "execution_count": 23,
   "id": "c27f1544",
   "metadata": {},
   "outputs": [
    {
     "data": {
      "text/plain": [
       "<AxesSubplot:xlabel='distance_to_centroid', ylabel='total_area'>"
      ]
     },
     "execution_count": 23,
     "metadata": {},
     "output_type": "execute_result"
    },
    {
     "data": {
      "image/png": "[encoded data removed]",
      "text/plain": [
       "<Figure size 432x288 with 1 Axes>"
      ]
     },
     "metadata": {
      "needs_background": "light"
     },
     "output_type": "display_data"
    }
   ],
   "source": [
    "final_df.plot.scatter(x = 'distance_to_centroid', y = 'total_area')"
   ]
  },
  {
   "cell_type": "code",
   "execution_count": 24,
   "id": "74484b28",
   "metadata": {},
   "outputs": [
    {
     "data": {
      "text/html": [
       "<table class=\"simpletable\">\n",
       "<caption>OLS Regression Results</caption>\n",
       "<tr>\n",
       "  <th>Dep. Variable:</th>       <td>total_area</td>    <th>  R-squared:         </th> <td>   0.178</td>\n",
       "</tr>\n",
       "<tr>\n",
       "  <th>Model:</th>                   <td>OLS</td>       <th>  Adj. R-squared:    </th> <td>   0.163</td>\n",
       "</tr>\n",
       "<tr>\n",
       "  <th>Method:</th>             <td>Least Squares</td>  <th>  F-statistic:       </th> <td>   11.87</td>\n",
       "</tr>\n",
       "<tr>\n",
       "  <th>Date:</th>             <td>Mon, 18 Oct 2021</td> <th>  Prob (F-statistic):</th>  <td>0.00110</td>\n",
       "</tr>\n",
       "<tr>\n",
       "  <th>Time:</th>                 <td>10:38:53</td>     <th>  Log-Likelihood:    </th> <td> -900.94</td>\n",
       "</tr>\n",
       "<tr>\n",
       "  <th>No. Observations:</th>      <td>    57</td>      <th>  AIC:               </th> <td>   1806.</td>\n",
       "</tr>\n",
       "<tr>\n",
       "  <th>Df Residuals:</th>          <td>    55</td>      <th>  BIC:               </th> <td>   1810.</td>\n",
       "</tr>\n",
       "<tr>\n",
       "  <th>Df Model:</th>              <td>     1</td>      <th>                     </th>     <td> </td>   \n",
       "</tr>\n",
       "<tr>\n",
       "  <th>Covariance Type:</th>      <td>nonrobust</td>    <th>                     </th>     <td> </td>   \n",
       "</tr>\n",
       "</table>\n",
       "<table class=\"simpletable\">\n",
       "<tr>\n",
       "            <td></td>              <th>coef</th>     <th>std err</th>      <th>t</th>      <th>P>|t|</th>  <th>[0.025</th>    <th>0.975]</th>  \n",
       "</tr>\n",
       "<tr>\n",
       "  <th>Intercept</th>            <td> 4.871e+06</td> <td> 6.38e+05</td> <td>    7.631</td> <td> 0.000</td> <td> 3.59e+06</td> <td> 6.15e+06</td>\n",
       "</tr>\n",
       "<tr>\n",
       "  <th>distance_to_centroid</th> <td> -160.4272</td> <td>   46.558</td> <td>   -3.446</td> <td> 0.001</td> <td> -253.732</td> <td>  -67.123</td>\n",
       "</tr>\n",
       "</table>\n",
       "<table class=\"simpletable\">\n",
       "<tr>\n",
       "  <th>Omnibus:</th>       <td> 7.978</td> <th>  Durbin-Watson:     </th> <td>   1.955</td>\n",
       "</tr>\n",
       "<tr>\n",
       "  <th>Prob(Omnibus):</th> <td> 0.019</td> <th>  Jarque-Bera (JB):  </th> <td>   7.377</td>\n",
       "</tr>\n",
       "<tr>\n",
       "  <th>Skew:</th>          <td> 0.855</td> <th>  Prob(JB):          </th> <td>  0.0250</td>\n",
       "</tr>\n",
       "<tr>\n",
       "  <th>Kurtosis:</th>      <td> 3.428</td> <th>  Cond. No.          </th> <td>3.66e+04</td>\n",
       "</tr>\n",
       "</table><br/><br/>Notes:<br/>[1] Standard Errors assume that the covariance matrix of the errors is correctly specified.<br/>[2] The condition number is large, 3.66e+04. This might indicate that there are<br/>strong multicollinearity or other numerical problems."
      ],
      "text/plain": [
       "<class 'statsmodels.iolib.summary.Summary'>\n",
       "\"\"\"\n",
       "                            OLS Regression Results                            \n",
       "==============================================================================\n",
       "Dep. Variable:             total_area   R-squared:                       0.178\n",
       "Model:                            OLS   Adj. R-squared:                  0.163\n",
       "Method:                 Least Squares   F-statistic:                     11.87\n",
       "Date:                Mon, 18 Oct 2021   Prob (F-statistic):            0.00110\n",
       "Time:                        10:38:53   Log-Likelihood:                -900.94\n",
       "No. Observations:                  57   AIC:                             1806.\n",
       "Df Residuals:                      55   BIC:                             1810.\n",
       "Df Model:                           1                                         \n",
       "Covariance Type:            nonrobust                                         \n",
       "========================================================================================\n",
       "                           coef    std err          t      P>|t|      [0.025      0.975]\n",
       "----------------------------------------------------------------------------------------\n",
       "Intercept             4.871e+06   6.38e+05      7.631      0.000    3.59e+06    6.15e+06\n",
       "distance_to_centroid  -160.4272     46.558     -3.446      0.001    -253.732     -67.123\n",
       "==============================================================================\n",
       "Omnibus:                        7.978   Durbin-Watson:                   1.955\n",
       "Prob(Omnibus):                  0.019   Jarque-Bera (JB):                7.377\n",
       "Skew:                           0.855   Prob(JB):                       0.0250\n",
       "Kurtosis:                       3.428   Cond. No.                     3.66e+04\n",
       "==============================================================================\n",
       "\n",
       "Notes:\n",
       "[1] Standard Errors assume that the covariance matrix of the errors is correctly specified.\n",
       "[2] The condition number is large, 3.66e+04. This might indicate that there are\n",
       "strong multicollinearity or other numerical problems.\n",
       "\"\"\""
      ]
     },
     "execution_count": 24,
     "metadata": {},
     "output_type": "execute_result"
    }
   ],
   "source": [
    "from statsmodels.formula.api import ols\n",
    "\n",
    "fit = ols('total_area ~ distance_to_centroid', data=final_df).fit() \n",
    "\n",
    "fit.summary()"
   ]
  },
  {
   "cell_type": "code",
   "execution_count": 30,
   "id": "31474d03",
   "metadata": {},
   "outputs": [
    {
     "name": "stdout",
     "output_type": "stream",
     "text": [
      "Processing Köln, 0.0% completed!\n",
      "Processing Frankfurt am Main, 0.79% completed!\n"
     ]
    },
    {
     "ename": "KeyboardInterrupt",
     "evalue": "",
     "output_type": "error",
     "traceback": [
      "\u001b[1;31m---------------------------------------------------------------------------\u001b[0m",
      "\u001b[1;31mKeyboardInterrupt\u001b[0m                         Traceback (most recent call last)",
      "\u001b[1;32m<ipython-input-30-cdc49da983f0>\u001b[0m in \u001b[0;36m<module>\u001b[1;34m\u001b[0m\n\u001b[0;32m     23\u001b[0m     \u001b[0mcoordinates_gpd\u001b[0m \u001b[1;33m=\u001b[0m \u001b[0mgpd\u001b[0m\u001b[1;33m.\u001b[0m\u001b[0mGeoDataFrame\u001b[0m\u001b[1;33m(\u001b[0m\u001b[0mgdf_points\u001b[0m\u001b[1;33m)\u001b[0m\u001b[1;33m\u001b[0m\u001b[1;33m\u001b[0m\u001b[0m\n\u001b[0;32m     24\u001b[0m \u001b[1;33m\u001b[0m\u001b[0m\n\u001b[1;32m---> 25\u001b[1;33m     final_df = get_isochrone(coordinates_gpd=coordinates_gpd,\n\u001b[0m\u001b[0;32m     26\u001b[0m                         \u001b[0mparam_info\u001b[0m\u001b[1;33m=\u001b[0m\u001b[0mparam_info\u001b[0m\u001b[1;33m,\u001b[0m\u001b[1;33m\u001b[0m\u001b[1;33m\u001b[0m\u001b[0m\n\u001b[0;32m     27\u001b[0m                         city=sub_city)\n",
      "\u001b[1;32m<ipython-input-20-1781f3fb5148>\u001b[0m in \u001b[0;36mget_isochrone\u001b[1;34m(coordinates_gpd, param_info, city)\u001b[0m\n\u001b[0;32m     26\u001b[0m         \u001b[0mheaders\u001b[0m\u001b[1;33m[\u001b[0m\u001b[1;34m\"Accept\"\u001b[0m\u001b[1;33m]\u001b[0m \u001b[1;33m=\u001b[0m \u001b[1;34m\"application/json\"\u001b[0m\u001b[1;33m\u001b[0m\u001b[1;33m\u001b[0m\u001b[0m\n\u001b[0;32m     27\u001b[0m \u001b[1;33m\u001b[0m\u001b[0m\n\u001b[1;32m---> 28\u001b[1;33m         \u001b[0mresp\u001b[0m \u001b[1;33m=\u001b[0m \u001b[0mrequests\u001b[0m\u001b[1;33m.\u001b[0m\u001b[0mget\u001b[0m\u001b[1;33m(\u001b[0m\u001b[0murl\u001b[0m\u001b[1;33m,\u001b[0m \u001b[0mheaders\u001b[0m\u001b[1;33m=\u001b[0m\u001b[0mheaders\u001b[0m\u001b[1;33m)\u001b[0m\u001b[1;33m\u001b[0m\u001b[1;33m\u001b[0m\u001b[0m\n\u001b[0m\u001b[0;32m     29\u001b[0m \u001b[1;33m\u001b[0m\u001b[0m\n\u001b[0;32m     30\u001b[0m         \u001b[1;32mif\u001b[0m \u001b[0mresp\u001b[0m\u001b[1;33m.\u001b[0m\u001b[0mstatus_code\u001b[0m \u001b[1;33m==\u001b[0m \u001b[1;36m200\u001b[0m\u001b[1;33m:\u001b[0m\u001b[1;33m\u001b[0m\u001b[1;33m\u001b[0m\u001b[0m\n",
      "\u001b[1;32m~\\Anaconda3\\lib\\site-packages\\requests\\api.py\u001b[0m in \u001b[0;36mget\u001b[1;34m(url, params, **kwargs)\u001b[0m\n\u001b[0;32m     74\u001b[0m \u001b[1;33m\u001b[0m\u001b[0m\n\u001b[0;32m     75\u001b[0m     \u001b[0mkwargs\u001b[0m\u001b[1;33m.\u001b[0m\u001b[0msetdefault\u001b[0m\u001b[1;33m(\u001b[0m\u001b[1;34m'allow_redirects'\u001b[0m\u001b[1;33m,\u001b[0m \u001b[1;32mTrue\u001b[0m\u001b[1;33m)\u001b[0m\u001b[1;33m\u001b[0m\u001b[1;33m\u001b[0m\u001b[0m\n\u001b[1;32m---> 76\u001b[1;33m     \u001b[1;32mreturn\u001b[0m \u001b[0mrequest\u001b[0m\u001b[1;33m(\u001b[0m\u001b[1;34m'get'\u001b[0m\u001b[1;33m,\u001b[0m \u001b[0murl\u001b[0m\u001b[1;33m,\u001b[0m \u001b[0mparams\u001b[0m\u001b[1;33m=\u001b[0m\u001b[0mparams\u001b[0m\u001b[1;33m,\u001b[0m \u001b[1;33m**\u001b[0m\u001b[0mkwargs\u001b[0m\u001b[1;33m)\u001b[0m\u001b[1;33m\u001b[0m\u001b[1;33m\u001b[0m\u001b[0m\n\u001b[0m\u001b[0;32m     77\u001b[0m \u001b[1;33m\u001b[0m\u001b[0m\n\u001b[0;32m     78\u001b[0m \u001b[1;33m\u001b[0m\u001b[0m\n",
      "\u001b[1;32m~\\Anaconda3\\lib\\site-packages\\requests\\api.py\u001b[0m in \u001b[0;36mrequest\u001b[1;34m(method, url, **kwargs)\u001b[0m\n\u001b[0;32m     59\u001b[0m     \u001b[1;31m# cases, and look like a memory leak in others.\u001b[0m\u001b[1;33m\u001b[0m\u001b[1;33m\u001b[0m\u001b[1;33m\u001b[0m\u001b[0m\n\u001b[0;32m     60\u001b[0m     \u001b[1;32mwith\u001b[0m \u001b[0msessions\u001b[0m\u001b[1;33m.\u001b[0m\u001b[0mSession\u001b[0m\u001b[1;33m(\u001b[0m\u001b[1;33m)\u001b[0m \u001b[1;32mas\u001b[0m \u001b[0msession\u001b[0m\u001b[1;33m:\u001b[0m\u001b[1;33m\u001b[0m\u001b[1;33m\u001b[0m\u001b[0m\n\u001b[1;32m---> 61\u001b[1;33m         \u001b[1;32mreturn\u001b[0m \u001b[0msession\u001b[0m\u001b[1;33m.\u001b[0m\u001b[0mrequest\u001b[0m\u001b[1;33m(\u001b[0m\u001b[0mmethod\u001b[0m\u001b[1;33m=\u001b[0m\u001b[0mmethod\u001b[0m\u001b[1;33m,\u001b[0m \u001b[0murl\u001b[0m\u001b[1;33m=\u001b[0m\u001b[0murl\u001b[0m\u001b[1;33m,\u001b[0m \u001b[1;33m**\u001b[0m\u001b[0mkwargs\u001b[0m\u001b[1;33m)\u001b[0m\u001b[1;33m\u001b[0m\u001b[1;33m\u001b[0m\u001b[0m\n\u001b[0m\u001b[0;32m     62\u001b[0m \u001b[1;33m\u001b[0m\u001b[0m\n\u001b[0;32m     63\u001b[0m \u001b[1;33m\u001b[0m\u001b[0m\n",
      "\u001b[1;32m~\\Anaconda3\\lib\\site-packages\\requests\\sessions.py\u001b[0m in \u001b[0;36mrequest\u001b[1;34m(self, method, url, params, data, headers, cookies, files, auth, timeout, allow_redirects, proxies, hooks, stream, verify, cert, json)\u001b[0m\n\u001b[0;32m    540\u001b[0m         }\n\u001b[0;32m    541\u001b[0m         \u001b[0msend_kwargs\u001b[0m\u001b[1;33m.\u001b[0m\u001b[0mupdate\u001b[0m\u001b[1;33m(\u001b[0m\u001b[0msettings\u001b[0m\u001b[1;33m)\u001b[0m\u001b[1;33m\u001b[0m\u001b[1;33m\u001b[0m\u001b[0m\n\u001b[1;32m--> 542\u001b[1;33m         \u001b[0mresp\u001b[0m \u001b[1;33m=\u001b[0m \u001b[0mself\u001b[0m\u001b[1;33m.\u001b[0m\u001b[0msend\u001b[0m\u001b[1;33m(\u001b[0m\u001b[0mprep\u001b[0m\u001b[1;33m,\u001b[0m \u001b[1;33m**\u001b[0m\u001b[0msend_kwargs\u001b[0m\u001b[1;33m)\u001b[0m\u001b[1;33m\u001b[0m\u001b[1;33m\u001b[0m\u001b[0m\n\u001b[0m\u001b[0;32m    543\u001b[0m \u001b[1;33m\u001b[0m\u001b[0m\n\u001b[0;32m    544\u001b[0m         \u001b[1;32mreturn\u001b[0m \u001b[0mresp\u001b[0m\u001b[1;33m\u001b[0m\u001b[1;33m\u001b[0m\u001b[0m\n",
      "\u001b[1;32m~\\Anaconda3\\lib\\site-packages\\requests\\sessions.py\u001b[0m in \u001b[0;36msend\u001b[1;34m(self, request, **kwargs)\u001b[0m\n\u001b[0;32m    695\u001b[0m \u001b[1;33m\u001b[0m\u001b[0m\n\u001b[0;32m    696\u001b[0m         \u001b[1;32mif\u001b[0m \u001b[1;32mnot\u001b[0m \u001b[0mstream\u001b[0m\u001b[1;33m:\u001b[0m\u001b[1;33m\u001b[0m\u001b[1;33m\u001b[0m\u001b[0m\n\u001b[1;32m--> 697\u001b[1;33m             \u001b[0mr\u001b[0m\u001b[1;33m.\u001b[0m\u001b[0mcontent\u001b[0m\u001b[1;33m\u001b[0m\u001b[1;33m\u001b[0m\u001b[0m\n\u001b[0m\u001b[0;32m    698\u001b[0m \u001b[1;33m\u001b[0m\u001b[0m\n\u001b[0;32m    699\u001b[0m         \u001b[1;32mreturn\u001b[0m \u001b[0mr\u001b[0m\u001b[1;33m\u001b[0m\u001b[1;33m\u001b[0m\u001b[0m\n",
      "\u001b[1;32m~\\Anaconda3\\lib\\site-packages\\requests\\models.py\u001b[0m in \u001b[0;36mcontent\u001b[1;34m(self)\u001b[0m\n\u001b[0;32m    829\u001b[0m                 \u001b[0mself\u001b[0m\u001b[1;33m.\u001b[0m\u001b[0m_content\u001b[0m \u001b[1;33m=\u001b[0m \u001b[1;32mNone\u001b[0m\u001b[1;33m\u001b[0m\u001b[1;33m\u001b[0m\u001b[0m\n\u001b[0;32m    830\u001b[0m             \u001b[1;32melse\u001b[0m\u001b[1;33m:\u001b[0m\u001b[1;33m\u001b[0m\u001b[1;33m\u001b[0m\u001b[0m\n\u001b[1;32m--> 831\u001b[1;33m                 \u001b[0mself\u001b[0m\u001b[1;33m.\u001b[0m\u001b[0m_content\u001b[0m \u001b[1;33m=\u001b[0m \u001b[1;34mb''\u001b[0m\u001b[1;33m.\u001b[0m\u001b[0mjoin\u001b[0m\u001b[1;33m(\u001b[0m\u001b[0mself\u001b[0m\u001b[1;33m.\u001b[0m\u001b[0miter_content\u001b[0m\u001b[1;33m(\u001b[0m\u001b[0mCONTENT_CHUNK_SIZE\u001b[0m\u001b[1;33m)\u001b[0m\u001b[1;33m)\u001b[0m \u001b[1;32mor\u001b[0m \u001b[1;34mb''\u001b[0m\u001b[1;33m\u001b[0m\u001b[1;33m\u001b[0m\u001b[0m\n\u001b[0m\u001b[0;32m    832\u001b[0m \u001b[1;33m\u001b[0m\u001b[0m\n\u001b[0;32m    833\u001b[0m         \u001b[0mself\u001b[0m\u001b[1;33m.\u001b[0m\u001b[0m_content_consumed\u001b[0m \u001b[1;33m=\u001b[0m \u001b[1;32mTrue\u001b[0m\u001b[1;33m\u001b[0m\u001b[1;33m\u001b[0m\u001b[0m\n",
      "\u001b[1;32m~\\Anaconda3\\lib\\site-packages\\requests\\models.py\u001b[0m in \u001b[0;36mgenerate\u001b[1;34m()\u001b[0m\n\u001b[0;32m    751\u001b[0m             \u001b[1;32mif\u001b[0m \u001b[0mhasattr\u001b[0m\u001b[1;33m(\u001b[0m\u001b[0mself\u001b[0m\u001b[1;33m.\u001b[0m\u001b[0mraw\u001b[0m\u001b[1;33m,\u001b[0m \u001b[1;34m'stream'\u001b[0m\u001b[1;33m)\u001b[0m\u001b[1;33m:\u001b[0m\u001b[1;33m\u001b[0m\u001b[1;33m\u001b[0m\u001b[0m\n\u001b[0;32m    752\u001b[0m                 \u001b[1;32mtry\u001b[0m\u001b[1;33m:\u001b[0m\u001b[1;33m\u001b[0m\u001b[1;33m\u001b[0m\u001b[0m\n\u001b[1;32m--> 753\u001b[1;33m                     \u001b[1;32mfor\u001b[0m \u001b[0mchunk\u001b[0m \u001b[1;32min\u001b[0m \u001b[0mself\u001b[0m\u001b[1;33m.\u001b[0m\u001b[0mraw\u001b[0m\u001b[1;33m.\u001b[0m\u001b[0mstream\u001b[0m\u001b[1;33m(\u001b[0m\u001b[0mchunk_size\u001b[0m\u001b[1;33m,\u001b[0m \u001b[0mdecode_content\u001b[0m\u001b[1;33m=\u001b[0m\u001b[1;32mTrue\u001b[0m\u001b[1;33m)\u001b[0m\u001b[1;33m:\u001b[0m\u001b[1;33m\u001b[0m\u001b[1;33m\u001b[0m\u001b[0m\n\u001b[0m\u001b[0;32m    754\u001b[0m                         \u001b[1;32myield\u001b[0m \u001b[0mchunk\u001b[0m\u001b[1;33m\u001b[0m\u001b[1;33m\u001b[0m\u001b[0m\n\u001b[0;32m    755\u001b[0m                 \u001b[1;32mexcept\u001b[0m \u001b[0mProtocolError\u001b[0m \u001b[1;32mas\u001b[0m \u001b[0me\u001b[0m\u001b[1;33m:\u001b[0m\u001b[1;33m\u001b[0m\u001b[1;33m\u001b[0m\u001b[0m\n",
      "\u001b[1;32m~\\Anaconda3\\lib\\site-packages\\urllib3\\response.py\u001b[0m in \u001b[0;36mstream\u001b[1;34m(self, amt, decode_content)\u001b[0m\n\u001b[0;32m    570\u001b[0m         \"\"\"\n\u001b[0;32m    571\u001b[0m         \u001b[1;32mif\u001b[0m \u001b[0mself\u001b[0m\u001b[1;33m.\u001b[0m\u001b[0mchunked\u001b[0m \u001b[1;32mand\u001b[0m \u001b[0mself\u001b[0m\u001b[1;33m.\u001b[0m\u001b[0msupports_chunked_reads\u001b[0m\u001b[1;33m(\u001b[0m\u001b[1;33m)\u001b[0m\u001b[1;33m:\u001b[0m\u001b[1;33m\u001b[0m\u001b[1;33m\u001b[0m\u001b[0m\n\u001b[1;32m--> 572\u001b[1;33m             \u001b[1;32mfor\u001b[0m \u001b[0mline\u001b[0m \u001b[1;32min\u001b[0m \u001b[0mself\u001b[0m\u001b[1;33m.\u001b[0m\u001b[0mread_chunked\u001b[0m\u001b[1;33m(\u001b[0m\u001b[0mamt\u001b[0m\u001b[1;33m,\u001b[0m \u001b[0mdecode_content\u001b[0m\u001b[1;33m=\u001b[0m\u001b[0mdecode_content\u001b[0m\u001b[1;33m)\u001b[0m\u001b[1;33m:\u001b[0m\u001b[1;33m\u001b[0m\u001b[1;33m\u001b[0m\u001b[0m\n\u001b[0m\u001b[0;32m    573\u001b[0m                 \u001b[1;32myield\u001b[0m \u001b[0mline\u001b[0m\u001b[1;33m\u001b[0m\u001b[1;33m\u001b[0m\u001b[0m\n\u001b[0;32m    574\u001b[0m         \u001b[1;32melse\u001b[0m\u001b[1;33m:\u001b[0m\u001b[1;33m\u001b[0m\u001b[1;33m\u001b[0m\u001b[0m\n",
      "\u001b[1;32m~\\Anaconda3\\lib\\site-packages\\urllib3\\response.py\u001b[0m in \u001b[0;36mread_chunked\u001b[1;34m(self, amt, decode_content)\u001b[0m\n\u001b[0;32m    762\u001b[0m \u001b[1;33m\u001b[0m\u001b[0m\n\u001b[0;32m    763\u001b[0m             \u001b[1;32mwhile\u001b[0m \u001b[1;32mTrue\u001b[0m\u001b[1;33m:\u001b[0m\u001b[1;33m\u001b[0m\u001b[1;33m\u001b[0m\u001b[0m\n\u001b[1;32m--> 764\u001b[1;33m                 \u001b[0mself\u001b[0m\u001b[1;33m.\u001b[0m\u001b[0m_update_chunk_length\u001b[0m\u001b[1;33m(\u001b[0m\u001b[1;33m)\u001b[0m\u001b[1;33m\u001b[0m\u001b[1;33m\u001b[0m\u001b[0m\n\u001b[0m\u001b[0;32m    765\u001b[0m                 \u001b[1;32mif\u001b[0m \u001b[0mself\u001b[0m\u001b[1;33m.\u001b[0m\u001b[0mchunk_left\u001b[0m \u001b[1;33m==\u001b[0m \u001b[1;36m0\u001b[0m\u001b[1;33m:\u001b[0m\u001b[1;33m\u001b[0m\u001b[1;33m\u001b[0m\u001b[0m\n\u001b[0;32m    766\u001b[0m                     \u001b[1;32mbreak\u001b[0m\u001b[1;33m\u001b[0m\u001b[1;33m\u001b[0m\u001b[0m\n",
      "\u001b[1;32m~\\Anaconda3\\lib\\site-packages\\urllib3\\response.py\u001b[0m in \u001b[0;36m_update_chunk_length\u001b[1;34m(self)\u001b[0m\n\u001b[0;32m    692\u001b[0m         \u001b[1;32mif\u001b[0m \u001b[0mself\u001b[0m\u001b[1;33m.\u001b[0m\u001b[0mchunk_left\u001b[0m \u001b[1;32mis\u001b[0m \u001b[1;32mnot\u001b[0m \u001b[1;32mNone\u001b[0m\u001b[1;33m:\u001b[0m\u001b[1;33m\u001b[0m\u001b[1;33m\u001b[0m\u001b[0m\n\u001b[0;32m    693\u001b[0m             \u001b[1;32mreturn\u001b[0m\u001b[1;33m\u001b[0m\u001b[1;33m\u001b[0m\u001b[0m\n\u001b[1;32m--> 694\u001b[1;33m         \u001b[0mline\u001b[0m \u001b[1;33m=\u001b[0m \u001b[0mself\u001b[0m\u001b[1;33m.\u001b[0m\u001b[0m_fp\u001b[0m\u001b[1;33m.\u001b[0m\u001b[0mfp\u001b[0m\u001b[1;33m.\u001b[0m\u001b[0mreadline\u001b[0m\u001b[1;33m(\u001b[0m\u001b[1;33m)\u001b[0m\u001b[1;33m\u001b[0m\u001b[1;33m\u001b[0m\u001b[0m\n\u001b[0m\u001b[0;32m    695\u001b[0m         \u001b[0mline\u001b[0m \u001b[1;33m=\u001b[0m \u001b[0mline\u001b[0m\u001b[1;33m.\u001b[0m\u001b[0msplit\u001b[0m\u001b[1;33m(\u001b[0m\u001b[1;34mb\";\"\u001b[0m\u001b[1;33m,\u001b[0m \u001b[1;36m1\u001b[0m\u001b[1;33m)\u001b[0m\u001b[1;33m[\u001b[0m\u001b[1;36m0\u001b[0m\u001b[1;33m]\u001b[0m\u001b[1;33m\u001b[0m\u001b[1;33m\u001b[0m\u001b[0m\n\u001b[0;32m    696\u001b[0m         \u001b[1;32mtry\u001b[0m\u001b[1;33m:\u001b[0m\u001b[1;33m\u001b[0m\u001b[1;33m\u001b[0m\u001b[0m\n",
      "\u001b[1;32m~\\Anaconda3\\lib\\socket.py\u001b[0m in \u001b[0;36mreadinto\u001b[1;34m(self, b)\u001b[0m\n\u001b[0;32m    667\u001b[0m         \u001b[1;32mwhile\u001b[0m \u001b[1;32mTrue\u001b[0m\u001b[1;33m:\u001b[0m\u001b[1;33m\u001b[0m\u001b[1;33m\u001b[0m\u001b[0m\n\u001b[0;32m    668\u001b[0m             \u001b[1;32mtry\u001b[0m\u001b[1;33m:\u001b[0m\u001b[1;33m\u001b[0m\u001b[1;33m\u001b[0m\u001b[0m\n\u001b[1;32m--> 669\u001b[1;33m                 \u001b[1;32mreturn\u001b[0m \u001b[0mself\u001b[0m\u001b[1;33m.\u001b[0m\u001b[0m_sock\u001b[0m\u001b[1;33m.\u001b[0m\u001b[0mrecv_into\u001b[0m\u001b[1;33m(\u001b[0m\u001b[0mb\u001b[0m\u001b[1;33m)\u001b[0m\u001b[1;33m\u001b[0m\u001b[1;33m\u001b[0m\u001b[0m\n\u001b[0m\u001b[0;32m    670\u001b[0m             \u001b[1;32mexcept\u001b[0m \u001b[0mtimeout\u001b[0m\u001b[1;33m:\u001b[0m\u001b[1;33m\u001b[0m\u001b[1;33m\u001b[0m\u001b[0m\n\u001b[0;32m    671\u001b[0m                 \u001b[0mself\u001b[0m\u001b[1;33m.\u001b[0m\u001b[0m_timeout_occurred\u001b[0m \u001b[1;33m=\u001b[0m \u001b[1;32mTrue\u001b[0m\u001b[1;33m\u001b[0m\u001b[1;33m\u001b[0m\u001b[0m\n",
      "\u001b[1;32m~\\Anaconda3\\lib\\ssl.py\u001b[0m in \u001b[0;36mrecv_into\u001b[1;34m(self, buffer, nbytes, flags)\u001b[0m\n\u001b[0;32m   1239\u001b[0m                   \u001b[1;34m\"non-zero flags not allowed in calls to recv_into() on %s\"\u001b[0m \u001b[1;33m%\u001b[0m\u001b[1;33m\u001b[0m\u001b[1;33m\u001b[0m\u001b[0m\n\u001b[0;32m   1240\u001b[0m                   self.__class__)\n\u001b[1;32m-> 1241\u001b[1;33m             \u001b[1;32mreturn\u001b[0m \u001b[0mself\u001b[0m\u001b[1;33m.\u001b[0m\u001b[0mread\u001b[0m\u001b[1;33m(\u001b[0m\u001b[0mnbytes\u001b[0m\u001b[1;33m,\u001b[0m \u001b[0mbuffer\u001b[0m\u001b[1;33m)\u001b[0m\u001b[1;33m\u001b[0m\u001b[1;33m\u001b[0m\u001b[0m\n\u001b[0m\u001b[0;32m   1242\u001b[0m         \u001b[1;32melse\u001b[0m\u001b[1;33m:\u001b[0m\u001b[1;33m\u001b[0m\u001b[1;33m\u001b[0m\u001b[0m\n\u001b[0;32m   1243\u001b[0m             \u001b[1;32mreturn\u001b[0m \u001b[0msuper\u001b[0m\u001b[1;33m(\u001b[0m\u001b[1;33m)\u001b[0m\u001b[1;33m.\u001b[0m\u001b[0mrecv_into\u001b[0m\u001b[1;33m(\u001b[0m\u001b[0mbuffer\u001b[0m\u001b[1;33m,\u001b[0m \u001b[0mnbytes\u001b[0m\u001b[1;33m,\u001b[0m \u001b[0mflags\u001b[0m\u001b[1;33m)\u001b[0m\u001b[1;33m\u001b[0m\u001b[1;33m\u001b[0m\u001b[0m\n",
      "\u001b[1;32m~\\Anaconda3\\lib\\ssl.py\u001b[0m in \u001b[0;36mread\u001b[1;34m(self, len, buffer)\u001b[0m\n\u001b[0;32m   1097\u001b[0m         \u001b[1;32mtry\u001b[0m\u001b[1;33m:\u001b[0m\u001b[1;33m\u001b[0m\u001b[1;33m\u001b[0m\u001b[0m\n\u001b[0;32m   1098\u001b[0m             \u001b[1;32mif\u001b[0m \u001b[0mbuffer\u001b[0m \u001b[1;32mis\u001b[0m \u001b[1;32mnot\u001b[0m \u001b[1;32mNone\u001b[0m\u001b[1;33m:\u001b[0m\u001b[1;33m\u001b[0m\u001b[1;33m\u001b[0m\u001b[0m\n\u001b[1;32m-> 1099\u001b[1;33m                 \u001b[1;32mreturn\u001b[0m \u001b[0mself\u001b[0m\u001b[1;33m.\u001b[0m\u001b[0m_sslobj\u001b[0m\u001b[1;33m.\u001b[0m\u001b[0mread\u001b[0m\u001b[1;33m(\u001b[0m\u001b[0mlen\u001b[0m\u001b[1;33m,\u001b[0m \u001b[0mbuffer\u001b[0m\u001b[1;33m)\u001b[0m\u001b[1;33m\u001b[0m\u001b[1;33m\u001b[0m\u001b[0m\n\u001b[0m\u001b[0;32m   1100\u001b[0m             \u001b[1;32melse\u001b[0m\u001b[1;33m:\u001b[0m\u001b[1;33m\u001b[0m\u001b[1;33m\u001b[0m\u001b[0m\n\u001b[0;32m   1101\u001b[0m                 \u001b[1;32mreturn\u001b[0m \u001b[0mself\u001b[0m\u001b[1;33m.\u001b[0m\u001b[0m_sslobj\u001b[0m\u001b[1;33m.\u001b[0m\u001b[0mread\u001b[0m\u001b[1;33m(\u001b[0m\u001b[0mlen\u001b[0m\u001b[1;33m)\u001b[0m\u001b[1;33m\u001b[0m\u001b[1;33m\u001b[0m\u001b[0m\n",
      "\u001b[1;31mKeyboardInterrupt\u001b[0m: "
     ]
    }
   ],
   "source": [
    "cities = df['URAU_NAME'].unique()\n",
    "\n",
    "df_list = []\n",
    "\n",
    "for idx, city in enumerate(cities):\n",
    "    \n",
    "    sub_city = df[df['URAU_NAME'] == city]\n",
    "    \n",
    "    print(\"Processing \" + city + \", \" + str(round((idx/len(cities))*100, 2)) + \"% completed!\")\n",
    "    \n",
    "    x_min, y_min, x_max, y_max = sub_city.total_bounds\n",
    "    \n",
    "    n = 100\n",
    "    # generate random data within the bounds\n",
    "    np.random.seed(0) \n",
    "    x = np.random.uniform(x_min, x_max, n)\n",
    "    y = np.random.uniform(y_min, y_max, n)\n",
    "    \n",
    "    gdf_points = gpd.GeoSeries(gpd.points_from_xy(x, y))\n",
    "    \n",
    "    gdf_points = gdf_points[gdf_points.within(sub_city.unary_union)]\n",
    "        \n",
    "    coordinates_gpd = gpd.GeoDataFrame(gdf_points)\n",
    "    \n",
    "    final_df = get_isochrone(coordinates_gpd=coordinates_gpd,\n",
    "                        param_info=param_info,\n",
    "                        city=sub_city)\n",
    "    \n",
    "    final_df['city'] = city\n",
    "    \n",
    "    df_list.append(final_df)  "
   ]
  },
  {
   "cell_type": "code",
   "execution_count": 235,
   "id": "32e8f2e2",
   "metadata": {},
   "outputs": [
    {
     "name": "stdout",
     "output_type": "stream",
     "text": [
      "Köln\n"
     ]
    },
    {
     "data": {
      "text/html": [
       "<table class=\"simpletable\">\n",
       "<caption>OLS Regression Results</caption>\n",
       "<tr>\n",
       "  <th>Dep. Variable:</th>       <td>total_area</td>    <th>  R-squared:         </th> <td>   0.153</td>\n",
       "</tr>\n",
       "<tr>\n",
       "  <th>Model:</th>                   <td>OLS</td>       <th>  Adj. R-squared:    </th> <td>   0.136</td>\n",
       "</tr>\n",
       "<tr>\n",
       "  <th>Method:</th>             <td>Least Squares</td>  <th>  F-statistic:       </th> <td>   9.006</td>\n",
       "</tr>\n",
       "<tr>\n",
       "  <th>Date:</th>             <td>Thu, 14 Oct 2021</td> <th>  Prob (F-statistic):</th>  <td>0.00419</td>\n",
       "</tr>\n",
       "<tr>\n",
       "  <th>Time:</th>                 <td>16:10:21</td>     <th>  Log-Likelihood:    </th> <td> -801.21</td>\n",
       "</tr>\n",
       "<tr>\n",
       "  <th>No. Observations:</th>      <td>    52</td>      <th>  AIC:               </th> <td>   1606.</td>\n",
       "</tr>\n",
       "<tr>\n",
       "  <th>Df Residuals:</th>          <td>    50</td>      <th>  BIC:               </th> <td>   1610.</td>\n",
       "</tr>\n",
       "<tr>\n",
       "  <th>Df Model:</th>              <td>     1</td>      <th>                     </th>     <td> </td>   \n",
       "</tr>\n",
       "<tr>\n",
       "  <th>Covariance Type:</th>      <td>nonrobust</td>    <th>                     </th>     <td> </td>   \n",
       "</tr>\n",
       "</table>\n",
       "<table class=\"simpletable\">\n",
       "<tr>\n",
       "            <td></td>              <th>coef</th>     <th>std err</th>      <th>t</th>      <th>P>|t|</th>  <th>[0.025</th>    <th>0.975]</th>  \n",
       "</tr>\n",
       "<tr>\n",
       "  <th>Intercept</th>            <td> 3.275e+06</td> <td> 4.24e+05</td> <td>    7.718</td> <td> 0.000</td> <td> 2.42e+06</td> <td> 4.13e+06</td>\n",
       "</tr>\n",
       "<tr>\n",
       "  <th>distance_to_centroid</th> <td> -140.6384</td> <td>   46.865</td> <td>   -3.001</td> <td> 0.004</td> <td> -234.769</td> <td>  -46.508</td>\n",
       "</tr>\n",
       "</table>\n",
       "<table class=\"simpletable\">\n",
       "<tr>\n",
       "  <th>Omnibus:</th>       <td>10.678</td> <th>  Durbin-Watson:     </th> <td>   1.752</td>\n",
       "</tr>\n",
       "<tr>\n",
       "  <th>Prob(Omnibus):</th> <td> 0.005</td> <th>  Jarque-Bera (JB):  </th> <td>  10.535</td>\n",
       "</tr>\n",
       "<tr>\n",
       "  <th>Skew:</th>          <td> 1.056</td> <th>  Prob(JB):          </th> <td> 0.00516</td>\n",
       "</tr>\n",
       "<tr>\n",
       "  <th>Kurtosis:</th>      <td> 3.637</td> <th>  Cond. No.          </th> <td>2.28e+04</td>\n",
       "</tr>\n",
       "</table><br/><br/>Notes:<br/>[1] Standard Errors assume that the covariance matrix of the errors is correctly specified.<br/>[2] The condition number is large, 2.28e+04. This might indicate that there are<br/>strong multicollinearity or other numerical problems."
      ],
      "text/plain": [
       "<class 'statsmodels.iolib.summary.Summary'>\n",
       "\"\"\"\n",
       "                            OLS Regression Results                            \n",
       "==============================================================================\n",
       "Dep. Variable:             total_area   R-squared:                       0.153\n",
       "Model:                            OLS   Adj. R-squared:                  0.136\n",
       "Method:                 Least Squares   F-statistic:                     9.006\n",
       "Date:                Thu, 14 Oct 2021   Prob (F-statistic):            0.00419\n",
       "Time:                        16:10:21   Log-Likelihood:                -801.21\n",
       "No. Observations:                  52   AIC:                             1606.\n",
       "Df Residuals:                      50   BIC:                             1610.\n",
       "Df Model:                           1                                         \n",
       "Covariance Type:            nonrobust                                         \n",
       "========================================================================================\n",
       "                           coef    std err          t      P>|t|      [0.025      0.975]\n",
       "----------------------------------------------------------------------------------------\n",
       "Intercept             3.275e+06   4.24e+05      7.718      0.000    2.42e+06    4.13e+06\n",
       "distance_to_centroid  -140.6384     46.865     -3.001      0.004    -234.769     -46.508\n",
       "==============================================================================\n",
       "Omnibus:                       10.678   Durbin-Watson:                   1.752\n",
       "Prob(Omnibus):                  0.005   Jarque-Bera (JB):               10.535\n",
       "Skew:                           1.056   Prob(JB):                      0.00516\n",
       "Kurtosis:                       3.637   Cond. No.                     2.28e+04\n",
       "==============================================================================\n",
       "\n",
       "Notes:\n",
       "[1] Standard Errors assume that the covariance matrix of the errors is correctly specified.\n",
       "[2] The condition number is large, 2.28e+04. This might indicate that there are\n",
       "strong multicollinearity or other numerical problems.\n",
       "\"\"\""
      ]
     },
     "execution_count": 235,
     "metadata": {},
     "output_type": "execute_result"
    },
    {
     "data": {
      "image/png": "[encoded data removed]",
      "text/plain": [
       "<Figure size 432x288 with 1 Axes>"
      ]
     },
     "metadata": {
      "needs_background": "light"
     },
     "output_type": "display_data"
    }
   ],
   "source": [
    "city_id = 0\n",
    "df_list[city_id].plot.scatter(x = 'distance_to_centroid', y = 'total_area')\n",
    "fit = ols('total_area ~ distance_to_centroid', data=df_list[city_id]).fit()\n",
    "print(list(set(df_list[city_id]['city']))[0])\n",
    "fit.summary()"
   ]
  },
  {
   "cell_type": "code",
   "execution_count": 216,
   "id": "a5cc8bfd",
   "metadata": {},
   "outputs": [
    {
     "name": "stdout",
     "output_type": "stream",
     "text": [
      "Frankfurt am Main\n"
     ]
    },
    {
     "data": {
      "text/html": [
       "<table class=\"simpletable\">\n",
       "<caption>OLS Regression Results</caption>\n",
       "<tr>\n",
       "  <th>Dep. Variable:</th>       <td>total_area</td>    <th>  R-squared:         </th> <td>   0.192</td>\n",
       "</tr>\n",
       "<tr>\n",
       "  <th>Model:</th>                   <td>OLS</td>       <th>  Adj. R-squared:    </th> <td>   0.175</td>\n",
       "</tr>\n",
       "<tr>\n",
       "  <th>Method:</th>             <td>Least Squares</td>  <th>  F-statistic:       </th> <td>   10.94</td>\n",
       "</tr>\n",
       "<tr>\n",
       "  <th>Date:</th>             <td>Thu, 14 Oct 2021</td> <th>  Prob (F-statistic):</th>  <td>0.00183</td>\n",
       "</tr>\n",
       "<tr>\n",
       "  <th>Time:</th>                 <td>15:16:25</td>     <th>  Log-Likelihood:    </th> <td> -760.23</td>\n",
       "</tr>\n",
       "<tr>\n",
       "  <th>No. Observations:</th>      <td>    48</td>      <th>  AIC:               </th> <td>   1524.</td>\n",
       "</tr>\n",
       "<tr>\n",
       "  <th>Df Residuals:</th>          <td>    46</td>      <th>  BIC:               </th> <td>   1528.</td>\n",
       "</tr>\n",
       "<tr>\n",
       "  <th>Df Model:</th>              <td>     1</td>      <th>                     </th>     <td> </td>   \n",
       "</tr>\n",
       "<tr>\n",
       "  <th>Covariance Type:</th>      <td>nonrobust</td>    <th>                     </th>     <td> </td>   \n",
       "</tr>\n",
       "</table>\n",
       "<table class=\"simpletable\">\n",
       "<tr>\n",
       "            <td></td>              <th>coef</th>     <th>std err</th>      <th>t</th>      <th>P>|t|</th>  <th>[0.025</th>    <th>0.975]</th>  \n",
       "</tr>\n",
       "<tr>\n",
       "  <th>Intercept</th>            <td> 5.096e+06</td> <td> 6.99e+05</td> <td>    7.294</td> <td> 0.000</td> <td> 3.69e+06</td> <td>  6.5e+06</td>\n",
       "</tr>\n",
       "<tr>\n",
       "  <th>distance_to_centroid</th> <td> -317.8210</td> <td>   96.099</td> <td>   -3.307</td> <td> 0.002</td> <td> -511.259</td> <td> -124.383</td>\n",
       "</tr>\n",
       "</table>\n",
       "<table class=\"simpletable\">\n",
       "<tr>\n",
       "  <th>Omnibus:</th>       <td> 5.416</td> <th>  Durbin-Watson:     </th> <td>   2.093</td>\n",
       "</tr>\n",
       "<tr>\n",
       "  <th>Prob(Omnibus):</th> <td> 0.067</td> <th>  Jarque-Bera (JB):  </th> <td>   5.202</td>\n",
       "</tr>\n",
       "<tr>\n",
       "  <th>Skew:</th>          <td> 0.802</td> <th>  Prob(JB):          </th> <td>  0.0742</td>\n",
       "</tr>\n",
       "<tr>\n",
       "  <th>Kurtosis:</th>      <td> 2.825</td> <th>  Cond. No.          </th> <td>1.88e+04</td>\n",
       "</tr>\n",
       "</table><br/><br/>Notes:<br/>[1] Standard Errors assume that the covariance matrix of the errors is correctly specified.<br/>[2] The condition number is large, 1.88e+04. This might indicate that there are<br/>strong multicollinearity or other numerical problems."
      ],
      "text/plain": [
       "<class 'statsmodels.iolib.summary.Summary'>\n",
       "\"\"\"\n",
       "                            OLS Regression Results                            \n",
       "==============================================================================\n",
       "Dep. Variable:             total_area   R-squared:                       0.192\n",
       "Model:                            OLS   Adj. R-squared:                  0.175\n",
       "Method:                 Least Squares   F-statistic:                     10.94\n",
       "Date:                Thu, 14 Oct 2021   Prob (F-statistic):            0.00183\n",
       "Time:                        15:16:25   Log-Likelihood:                -760.23\n",
       "No. Observations:                  48   AIC:                             1524.\n",
       "Df Residuals:                      46   BIC:                             1528.\n",
       "Df Model:                           1                                         \n",
       "Covariance Type:            nonrobust                                         \n",
       "========================================================================================\n",
       "                           coef    std err          t      P>|t|      [0.025      0.975]\n",
       "----------------------------------------------------------------------------------------\n",
       "Intercept             5.096e+06   6.99e+05      7.294      0.000    3.69e+06     6.5e+06\n",
       "distance_to_centroid  -317.8210     96.099     -3.307      0.002    -511.259    -124.383\n",
       "==============================================================================\n",
       "Omnibus:                        5.416   Durbin-Watson:                   2.093\n",
       "Prob(Omnibus):                  0.067   Jarque-Bera (JB):                5.202\n",
       "Skew:                           0.802   Prob(JB):                       0.0742\n",
       "Kurtosis:                       2.825   Cond. No.                     1.88e+04\n",
       "==============================================================================\n",
       "\n",
       "Notes:\n",
       "[1] Standard Errors assume that the covariance matrix of the errors is correctly specified.\n",
       "[2] The condition number is large, 1.88e+04. This might indicate that there are\n",
       "strong multicollinearity or other numerical problems.\n",
       "\"\"\""
      ]
     },
     "execution_count": 216,
     "metadata": {},
     "output_type": "execute_result"
    },
    {
     "data": {
      "image/png": "[encoded data removed]",
      "text/plain": [
       "<Figure size 432x288 with 1 Axes>"
      ]
     },
     "metadata": {
      "needs_background": "light"
     },
     "output_type": "display_data"
    }
   ],
   "source": [
    "city_id = 1\n",
    "df_list[city_id].plot.scatter(x = 'distance_to_centroid', y = 'total_area')\n",
    "fit = ols('total_area ~ distance_to_centroid', data=df_list[city_id]).fit()\n",
    "print(list(set(df_list[city_id]['city']))[0])\n",
    "fit.summary()"
   ]
  },
  {
   "cell_type": "code",
   "execution_count": 217,
   "id": "abdc7b74",
   "metadata": {},
   "outputs": [
    {
     "name": "stdout",
     "output_type": "stream",
     "text": [
      "Essen\n"
     ]
    },
    {
     "data": {
      "text/html": [
       "<table class=\"simpletable\">\n",
       "<caption>OLS Regression Results</caption>\n",
       "<tr>\n",
       "  <th>Dep. Variable:</th>       <td>total_area</td>    <th>  R-squared:         </th> <td>   0.091</td>\n",
       "</tr>\n",
       "<tr>\n",
       "  <th>Model:</th>                   <td>OLS</td>       <th>  Adj. R-squared:    </th> <td>   0.075</td>\n",
       "</tr>\n",
       "<tr>\n",
       "  <th>Method:</th>             <td>Least Squares</td>  <th>  F-statistic:       </th> <td>   5.590</td>\n",
       "</tr>\n",
       "<tr>\n",
       "  <th>Date:</th>             <td>Thu, 14 Oct 2021</td> <th>  Prob (F-statistic):</th>  <td>0.0216</td> \n",
       "</tr>\n",
       "<tr>\n",
       "  <th>Time:</th>                 <td>15:16:48</td>     <th>  Log-Likelihood:    </th> <td> -922.39</td>\n",
       "</tr>\n",
       "<tr>\n",
       "  <th>No. Observations:</th>      <td>    58</td>      <th>  AIC:               </th> <td>   1849.</td>\n",
       "</tr>\n",
       "<tr>\n",
       "  <th>Df Residuals:</th>          <td>    56</td>      <th>  BIC:               </th> <td>   1853.</td>\n",
       "</tr>\n",
       "<tr>\n",
       "  <th>Df Model:</th>              <td>     1</td>      <th>                     </th>     <td> </td>   \n",
       "</tr>\n",
       "<tr>\n",
       "  <th>Covariance Type:</th>      <td>nonrobust</td>    <th>                     </th>     <td> </td>   \n",
       "</tr>\n",
       "</table>\n",
       "<table class=\"simpletable\">\n",
       "<tr>\n",
       "            <td></td>              <th>coef</th>     <th>std err</th>      <th>t</th>      <th>P>|t|</th>  <th>[0.025</th>    <th>0.975]</th>  \n",
       "</tr>\n",
       "<tr>\n",
       "  <th>Intercept</th>            <td> 4.438e+06</td> <td> 7.41e+05</td> <td>    5.991</td> <td> 0.000</td> <td> 2.95e+06</td> <td> 5.92e+06</td>\n",
       "</tr>\n",
       "<tr>\n",
       "  <th>distance_to_centroid</th> <td> -287.6363</td> <td>  121.655</td> <td>   -2.364</td> <td> 0.022</td> <td> -531.340</td> <td>  -43.933</td>\n",
       "</tr>\n",
       "</table>\n",
       "<table class=\"simpletable\">\n",
       "<tr>\n",
       "  <th>Omnibus:</th>       <td>15.415</td> <th>  Durbin-Watson:     </th> <td>   2.128</td>\n",
       "</tr>\n",
       "<tr>\n",
       "  <th>Prob(Omnibus):</th> <td> 0.000</td> <th>  Jarque-Bera (JB):  </th> <td>  17.519</td>\n",
       "</tr>\n",
       "<tr>\n",
       "  <th>Skew:</th>          <td> 1.160</td> <th>  Prob(JB):          </th> <td>0.000157</td>\n",
       "</tr>\n",
       "<tr>\n",
       "  <th>Kurtosis:</th>      <td> 4.365</td> <th>  Cond. No.          </th> <td>1.73e+04</td>\n",
       "</tr>\n",
       "</table><br/><br/>Notes:<br/>[1] Standard Errors assume that the covariance matrix of the errors is correctly specified.<br/>[2] The condition number is large, 1.73e+04. This might indicate that there are<br/>strong multicollinearity or other numerical problems."
      ],
      "text/plain": [
       "<class 'statsmodels.iolib.summary.Summary'>\n",
       "\"\"\"\n",
       "                            OLS Regression Results                            \n",
       "==============================================================================\n",
       "Dep. Variable:             total_area   R-squared:                       0.091\n",
       "Model:                            OLS   Adj. R-squared:                  0.075\n",
       "Method:                 Least Squares   F-statistic:                     5.590\n",
       "Date:                Thu, 14 Oct 2021   Prob (F-statistic):             0.0216\n",
       "Time:                        15:16:48   Log-Likelihood:                -922.39\n",
       "No. Observations:                  58   AIC:                             1849.\n",
       "Df Residuals:                      56   BIC:                             1853.\n",
       "Df Model:                           1                                         \n",
       "Covariance Type:            nonrobust                                         \n",
       "========================================================================================\n",
       "                           coef    std err          t      P>|t|      [0.025      0.975]\n",
       "----------------------------------------------------------------------------------------\n",
       "Intercept             4.438e+06   7.41e+05      5.991      0.000    2.95e+06    5.92e+06\n",
       "distance_to_centroid  -287.6363    121.655     -2.364      0.022    -531.340     -43.933\n",
       "==============================================================================\n",
       "Omnibus:                       15.415   Durbin-Watson:                   2.128\n",
       "Prob(Omnibus):                  0.000   Jarque-Bera (JB):               17.519\n",
       "Skew:                           1.160   Prob(JB):                     0.000157\n",
       "Kurtosis:                       4.365   Cond. No.                     1.73e+04\n",
       "==============================================================================\n",
       "\n",
       "Notes:\n",
       "[1] Standard Errors assume that the covariance matrix of the errors is correctly specified.\n",
       "[2] The condition number is large, 1.73e+04. This might indicate that there are\n",
       "strong multicollinearity or other numerical problems.\n",
       "\"\"\""
      ]
     },
     "execution_count": 217,
     "metadata": {},
     "output_type": "execute_result"
    },
    {
     "data": {
      "image/png": "[encoded data removed]",
      "text/plain": [
       "<Figure size 432x288 with 1 Axes>"
      ]
     },
     "metadata": {
      "needs_background": "light"
     },
     "output_type": "display_data"
    }
   ],
   "source": [
    "city_id = 2\n",
    "df_list[city_id].plot.scatter(x = 'distance_to_centroid', y = 'total_area')\n",
    "fit = ols('total_area ~ distance_to_centroid', data=df_list[city_id]).fit()\n",
    "print(list(set(df_list[city_id]['city']))[0])\n",
    "fit.summary()"
   ]
  },
  {
   "cell_type": "code",
   "execution_count": 218,
   "id": "10866445",
   "metadata": {},
   "outputs": [
    {
     "name": "stdout",
     "output_type": "stream",
     "text": [
      "Stuttgart\n"
     ]
    },
    {
     "data": {
      "text/html": [
       "<table class=\"simpletable\">\n",
       "<caption>OLS Regression Results</caption>\n",
       "<tr>\n",
       "  <th>Dep. Variable:</th>       <td>total_area</td>    <th>  R-squared:         </th> <td>   0.050</td>\n",
       "</tr>\n",
       "<tr>\n",
       "  <th>Model:</th>                   <td>OLS</td>       <th>  Adj. R-squared:    </th> <td>   0.030</td>\n",
       "</tr>\n",
       "<tr>\n",
       "  <th>Method:</th>             <td>Least Squares</td>  <th>  F-statistic:       </th> <td>   2.467</td>\n",
       "</tr>\n",
       "<tr>\n",
       "  <th>Date:</th>             <td>Thu, 14 Oct 2021</td> <th>  Prob (F-statistic):</th>  <td> 0.123</td> \n",
       "</tr>\n",
       "<tr>\n",
       "  <th>Time:</th>                 <td>15:17:27</td>     <th>  Log-Likelihood:    </th> <td> -782.15</td>\n",
       "</tr>\n",
       "<tr>\n",
       "  <th>No. Observations:</th>      <td>    49</td>      <th>  AIC:               </th> <td>   1568.</td>\n",
       "</tr>\n",
       "<tr>\n",
       "  <th>Df Residuals:</th>          <td>    47</td>      <th>  BIC:               </th> <td>   1572.</td>\n",
       "</tr>\n",
       "<tr>\n",
       "  <th>Df Model:</th>              <td>     1</td>      <th>                     </th>     <td> </td>   \n",
       "</tr>\n",
       "<tr>\n",
       "  <th>Covariance Type:</th>      <td>nonrobust</td>    <th>                     </th>     <td> </td>   \n",
       "</tr>\n",
       "</table>\n",
       "<table class=\"simpletable\">\n",
       "<tr>\n",
       "            <td></td>              <th>coef</th>     <th>std err</th>      <th>t</th>      <th>P>|t|</th>  <th>[0.025</th>    <th>0.975]</th>  \n",
       "</tr>\n",
       "<tr>\n",
       "  <th>Intercept</th>            <td> 4.236e+06</td> <td> 9.16e+05</td> <td>    4.625</td> <td> 0.000</td> <td> 2.39e+06</td> <td> 6.08e+06</td>\n",
       "</tr>\n",
       "<tr>\n",
       "  <th>distance_to_centroid</th> <td> -248.9844</td> <td>  158.513</td> <td>   -1.571</td> <td> 0.123</td> <td> -567.871</td> <td>   69.902</td>\n",
       "</tr>\n",
       "</table>\n",
       "<table class=\"simpletable\">\n",
       "<tr>\n",
       "  <th>Omnibus:</th>       <td>24.771</td> <th>  Durbin-Watson:     </th> <td>   2.175</td>\n",
       "</tr>\n",
       "<tr>\n",
       "  <th>Prob(Omnibus):</th> <td> 0.000</td> <th>  Jarque-Bera (JB):  </th> <td>  38.041</td>\n",
       "</tr>\n",
       "<tr>\n",
       "  <th>Skew:</th>          <td> 1.691</td> <th>  Prob(JB):          </th> <td>5.49e-09</td>\n",
       "</tr>\n",
       "<tr>\n",
       "  <th>Kurtosis:</th>      <td> 5.683</td> <th>  Cond. No.          </th> <td>1.75e+04</td>\n",
       "</tr>\n",
       "</table><br/><br/>Notes:<br/>[1] Standard Errors assume that the covariance matrix of the errors is correctly specified.<br/>[2] The condition number is large, 1.75e+04. This might indicate that there are<br/>strong multicollinearity or other numerical problems."
      ],
      "text/plain": [
       "<class 'statsmodels.iolib.summary.Summary'>\n",
       "\"\"\"\n",
       "                            OLS Regression Results                            \n",
       "==============================================================================\n",
       "Dep. Variable:             total_area   R-squared:                       0.050\n",
       "Model:                            OLS   Adj. R-squared:                  0.030\n",
       "Method:                 Least Squares   F-statistic:                     2.467\n",
       "Date:                Thu, 14 Oct 2021   Prob (F-statistic):              0.123\n",
       "Time:                        15:17:27   Log-Likelihood:                -782.15\n",
       "No. Observations:                  49   AIC:                             1568.\n",
       "Df Residuals:                      47   BIC:                             1572.\n",
       "Df Model:                           1                                         \n",
       "Covariance Type:            nonrobust                                         \n",
       "========================================================================================\n",
       "                           coef    std err          t      P>|t|      [0.025      0.975]\n",
       "----------------------------------------------------------------------------------------\n",
       "Intercept             4.236e+06   9.16e+05      4.625      0.000    2.39e+06    6.08e+06\n",
       "distance_to_centroid  -248.9844    158.513     -1.571      0.123    -567.871      69.902\n",
       "==============================================================================\n",
       "Omnibus:                       24.771   Durbin-Watson:                   2.175\n",
       "Prob(Omnibus):                  0.000   Jarque-Bera (JB):               38.041\n",
       "Skew:                           1.691   Prob(JB):                     5.49e-09\n",
       "Kurtosis:                       5.683   Cond. No.                     1.75e+04\n",
       "==============================================================================\n",
       "\n",
       "Notes:\n",
       "[1] Standard Errors assume that the covariance matrix of the errors is correctly specified.\n",
       "[2] The condition number is large, 1.75e+04. This might indicate that there are\n",
       "strong multicollinearity or other numerical problems.\n",
       "\"\"\""
      ]
     },
     "execution_count": 218,
     "metadata": {},
     "output_type": "execute_result"
    },
    {
     "data": {
      "image/png": "[encoded data removed]",
      "text/plain": [
       "<Figure size 432x288 with 1 Axes>"
      ]
     },
     "metadata": {
      "needs_background": "light"
     },
     "output_type": "display_data"
    }
   ],
   "source": [
    "city_id = 3\n",
    "df_list[city_id].plot.scatter(x = 'distance_to_centroid', y = 'total_area')\n",
    "fit = ols('total_area ~ distance_to_centroid', data=df_list[city_id]).fit()\n",
    "print(list(set(df_list[city_id]['city']))[0])\n",
    "fit.summary()"
   ]
  },
  {
   "cell_type": "code",
   "execution_count": 219,
   "id": "4ba7fd2b",
   "metadata": {},
   "outputs": [
    {
     "name": "stdout",
     "output_type": "stream",
     "text": [
      "Berlin\n"
     ]
    },
    {
     "data": {
      "text/html": [
       "<table class=\"simpletable\">\n",
       "<caption>OLS Regression Results</caption>\n",
       "<tr>\n",
       "  <th>Dep. Variable:</th>       <td>total_area</td>    <th>  R-squared:         </th> <td>   0.178</td>\n",
       "</tr>\n",
       "<tr>\n",
       "  <th>Model:</th>                   <td>OLS</td>       <th>  Adj. R-squared:    </th> <td>   0.163</td>\n",
       "</tr>\n",
       "<tr>\n",
       "  <th>Method:</th>             <td>Least Squares</td>  <th>  F-statistic:       </th> <td>   11.87</td>\n",
       "</tr>\n",
       "<tr>\n",
       "  <th>Date:</th>             <td>Thu, 14 Oct 2021</td> <th>  Prob (F-statistic):</th>  <td>0.00110</td>\n",
       "</tr>\n",
       "<tr>\n",
       "  <th>Time:</th>                 <td>15:17:43</td>     <th>  Log-Likelihood:    </th> <td> -900.94</td>\n",
       "</tr>\n",
       "<tr>\n",
       "  <th>No. Observations:</th>      <td>    57</td>      <th>  AIC:               </th> <td>   1806.</td>\n",
       "</tr>\n",
       "<tr>\n",
       "  <th>Df Residuals:</th>          <td>    55</td>      <th>  BIC:               </th> <td>   1810.</td>\n",
       "</tr>\n",
       "<tr>\n",
       "  <th>Df Model:</th>              <td>     1</td>      <th>                     </th>     <td> </td>   \n",
       "</tr>\n",
       "<tr>\n",
       "  <th>Covariance Type:</th>      <td>nonrobust</td>    <th>                     </th>     <td> </td>   \n",
       "</tr>\n",
       "</table>\n",
       "<table class=\"simpletable\">\n",
       "<tr>\n",
       "            <td></td>              <th>coef</th>     <th>std err</th>      <th>t</th>      <th>P>|t|</th>  <th>[0.025</th>    <th>0.975]</th>  \n",
       "</tr>\n",
       "<tr>\n",
       "  <th>Intercept</th>            <td> 4.871e+06</td> <td> 6.38e+05</td> <td>    7.631</td> <td> 0.000</td> <td> 3.59e+06</td> <td> 6.15e+06</td>\n",
       "</tr>\n",
       "<tr>\n",
       "  <th>distance_to_centroid</th> <td> -160.4272</td> <td>   46.558</td> <td>   -3.446</td> <td> 0.001</td> <td> -253.732</td> <td>  -67.123</td>\n",
       "</tr>\n",
       "</table>\n",
       "<table class=\"simpletable\">\n",
       "<tr>\n",
       "  <th>Omnibus:</th>       <td> 7.978</td> <th>  Durbin-Watson:     </th> <td>   1.955</td>\n",
       "</tr>\n",
       "<tr>\n",
       "  <th>Prob(Omnibus):</th> <td> 0.019</td> <th>  Jarque-Bera (JB):  </th> <td>   7.377</td>\n",
       "</tr>\n",
       "<tr>\n",
       "  <th>Skew:</th>          <td> 0.855</td> <th>  Prob(JB):          </th> <td>  0.0250</td>\n",
       "</tr>\n",
       "<tr>\n",
       "  <th>Kurtosis:</th>      <td> 3.428</td> <th>  Cond. No.          </th> <td>3.66e+04</td>\n",
       "</tr>\n",
       "</table><br/><br/>Notes:<br/>[1] Standard Errors assume that the covariance matrix of the errors is correctly specified.<br/>[2] The condition number is large, 3.66e+04. This might indicate that there are<br/>strong multicollinearity or other numerical problems."
      ],
      "text/plain": [
       "<class 'statsmodels.iolib.summary.Summary'>\n",
       "\"\"\"\n",
       "                            OLS Regression Results                            \n",
       "==============================================================================\n",
       "Dep. Variable:             total_area   R-squared:                       0.178\n",
       "Model:                            OLS   Adj. R-squared:                  0.163\n",
       "Method:                 Least Squares   F-statistic:                     11.87\n",
       "Date:                Thu, 14 Oct 2021   Prob (F-statistic):            0.00110\n",
       "Time:                        15:17:43   Log-Likelihood:                -900.94\n",
       "No. Observations:                  57   AIC:                             1806.\n",
       "Df Residuals:                      55   BIC:                             1810.\n",
       "Df Model:                           1                                         \n",
       "Covariance Type:            nonrobust                                         \n",
       "========================================================================================\n",
       "                           coef    std err          t      P>|t|      [0.025      0.975]\n",
       "----------------------------------------------------------------------------------------\n",
       "Intercept             4.871e+06   6.38e+05      7.631      0.000    3.59e+06    6.15e+06\n",
       "distance_to_centroid  -160.4272     46.558     -3.446      0.001    -253.732     -67.123\n",
       "==============================================================================\n",
       "Omnibus:                        7.978   Durbin-Watson:                   1.955\n",
       "Prob(Omnibus):                  0.019   Jarque-Bera (JB):                7.377\n",
       "Skew:                           0.855   Prob(JB):                       0.0250\n",
       "Kurtosis:                       3.428   Cond. No.                     3.66e+04\n",
       "==============================================================================\n",
       "\n",
       "Notes:\n",
       "[1] Standard Errors assume that the covariance matrix of the errors is correctly specified.\n",
       "[2] The condition number is large, 3.66e+04. This might indicate that there are\n",
       "strong multicollinearity or other numerical problems.\n",
       "\"\"\""
      ]
     },
     "execution_count": 219,
     "metadata": {},
     "output_type": "execute_result"
    },
    {
     "data": {
      "image/png": "[encoded data removed]",
      "text/plain": [
       "<Figure size 432x288 with 1 Axes>"
      ]
     },
     "metadata": {
      "needs_background": "light"
     },
     "output_type": "display_data"
    }
   ],
   "source": [
    "city_id = 4\n",
    "df_list[city_id].plot.scatter(x = 'distance_to_centroid', y = 'total_area')\n",
    "fit = ols('total_area ~ distance_to_centroid', data=df_list[city_id]).fit()\n",
    "print(list(set(df_list[city_id]['city']))[0])\n",
    "fit.summary()"
   ]
  },
  {
   "cell_type": "code",
   "execution_count": 220,
   "id": "f5cbe852",
   "metadata": {},
   "outputs": [
    {
     "name": "stdout",
     "output_type": "stream",
     "text": [
      "Hamburg\n"
     ]
    },
    {
     "name": "stderr",
     "output_type": "stream",
     "text": [
      "C:\\Users\\wolf.g\\Anaconda3\\lib\\site-packages\\statsmodels\\stats\\stattools.py:74: ValueWarning:\n",
      "\n",
      "omni_normtest is not valid with less than 8 observations; 2 samples were given.\n",
      "\n",
      "C:\\Users\\wolf.g\\Anaconda3\\lib\\site-packages\\statsmodels\\regression\\linear_model.py:1728: RuntimeWarning:\n",
      "\n",
      "divide by zero encountered in true_divide\n",
      "\n",
      "C:\\Users\\wolf.g\\Anaconda3\\lib\\site-packages\\statsmodels\\regression\\linear_model.py:1728: RuntimeWarning:\n",
      "\n",
      "invalid value encountered in double_scalars\n",
      "\n",
      "C:\\Users\\wolf.g\\Anaconda3\\lib\\site-packages\\statsmodels\\regression\\linear_model.py:1650: RuntimeWarning:\n",
      "\n",
      "divide by zero encountered in double_scalars\n",
      "\n"
     ]
    },
    {
     "data": {
      "text/html": [
       "<table class=\"simpletable\">\n",
       "<caption>OLS Regression Results</caption>\n",
       "<tr>\n",
       "  <th>Dep. Variable:</th>       <td>total_area</td>    <th>  R-squared:         </th> <td>   1.000</td>\n",
       "</tr>\n",
       "<tr>\n",
       "  <th>Model:</th>                   <td>OLS</td>       <th>  Adj. R-squared:    </th> <td>     nan</td>\n",
       "</tr>\n",
       "<tr>\n",
       "  <th>Method:</th>             <td>Least Squares</td>  <th>  F-statistic:       </th> <td>     nan</td>\n",
       "</tr>\n",
       "<tr>\n",
       "  <th>Date:</th>             <td>Thu, 14 Oct 2021</td> <th>  Prob (F-statistic):</th>  <td>   nan</td> \n",
       "</tr>\n",
       "<tr>\n",
       "  <th>Time:</th>                 <td>15:17:55</td>     <th>  Log-Likelihood:    </th> <td>  35.693</td>\n",
       "</tr>\n",
       "<tr>\n",
       "  <th>No. Observations:</th>      <td>     2</td>      <th>  AIC:               </th> <td>  -67.39</td>\n",
       "</tr>\n",
       "<tr>\n",
       "  <th>Df Residuals:</th>          <td>     0</td>      <th>  BIC:               </th> <td>  -70.00</td>\n",
       "</tr>\n",
       "<tr>\n",
       "  <th>Df Model:</th>              <td>     1</td>      <th>                     </th>     <td> </td>   \n",
       "</tr>\n",
       "<tr>\n",
       "  <th>Covariance Type:</th>      <td>nonrobust</td>    <th>                     </th>     <td> </td>   \n",
       "</tr>\n",
       "</table>\n",
       "<table class=\"simpletable\">\n",
       "<tr>\n",
       "            <td></td>              <th>coef</th>     <th>std err</th>      <th>t</th>      <th>P>|t|</th>  <th>[0.025</th>    <th>0.975]</th>  \n",
       "</tr>\n",
       "<tr>\n",
       "  <th>Intercept</th>            <td>-1.843e+07</td> <td>      inf</td> <td>       -0</td> <td>   nan</td> <td>      nan</td> <td>      nan</td>\n",
       "</tr>\n",
       "<tr>\n",
       "  <th>distance_to_centroid</th> <td> 1522.3187</td> <td>      inf</td> <td>        0</td> <td>   nan</td> <td>      nan</td> <td>      nan</td>\n",
       "</tr>\n",
       "</table>\n",
       "<table class=\"simpletable\">\n",
       "<tr>\n",
       "  <th>Omnibus:</th>       <td>   nan</td> <th>  Durbin-Watson:     </th> <td>   0.450</td>\n",
       "</tr>\n",
       "<tr>\n",
       "  <th>Prob(Omnibus):</th> <td>   nan</td> <th>  Jarque-Bera (JB):  </th> <td>   0.333</td>\n",
       "</tr>\n",
       "<tr>\n",
       "  <th>Skew:</th>          <td> 0.000</td> <th>  Prob(JB):          </th> <td>   0.846</td>\n",
       "</tr>\n",
       "<tr>\n",
       "  <th>Kurtosis:</th>      <td> 1.000</td> <th>  Cond. No.          </th> <td>5.14e+05</td>\n",
       "</tr>\n",
       "</table><br/><br/>Notes:<br/>[1] Standard Errors assume that the covariance matrix of the errors is correctly specified.<br/>[2] The condition number is large, 5.14e+05. This might indicate that there are<br/>strong multicollinearity or other numerical problems."
      ],
      "text/plain": [
       "<class 'statsmodels.iolib.summary.Summary'>\n",
       "\"\"\"\n",
       "                            OLS Regression Results                            \n",
       "==============================================================================\n",
       "Dep. Variable:             total_area   R-squared:                       1.000\n",
       "Model:                            OLS   Adj. R-squared:                    nan\n",
       "Method:                 Least Squares   F-statistic:                       nan\n",
       "Date:                Thu, 14 Oct 2021   Prob (F-statistic):                nan\n",
       "Time:                        15:17:55   Log-Likelihood:                 35.693\n",
       "No. Observations:                   2   AIC:                            -67.39\n",
       "Df Residuals:                       0   BIC:                            -70.00\n",
       "Df Model:                           1                                         \n",
       "Covariance Type:            nonrobust                                         \n",
       "========================================================================================\n",
       "                           coef    std err          t      P>|t|      [0.025      0.975]\n",
       "----------------------------------------------------------------------------------------\n",
       "Intercept            -1.843e+07        inf         -0        nan         nan         nan\n",
       "distance_to_centroid  1522.3187        inf          0        nan         nan         nan\n",
       "==============================================================================\n",
       "Omnibus:                          nan   Durbin-Watson:                   0.450\n",
       "Prob(Omnibus):                    nan   Jarque-Bera (JB):                0.333\n",
       "Skew:                           0.000   Prob(JB):                        0.846\n",
       "Kurtosis:                       1.000   Cond. No.                     5.14e+05\n",
       "==============================================================================\n",
       "\n",
       "Notes:\n",
       "[1] Standard Errors assume that the covariance matrix of the errors is correctly specified.\n",
       "[2] The condition number is large, 5.14e+05. This might indicate that there are\n",
       "strong multicollinearity or other numerical problems.\n",
       "\"\"\""
      ]
     },
     "execution_count": 220,
     "metadata": {},
     "output_type": "execute_result"
    },
    {
     "data": {
      "image/png": "[encoded data removed]",
      "text/plain": [
       "<Figure size 432x288 with 1 Axes>"
      ]
     },
     "metadata": {
      "needs_background": "light"
     },
     "output_type": "display_data"
    }
   ],
   "source": [
    "city_id = 5\n",
    "df_list[city_id].plot.scatter(x = 'distance_to_centroid', y = 'total_area')\n",
    "fit = ols('total_area ~ distance_to_centroid', data=df_list[city_id]).fit()\n",
    "print(list(set(df_list[city_id]['city']))[0])\n",
    "fit.summary()"
   ]
  },
  {
   "cell_type": "code",
   "execution_count": 222,
   "id": "76e6ca98",
   "metadata": {},
   "outputs": [
    {
     "name": "stdout",
     "output_type": "stream",
     "text": [
      "München\n"
     ]
    },
    {
     "data": {
      "text/html": [
       "<table class=\"simpletable\">\n",
       "<caption>OLS Regression Results</caption>\n",
       "<tr>\n",
       "  <th>Dep. Variable:</th>       <td>total_area</td>    <th>  R-squared:         </th> <td>   0.255</td>\n",
       "</tr>\n",
       "<tr>\n",
       "  <th>Model:</th>                   <td>OLS</td>       <th>  Adj. R-squared:    </th> <td>   0.243</td>\n",
       "</tr>\n",
       "<tr>\n",
       "  <th>Method:</th>             <td>Least Squares</td>  <th>  F-statistic:       </th> <td>   19.90</td>\n",
       "</tr>\n",
       "<tr>\n",
       "  <th>Date:</th>             <td>Thu, 14 Oct 2021</td> <th>  Prob (F-statistic):</th> <td>3.80e-05</td>\n",
       "</tr>\n",
       "<tr>\n",
       "  <th>Time:</th>                 <td>15:18:51</td>     <th>  Log-Likelihood:    </th> <td> -944.38</td>\n",
       "</tr>\n",
       "<tr>\n",
       "  <th>No. Observations:</th>      <td>    60</td>      <th>  AIC:               </th> <td>   1893.</td>\n",
       "</tr>\n",
       "<tr>\n",
       "  <th>Df Residuals:</th>          <td>    58</td>      <th>  BIC:               </th> <td>   1897.</td>\n",
       "</tr>\n",
       "<tr>\n",
       "  <th>Df Model:</th>              <td>     1</td>      <th>                     </th>     <td> </td>   \n",
       "</tr>\n",
       "<tr>\n",
       "  <th>Covariance Type:</th>      <td>nonrobust</td>    <th>                     </th>     <td> </td>   \n",
       "</tr>\n",
       "</table>\n",
       "<table class=\"simpletable\">\n",
       "<tr>\n",
       "            <td></td>              <th>coef</th>     <th>std err</th>      <th>t</th>      <th>P>|t|</th>  <th>[0.025</th>    <th>0.975]</th>  \n",
       "</tr>\n",
       "<tr>\n",
       "  <th>Intercept</th>            <td> 5.325e+06</td> <td> 5.92e+05</td> <td>    9.001</td> <td> 0.000</td> <td> 4.14e+06</td> <td> 6.51e+06</td>\n",
       "</tr>\n",
       "<tr>\n",
       "  <th>distance_to_centroid</th> <td> -345.8638</td> <td>   77.526</td> <td>   -4.461</td> <td> 0.000</td> <td> -501.048</td> <td> -190.680</td>\n",
       "</tr>\n",
       "</table>\n",
       "<table class=\"simpletable\">\n",
       "<tr>\n",
       "  <th>Omnibus:</th>       <td>24.284</td> <th>  Durbin-Watson:     </th> <td>   1.969</td>\n",
       "</tr>\n",
       "<tr>\n",
       "  <th>Prob(Omnibus):</th> <td> 0.000</td> <th>  Jarque-Bera (JB):  </th> <td>  38.737</td>\n",
       "</tr>\n",
       "<tr>\n",
       "  <th>Skew:</th>          <td> 1.438</td> <th>  Prob(JB):          </th> <td>3.88e-09</td>\n",
       "</tr>\n",
       "<tr>\n",
       "  <th>Kurtosis:</th>      <td> 5.688</td> <th>  Cond. No.          </th> <td>2.07e+04</td>\n",
       "</tr>\n",
       "</table><br/><br/>Notes:<br/>[1] Standard Errors assume that the covariance matrix of the errors is correctly specified.<br/>[2] The condition number is large, 2.07e+04. This might indicate that there are<br/>strong multicollinearity or other numerical problems."
      ],
      "text/plain": [
       "<class 'statsmodels.iolib.summary.Summary'>\n",
       "\"\"\"\n",
       "                            OLS Regression Results                            \n",
       "==============================================================================\n",
       "Dep. Variable:             total_area   R-squared:                       0.255\n",
       "Model:                            OLS   Adj. R-squared:                  0.243\n",
       "Method:                 Least Squares   F-statistic:                     19.90\n",
       "Date:                Thu, 14 Oct 2021   Prob (F-statistic):           3.80e-05\n",
       "Time:                        15:18:51   Log-Likelihood:                -944.38\n",
       "No. Observations:                  60   AIC:                             1893.\n",
       "Df Residuals:                      58   BIC:                             1897.\n",
       "Df Model:                           1                                         \n",
       "Covariance Type:            nonrobust                                         \n",
       "========================================================================================\n",
       "                           coef    std err          t      P>|t|      [0.025      0.975]\n",
       "----------------------------------------------------------------------------------------\n",
       "Intercept             5.325e+06   5.92e+05      9.001      0.000    4.14e+06    6.51e+06\n",
       "distance_to_centroid  -345.8638     77.526     -4.461      0.000    -501.048    -190.680\n",
       "==============================================================================\n",
       "Omnibus:                       24.284   Durbin-Watson:                   1.969\n",
       "Prob(Omnibus):                  0.000   Jarque-Bera (JB):               38.737\n",
       "Skew:                           1.438   Prob(JB):                     3.88e-09\n",
       "Kurtosis:                       5.688   Cond. No.                     2.07e+04\n",
       "==============================================================================\n",
       "\n",
       "Notes:\n",
       "[1] Standard Errors assume that the covariance matrix of the errors is correctly specified.\n",
       "[2] The condition number is large, 2.07e+04. This might indicate that there are\n",
       "strong multicollinearity or other numerical problems.\n",
       "\"\"\""
      ]
     },
     "execution_count": 222,
     "metadata": {},
     "output_type": "execute_result"
    },
    {
     "data": {
      "image/png": "[encoded data removed]",
      "text/plain": [
       "<Figure size 432x288 with 1 Axes>"
      ]
     },
     "metadata": {
      "needs_background": "light"
     },
     "output_type": "display_data"
    }
   ],
   "source": [
    "city_id = 6\n",
    "df_list[city_id].plot.scatter(x = 'distance_to_centroid', y = 'total_area')\n",
    "fit = ols('total_area ~ distance_to_centroid', data=df_list[city_id]).fit()\n",
    "print(list(set(df_list[city_id]['city']))[0])\n",
    "fit.summary()"
   ]
  },
  {
   "cell_type": "code",
   "execution_count": 223,
   "id": "6b7a1821",
   "metadata": {},
   "outputs": [
    {
     "name": "stdout",
     "output_type": "stream",
     "text": [
      "Dresden\n"
     ]
    },
    {
     "data": {
      "text/html": [
       "<table class=\"simpletable\">\n",
       "<caption>OLS Regression Results</caption>\n",
       "<tr>\n",
       "  <th>Dep. Variable:</th>       <td>total_area</td>    <th>  R-squared:         </th> <td>   0.203</td>\n",
       "</tr>\n",
       "<tr>\n",
       "  <th>Model:</th>                   <td>OLS</td>       <th>  Adj. R-squared:    </th> <td>   0.188</td>\n",
       "</tr>\n",
       "<tr>\n",
       "  <th>Method:</th>             <td>Least Squares</td>  <th>  F-statistic:       </th> <td>   13.75</td>\n",
       "</tr>\n",
       "<tr>\n",
       "  <th>Date:</th>             <td>Thu, 14 Oct 2021</td> <th>  Prob (F-statistic):</th> <td>0.000494</td>\n",
       "</tr>\n",
       "<tr>\n",
       "  <th>Time:</th>                 <td>15:19:06</td>     <th>  Log-Likelihood:    </th> <td> -882.27</td>\n",
       "</tr>\n",
       "<tr>\n",
       "  <th>No. Observations:</th>      <td>    56</td>      <th>  AIC:               </th> <td>   1769.</td>\n",
       "</tr>\n",
       "<tr>\n",
       "  <th>Df Residuals:</th>          <td>    54</td>      <th>  BIC:               </th> <td>   1773.</td>\n",
       "</tr>\n",
       "<tr>\n",
       "  <th>Df Model:</th>              <td>     1</td>      <th>                     </th>     <td> </td>   \n",
       "</tr>\n",
       "<tr>\n",
       "  <th>Covariance Type:</th>      <td>nonrobust</td>    <th>                     </th>     <td> </td>   \n",
       "</tr>\n",
       "</table>\n",
       "<table class=\"simpletable\">\n",
       "<tr>\n",
       "            <td></td>              <th>coef</th>     <th>std err</th>      <th>t</th>      <th>P>|t|</th>  <th>[0.025</th>    <th>0.975]</th>  \n",
       "</tr>\n",
       "<tr>\n",
       "  <th>Intercept</th>            <td> 4.343e+06</td> <td> 6.12e+05</td> <td>    7.094</td> <td> 0.000</td> <td> 3.12e+06</td> <td> 5.57e+06</td>\n",
       "</tr>\n",
       "<tr>\n",
       "  <th>distance_to_centroid</th> <td> -281.4113</td> <td>   75.892</td> <td>   -3.708</td> <td> 0.000</td> <td> -433.566</td> <td> -129.256</td>\n",
       "</tr>\n",
       "</table>\n",
       "<table class=\"simpletable\">\n",
       "<tr>\n",
       "  <th>Omnibus:</th>       <td>28.258</td> <th>  Durbin-Watson:     </th> <td>   2.033</td>\n",
       "</tr>\n",
       "<tr>\n",
       "  <th>Prob(Omnibus):</th> <td> 0.000</td> <th>  Jarque-Bera (JB):  </th> <td>  54.729</td>\n",
       "</tr>\n",
       "<tr>\n",
       "  <th>Skew:</th>          <td> 1.605</td> <th>  Prob(JB):          </th> <td>1.31e-12</td>\n",
       "</tr>\n",
       "<tr>\n",
       "  <th>Kurtosis:</th>      <td> 6.627</td> <th>  Cond. No.          </th> <td>2.16e+04</td>\n",
       "</tr>\n",
       "</table><br/><br/>Notes:<br/>[1] Standard Errors assume that the covariance matrix of the errors is correctly specified.<br/>[2] The condition number is large, 2.16e+04. This might indicate that there are<br/>strong multicollinearity or other numerical problems."
      ],
      "text/plain": [
       "<class 'statsmodels.iolib.summary.Summary'>\n",
       "\"\"\"\n",
       "                            OLS Regression Results                            \n",
       "==============================================================================\n",
       "Dep. Variable:             total_area   R-squared:                       0.203\n",
       "Model:                            OLS   Adj. R-squared:                  0.188\n",
       "Method:                 Least Squares   F-statistic:                     13.75\n",
       "Date:                Thu, 14 Oct 2021   Prob (F-statistic):           0.000494\n",
       "Time:                        15:19:06   Log-Likelihood:                -882.27\n",
       "No. Observations:                  56   AIC:                             1769.\n",
       "Df Residuals:                      54   BIC:                             1773.\n",
       "Df Model:                           1                                         \n",
       "Covariance Type:            nonrobust                                         \n",
       "========================================================================================\n",
       "                           coef    std err          t      P>|t|      [0.025      0.975]\n",
       "----------------------------------------------------------------------------------------\n",
       "Intercept             4.343e+06   6.12e+05      7.094      0.000    3.12e+06    5.57e+06\n",
       "distance_to_centroid  -281.4113     75.892     -3.708      0.000    -433.566    -129.256\n",
       "==============================================================================\n",
       "Omnibus:                       28.258   Durbin-Watson:                   2.033\n",
       "Prob(Omnibus):                  0.000   Jarque-Bera (JB):               54.729\n",
       "Skew:                           1.605   Prob(JB):                     1.31e-12\n",
       "Kurtosis:                       6.627   Cond. No.                     2.16e+04\n",
       "==============================================================================\n",
       "\n",
       "Notes:\n",
       "[1] Standard Errors assume that the covariance matrix of the errors is correctly specified.\n",
       "[2] The condition number is large, 2.16e+04. This might indicate that there are\n",
       "strong multicollinearity or other numerical problems.\n",
       "\"\"\""
      ]
     },
     "execution_count": 223,
     "metadata": {},
     "output_type": "execute_result"
    },
    {
     "data": {
      "image/png": "[encoded data removed]",
      "text/plain": [
       "<Figure size 432x288 with 1 Axes>"
      ]
     },
     "metadata": {
      "needs_background": "light"
     },
     "output_type": "display_data"
    }
   ],
   "source": [
    "city_id = 7\n",
    "df_list[city_id].plot.scatter(x = 'distance_to_centroid', y = 'total_area')\n",
    "fit = ols('total_area ~ distance_to_centroid', data=df_list[city_id]).fit()\n",
    "print(list(set(df_list[city_id]['city']))[0])\n",
    "fit.summary()"
   ]
  },
  {
   "cell_type": "code",
   "execution_count": 224,
   "id": "1fb7dcdf",
   "metadata": {},
   "outputs": [
    {
     "name": "stdout",
     "output_type": "stream",
     "text": [
      "Dortmund\n"
     ]
    },
    {
     "data": {
      "text/html": [
       "<table class=\"simpletable\">\n",
       "<caption>OLS Regression Results</caption>\n",
       "<tr>\n",
       "  <th>Dep. Variable:</th>       <td>total_area</td>    <th>  R-squared:         </th> <td>   0.063</td>\n",
       "</tr>\n",
       "<tr>\n",
       "  <th>Model:</th>                   <td>OLS</td>       <th>  Adj. R-squared:    </th> <td>   0.048</td>\n",
       "</tr>\n",
       "<tr>\n",
       "  <th>Method:</th>             <td>Least Squares</td>  <th>  F-statistic:       </th> <td>   4.123</td>\n",
       "</tr>\n",
       "<tr>\n",
       "  <th>Date:</th>             <td>Thu, 14 Oct 2021</td> <th>  Prob (F-statistic):</th>  <td>0.0467</td> \n",
       "</tr>\n",
       "<tr>\n",
       "  <th>Time:</th>                 <td>15:19:20</td>     <th>  Log-Likelihood:    </th> <td> -1009.3</td>\n",
       "</tr>\n",
       "<tr>\n",
       "  <th>No. Observations:</th>      <td>    63</td>      <th>  AIC:               </th> <td>   2023.</td>\n",
       "</tr>\n",
       "<tr>\n",
       "  <th>Df Residuals:</th>          <td>    61</td>      <th>  BIC:               </th> <td>   2027.</td>\n",
       "</tr>\n",
       "<tr>\n",
       "  <th>Df Model:</th>              <td>     1</td>      <th>                     </th>     <td> </td>   \n",
       "</tr>\n",
       "<tr>\n",
       "  <th>Covariance Type:</th>      <td>nonrobust</td>    <th>                     </th>     <td> </td>   \n",
       "</tr>\n",
       "</table>\n",
       "<table class=\"simpletable\">\n",
       "<tr>\n",
       "            <td></td>              <th>coef</th>     <th>std err</th>      <th>t</th>      <th>P>|t|</th>  <th>[0.025</th>    <th>0.975]</th>  \n",
       "</tr>\n",
       "<tr>\n",
       "  <th>Intercept</th>            <td> 4.399e+06</td> <td> 7.65e+05</td> <td>    5.747</td> <td> 0.000</td> <td> 2.87e+06</td> <td> 5.93e+06</td>\n",
       "</tr>\n",
       "<tr>\n",
       "  <th>distance_to_centroid</th> <td> -227.4183</td> <td>  112.002</td> <td>   -2.030</td> <td> 0.047</td> <td> -451.380</td> <td>   -3.457</td>\n",
       "</tr>\n",
       "</table>\n",
       "<table class=\"simpletable\">\n",
       "<tr>\n",
       "  <th>Omnibus:</th>       <td>13.654</td> <th>  Durbin-Watson:     </th> <td>   2.398</td>\n",
       "</tr>\n",
       "<tr>\n",
       "  <th>Prob(Omnibus):</th> <td> 0.001</td> <th>  Jarque-Bera (JB):  </th> <td>  14.691</td>\n",
       "</tr>\n",
       "<tr>\n",
       "  <th>Skew:</th>          <td> 1.109</td> <th>  Prob(JB):          </th> <td>0.000645</td>\n",
       "</tr>\n",
       "<tr>\n",
       "  <th>Kurtosis:</th>      <td> 3.823</td> <th>  Cond. No.          </th> <td>1.86e+04</td>\n",
       "</tr>\n",
       "</table><br/><br/>Notes:<br/>[1] Standard Errors assume that the covariance matrix of the errors is correctly specified.<br/>[2] The condition number is large, 1.86e+04. This might indicate that there are<br/>strong multicollinearity or other numerical problems."
      ],
      "text/plain": [
       "<class 'statsmodels.iolib.summary.Summary'>\n",
       "\"\"\"\n",
       "                            OLS Regression Results                            \n",
       "==============================================================================\n",
       "Dep. Variable:             total_area   R-squared:                       0.063\n",
       "Model:                            OLS   Adj. R-squared:                  0.048\n",
       "Method:                 Least Squares   F-statistic:                     4.123\n",
       "Date:                Thu, 14 Oct 2021   Prob (F-statistic):             0.0467\n",
       "Time:                        15:19:20   Log-Likelihood:                -1009.3\n",
       "No. Observations:                  63   AIC:                             2023.\n",
       "Df Residuals:                      61   BIC:                             2027.\n",
       "Df Model:                           1                                         \n",
       "Covariance Type:            nonrobust                                         \n",
       "========================================================================================\n",
       "                           coef    std err          t      P>|t|      [0.025      0.975]\n",
       "----------------------------------------------------------------------------------------\n",
       "Intercept             4.399e+06   7.65e+05      5.747      0.000    2.87e+06    5.93e+06\n",
       "distance_to_centroid  -227.4183    112.002     -2.030      0.047    -451.380      -3.457\n",
       "==============================================================================\n",
       "Omnibus:                       13.654   Durbin-Watson:                   2.398\n",
       "Prob(Omnibus):                  0.001   Jarque-Bera (JB):               14.691\n",
       "Skew:                           1.109   Prob(JB):                     0.000645\n",
       "Kurtosis:                       3.823   Cond. No.                     1.86e+04\n",
       "==============================================================================\n",
       "\n",
       "Notes:\n",
       "[1] Standard Errors assume that the covariance matrix of the errors is correctly specified.\n",
       "[2] The condition number is large, 1.86e+04. This might indicate that there are\n",
       "strong multicollinearity or other numerical problems.\n",
       "\"\"\""
      ]
     },
     "execution_count": 224,
     "metadata": {},
     "output_type": "execute_result"
    },
    {
     "data": {
      "image/png": "[encoded data removed]",
      "text/plain": [
       "<Figure size 432x288 with 1 Axes>"
      ]
     },
     "metadata": {
      "needs_background": "light"
     },
     "output_type": "display_data"
    }
   ],
   "source": [
    "city_id = 8\n",
    "df_list[city_id].plot.scatter(x = 'distance_to_centroid', y = 'total_area')\n",
    "fit = ols('total_area ~ distance_to_centroid', data=df_list[city_id]).fit()\n",
    "print(list(set(df_list[city_id]['city']))[0])\n",
    "fit.summary()"
   ]
  },
  {
   "cell_type": "code",
   "execution_count": 225,
   "id": "109c6271",
   "metadata": {},
   "outputs": [
    {
     "name": "stdout",
     "output_type": "stream",
     "text": [
      "Düsseldorf\n"
     ]
    },
    {
     "data": {
      "text/html": [
       "<table class=\"simpletable\">\n",
       "<caption>OLS Regression Results</caption>\n",
       "<tr>\n",
       "  <th>Dep. Variable:</th>       <td>total_area</td>    <th>  R-squared:         </th> <td>   0.146</td>\n",
       "</tr>\n",
       "<tr>\n",
       "  <th>Model:</th>                   <td>OLS</td>       <th>  Adj. R-squared:    </th> <td>   0.126</td>\n",
       "</tr>\n",
       "<tr>\n",
       "  <th>Method:</th>             <td>Least Squares</td>  <th>  F-statistic:       </th> <td>   7.510</td>\n",
       "</tr>\n",
       "<tr>\n",
       "  <th>Date:</th>             <td>Thu, 14 Oct 2021</td> <th>  Prob (F-statistic):</th>  <td>0.00883</td>\n",
       "</tr>\n",
       "<tr>\n",
       "  <th>Time:</th>                 <td>15:19:36</td>     <th>  Log-Likelihood:    </th> <td> -738.26</td>\n",
       "</tr>\n",
       "<tr>\n",
       "  <th>No. Observations:</th>      <td>    46</td>      <th>  AIC:               </th> <td>   1481.</td>\n",
       "</tr>\n",
       "<tr>\n",
       "  <th>Df Residuals:</th>          <td>    44</td>      <th>  BIC:               </th> <td>   1484.</td>\n",
       "</tr>\n",
       "<tr>\n",
       "  <th>Df Model:</th>              <td>     1</td>      <th>                     </th>     <td> </td>   \n",
       "</tr>\n",
       "<tr>\n",
       "  <th>Covariance Type:</th>      <td>nonrobust</td>    <th>                     </th>     <td> </td>   \n",
       "</tr>\n",
       "</table>\n",
       "<table class=\"simpletable\">\n",
       "<tr>\n",
       "            <td></td>              <th>coef</th>     <th>std err</th>      <th>t</th>      <th>P>|t|</th>  <th>[0.025</th>    <th>0.975]</th>  \n",
       "</tr>\n",
       "<tr>\n",
       "  <th>Intercept</th>            <td> 4.662e+06</td> <td>  8.1e+05</td> <td>    5.756</td> <td> 0.000</td> <td> 3.03e+06</td> <td> 6.29e+06</td>\n",
       "</tr>\n",
       "<tr>\n",
       "  <th>distance_to_centroid</th> <td> -304.2484</td> <td>  111.022</td> <td>   -2.740</td> <td> 0.009</td> <td> -527.999</td> <td>  -80.498</td>\n",
       "</tr>\n",
       "</table>\n",
       "<table class=\"simpletable\">\n",
       "<tr>\n",
       "  <th>Omnibus:</th>       <td>21.103</td> <th>  Durbin-Watson:     </th> <td>   2.095</td>\n",
       "</tr>\n",
       "<tr>\n",
       "  <th>Prob(Omnibus):</th> <td> 0.000</td> <th>  Jarque-Bera (JB):  </th> <td>  29.637</td>\n",
       "</tr>\n",
       "<tr>\n",
       "  <th>Skew:</th>          <td> 1.516</td> <th>  Prob(JB):          </th> <td>3.67e-07</td>\n",
       "</tr>\n",
       "<tr>\n",
       "  <th>Kurtosis:</th>      <td> 5.503</td> <th>  Cond. No.          </th> <td>1.74e+04</td>\n",
       "</tr>\n",
       "</table><br/><br/>Notes:<br/>[1] Standard Errors assume that the covariance matrix of the errors is correctly specified.<br/>[2] The condition number is large, 1.74e+04. This might indicate that there are<br/>strong multicollinearity or other numerical problems."
      ],
      "text/plain": [
       "<class 'statsmodels.iolib.summary.Summary'>\n",
       "\"\"\"\n",
       "                            OLS Regression Results                            \n",
       "==============================================================================\n",
       "Dep. Variable:             total_area   R-squared:                       0.146\n",
       "Model:                            OLS   Adj. R-squared:                  0.126\n",
       "Method:                 Least Squares   F-statistic:                     7.510\n",
       "Date:                Thu, 14 Oct 2021   Prob (F-statistic):            0.00883\n",
       "Time:                        15:19:36   Log-Likelihood:                -738.26\n",
       "No. Observations:                  46   AIC:                             1481.\n",
       "Df Residuals:                      44   BIC:                             1484.\n",
       "Df Model:                           1                                         \n",
       "Covariance Type:            nonrobust                                         \n",
       "========================================================================================\n",
       "                           coef    std err          t      P>|t|      [0.025      0.975]\n",
       "----------------------------------------------------------------------------------------\n",
       "Intercept             4.662e+06    8.1e+05      5.756      0.000    3.03e+06    6.29e+06\n",
       "distance_to_centroid  -304.2484    111.022     -2.740      0.009    -527.999     -80.498\n",
       "==============================================================================\n",
       "Omnibus:                       21.103   Durbin-Watson:                   2.095\n",
       "Prob(Omnibus):                  0.000   Jarque-Bera (JB):               29.637\n",
       "Skew:                           1.516   Prob(JB):                     3.67e-07\n",
       "Kurtosis:                       5.503   Cond. No.                     1.74e+04\n",
       "==============================================================================\n",
       "\n",
       "Notes:\n",
       "[1] Standard Errors assume that the covariance matrix of the errors is correctly specified.\n",
       "[2] The condition number is large, 1.74e+04. This might indicate that there are\n",
       "strong multicollinearity or other numerical problems.\n",
       "\"\"\""
      ]
     },
     "execution_count": 225,
     "metadata": {},
     "output_type": "execute_result"
    },
    {
     "data": {
      "image/png": "[encoded data removed]",
      "text/plain": [
       "<Figure size 432x288 with 1 Axes>"
      ]
     },
     "metadata": {
      "needs_background": "light"
     },
     "output_type": "display_data"
    }
   ],
   "source": [
    "city_id = 9\n",
    "df_list[city_id].plot.scatter(x = 'distance_to_centroid', y = 'total_area')\n",
    "fit = ols('total_area ~ distance_to_centroid', data=df_list[city_id]).fit()\n",
    "print(list(set(df_list[city_id]['city']))[0])\n",
    "fit.summary()"
   ]
  },
  {
   "cell_type": "code",
   "execution_count": 236,
   "id": "42611873",
   "metadata": {},
   "outputs": [],
   "source": [
    "df_cities = pd.concat(df_list)"
   ]
  },
  {
   "cell_type": "code",
   "execution_count": 237,
   "id": "95bbc35d",
   "metadata": {},
   "outputs": [
    {
     "data": {
      "text/html": [
       "<table class=\"simpletable\">\n",
       "<caption>OLS Regression Results</caption>\n",
       "<tr>\n",
       "  <th>Dep. Variable:</th>       <td>total_area</td>    <th>  R-squared:         </th>  <td>   0.075</td>  \n",
       "</tr>\n",
       "<tr>\n",
       "  <th>Model:</th>                   <td>OLS</td>       <th>  Adj. R-squared:    </th>  <td>   0.074</td>  \n",
       "</tr>\n",
       "<tr>\n",
       "  <th>Method:</th>             <td>Least Squares</td>  <th>  F-statistic:       </th>  <td>   536.7</td>  \n",
       "</tr>\n",
       "<tr>\n",
       "  <th>Date:</th>             <td>Thu, 14 Oct 2021</td> <th>  Prob (F-statistic):</th>  <td>2.91e-114</td> \n",
       "</tr>\n",
       "<tr>\n",
       "  <th>Time:</th>                 <td>16:10:34</td>     <th>  Log-Likelihood:    </th> <td>-1.0536e+05</td>\n",
       "</tr>\n",
       "<tr>\n",
       "  <th>No. Observations:</th>      <td>  6667</td>      <th>  AIC:               </th>  <td>2.107e+05</td> \n",
       "</tr>\n",
       "<tr>\n",
       "  <th>Df Residuals:</th>          <td>  6665</td>      <th>  BIC:               </th>  <td>2.107e+05</td> \n",
       "</tr>\n",
       "<tr>\n",
       "  <th>Df Model:</th>              <td>     1</td>      <th>                     </th>      <td> </td>     \n",
       "</tr>\n",
       "<tr>\n",
       "  <th>Covariance Type:</th>      <td>nonrobust</td>    <th>                     </th>      <td> </td>     \n",
       "</tr>\n",
       "</table>\n",
       "<table class=\"simpletable\">\n",
       "<tr>\n",
       "            <td></td>              <th>coef</th>     <th>std err</th>      <th>t</th>      <th>P>|t|</th>  <th>[0.025</th>    <th>0.975]</th>  \n",
       "</tr>\n",
       "<tr>\n",
       "  <th>Intercept</th>            <td>  3.06e+06</td> <td> 4.62e+04</td> <td>   66.234</td> <td> 0.000</td> <td> 2.97e+06</td> <td> 3.15e+06</td>\n",
       "</tr>\n",
       "<tr>\n",
       "  <th>distance_to_centroid</th> <td> -206.6075</td> <td>    8.918</td> <td>  -23.167</td> <td> 0.000</td> <td> -224.090</td> <td> -189.125</td>\n",
       "</tr>\n",
       "</table>\n",
       "<table class=\"simpletable\">\n",
       "<tr>\n",
       "  <th>Omnibus:</th>       <td>3009.839</td> <th>  Durbin-Watson:     </th> <td>   1.697</td> \n",
       "</tr>\n",
       "<tr>\n",
       "  <th>Prob(Omnibus):</th>  <td> 0.000</td>  <th>  Jarque-Bera (JB):  </th> <td>16956.454</td>\n",
       "</tr>\n",
       "<tr>\n",
       "  <th>Skew:</th>           <td> 2.126</td>  <th>  Prob(JB):          </th> <td>    0.00</td> \n",
       "</tr>\n",
       "<tr>\n",
       "  <th>Kurtosis:</th>       <td> 9.554</td>  <th>  Cond. No.          </th> <td>1.11e+04</td> \n",
       "</tr>\n",
       "</table><br/><br/>Notes:<br/>[1] Standard Errors assume that the covariance matrix of the errors is correctly specified.<br/>[2] The condition number is large, 1.11e+04. This might indicate that there are<br/>strong multicollinearity or other numerical problems."
      ],
      "text/plain": [
       "<class 'statsmodels.iolib.summary.Summary'>\n",
       "\"\"\"\n",
       "                            OLS Regression Results                            \n",
       "==============================================================================\n",
       "Dep. Variable:             total_area   R-squared:                       0.075\n",
       "Model:                            OLS   Adj. R-squared:                  0.074\n",
       "Method:                 Least Squares   F-statistic:                     536.7\n",
       "Date:                Thu, 14 Oct 2021   Prob (F-statistic):          2.91e-114\n",
       "Time:                        16:10:34   Log-Likelihood:            -1.0536e+05\n",
       "No. Observations:                6667   AIC:                         2.107e+05\n",
       "Df Residuals:                    6665   BIC:                         2.107e+05\n",
       "Df Model:                           1                                         \n",
       "Covariance Type:            nonrobust                                         \n",
       "========================================================================================\n",
       "                           coef    std err          t      P>|t|      [0.025      0.975]\n",
       "----------------------------------------------------------------------------------------\n",
       "Intercept              3.06e+06   4.62e+04     66.234      0.000    2.97e+06    3.15e+06\n",
       "distance_to_centroid  -206.6075      8.918    -23.167      0.000    -224.090    -189.125\n",
       "==============================================================================\n",
       "Omnibus:                     3009.839   Durbin-Watson:                   1.697\n",
       "Prob(Omnibus):                  0.000   Jarque-Bera (JB):            16956.454\n",
       "Skew:                           2.126   Prob(JB):                         0.00\n",
       "Kurtosis:                       9.554   Cond. No.                     1.11e+04\n",
       "==============================================================================\n",
       "\n",
       "Notes:\n",
       "[1] Standard Errors assume that the covariance matrix of the errors is correctly specified.\n",
       "[2] The condition number is large, 1.11e+04. This might indicate that there are\n",
       "strong multicollinearity or other numerical problems.\n",
       "\"\"\""
      ]
     },
     "execution_count": 237,
     "metadata": {},
     "output_type": "execute_result"
    },
    {
     "data": {
      "image/png": "[encoded data removed]",
      "text/plain": [
       "<Figure size 432x288 with 1 Axes>"
      ]
     },
     "metadata": {
      "needs_background": "light"
     },
     "output_type": "display_data"
    }
   ],
   "source": [
    "df_cities.plot.scatter(x = 'distance_to_centroid', y = 'total_area')\n",
    "fit = ols('total_area ~ distance_to_centroid', data=df_cities).fit()\n",
    "fit.summary()"
   ]
  },
  {
   "cell_type": "code",
   "execution_count": 238,
   "id": "defd0224",
   "metadata": {},
   "outputs": [],
   "source": [
    "df_cities['log_distance'] = np.log(df_cities['distance_to_centroid'])\n",
    "df_cities['log_area'] = np.log(df_cities['total_area'])"
   ]
  },
  {
   "cell_type": "code",
   "execution_count": 239,
   "id": "e960e330",
   "metadata": {},
   "outputs": [
    {
     "data": {
      "text/html": [
       "<table class=\"simpletable\">\n",
       "<caption>OLS Regression Results</caption>\n",
       "<tr>\n",
       "  <th>Dep. Variable:</th>        <td>log_area</td>     <th>  R-squared:         </th> <td>   0.108</td> \n",
       "</tr>\n",
       "<tr>\n",
       "  <th>Model:</th>                   <td>OLS</td>       <th>  Adj. R-squared:    </th> <td>   0.108</td> \n",
       "</tr>\n",
       "<tr>\n",
       "  <th>Method:</th>             <td>Least Squares</td>  <th>  F-statistic:       </th> <td>   804.7</td> \n",
       "</tr>\n",
       "<tr>\n",
       "  <th>Date:</th>             <td>Thu, 14 Oct 2021</td> <th>  Prob (F-statistic):</th> <td>3.16e-167</td>\n",
       "</tr>\n",
       "<tr>\n",
       "  <th>Time:</th>                 <td>16:10:48</td>     <th>  Log-Likelihood:    </th> <td> -7401.5</td> \n",
       "</tr>\n",
       "<tr>\n",
       "  <th>No. Observations:</th>      <td>  6667</td>      <th>  AIC:               </th> <td>1.481e+04</td>\n",
       "</tr>\n",
       "<tr>\n",
       "  <th>Df Residuals:</th>          <td>  6665</td>      <th>  BIC:               </th> <td>1.482e+04</td>\n",
       "</tr>\n",
       "<tr>\n",
       "  <th>Df Model:</th>              <td>     1</td>      <th>                     </th>     <td> </td>    \n",
       "</tr>\n",
       "<tr>\n",
       "  <th>Covariance Type:</th>      <td>nonrobust</td>    <th>                     </th>     <td> </td>    \n",
       "</tr>\n",
       "</table>\n",
       "<table class=\"simpletable\">\n",
       "<tr>\n",
       "        <td></td>          <th>coef</th>     <th>std err</th>      <th>t</th>      <th>P>|t|</th>  <th>[0.025</th>    <th>0.975]</th>  \n",
       "</tr>\n",
       "<tr>\n",
       "  <th>Intercept</th>    <td>   17.9653</td> <td>    0.131</td> <td>  137.312</td> <td> 0.000</td> <td>   17.709</td> <td>   18.222</td>\n",
       "</tr>\n",
       "<tr>\n",
       "  <th>log_distance</th> <td>   -0.4470</td> <td>    0.016</td> <td>  -28.368</td> <td> 0.000</td> <td>   -0.478</td> <td>   -0.416</td>\n",
       "</tr>\n",
       "</table>\n",
       "<table class=\"simpletable\">\n",
       "<tr>\n",
       "  <th>Omnibus:</th>       <td>70.876</td> <th>  Durbin-Watson:     </th> <td>   1.607</td>\n",
       "</tr>\n",
       "<tr>\n",
       "  <th>Prob(Omnibus):</th> <td> 0.000</td> <th>  Jarque-Bera (JB):  </th> <td> 114.709</td>\n",
       "</tr>\n",
       "<tr>\n",
       "  <th>Skew:</th>          <td>-0.067</td> <th>  Prob(JB):          </th> <td>1.23e-25</td>\n",
       "</tr>\n",
       "<tr>\n",
       "  <th>Kurtosis:</th>      <td> 3.628</td> <th>  Cond. No.          </th> <td>    123.</td>\n",
       "</tr>\n",
       "</table><br/><br/>Notes:<br/>[1] Standard Errors assume that the covariance matrix of the errors is correctly specified."
      ],
      "text/plain": [
       "<class 'statsmodels.iolib.summary.Summary'>\n",
       "\"\"\"\n",
       "                            OLS Regression Results                            \n",
       "==============================================================================\n",
       "Dep. Variable:               log_area   R-squared:                       0.108\n",
       "Model:                            OLS   Adj. R-squared:                  0.108\n",
       "Method:                 Least Squares   F-statistic:                     804.7\n",
       "Date:                Thu, 14 Oct 2021   Prob (F-statistic):          3.16e-167\n",
       "Time:                        16:10:48   Log-Likelihood:                -7401.5\n",
       "No. Observations:                6667   AIC:                         1.481e+04\n",
       "Df Residuals:                    6665   BIC:                         1.482e+04\n",
       "Df Model:                           1                                         \n",
       "Covariance Type:            nonrobust                                         \n",
       "================================================================================\n",
       "                   coef    std err          t      P>|t|      [0.025      0.975]\n",
       "--------------------------------------------------------------------------------\n",
       "Intercept       17.9653      0.131    137.312      0.000      17.709      18.222\n",
       "log_distance    -0.4470      0.016    -28.368      0.000      -0.478      -0.416\n",
       "==============================================================================\n",
       "Omnibus:                       70.876   Durbin-Watson:                   1.607\n",
       "Prob(Omnibus):                  0.000   Jarque-Bera (JB):              114.709\n",
       "Skew:                          -0.067   Prob(JB):                     1.23e-25\n",
       "Kurtosis:                       3.628   Cond. No.                         123.\n",
       "==============================================================================\n",
       "\n",
       "Notes:\n",
       "[1] Standard Errors assume that the covariance matrix of the errors is correctly specified.\n",
       "\"\"\""
      ]
     },
     "execution_count": 239,
     "metadata": {},
     "output_type": "execute_result"
    },
    {
     "data": {
      "image/png": "[encoded data removed]",
      "text/plain": [
       "<Figure size 432x288 with 1 Axes>"
      ]
     },
     "metadata": {
      "needs_background": "light"
     },
     "output_type": "display_data"
    }
   ],
   "source": [
    "df_cities.plot.scatter(x = 'log_distance', y = 'log_area')\n",
    "fit = ols('log_area ~ log_distance', data=df_cities).fit()\n",
    "fit.summary()"
   ]
  },
  {
   "cell_type": "code",
   "execution_count": 241,
   "id": "c34254dd",
   "metadata": {},
   "outputs": [],
   "source": [
    "# df_cities.to_csv(\"isochrone_maps_distance.csv\")"
   ]
  }
 ],
 "metadata": {
  "kernelspec": {
   "display_name": "Python 3",
   "language": "python",
   "name": "python3"
  },
  "language_info": {
   "codemirror_mode": {
    "name": "ipython",
    "version": 3
   },
   "file_extension": ".py",
   "mimetype": "text/x-python",
   "name": "python",
   "nbconvert_exporter": "python",
   "pygments_lexer": "ipython3",
   "version": "3.8.8"
  }
 },
 "nbformat": 4,
 "nbformat_minor": 5
}
